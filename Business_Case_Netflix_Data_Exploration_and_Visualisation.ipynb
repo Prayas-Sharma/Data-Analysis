{
  "nbformat": 4,
  "nbformat_minor": 0,
  "metadata": {
    "colab": {
      "provenance": []
    },
    "kernelspec": {
      "name": "python3",
      "display_name": "Python 3"
    },
    "language_info": {
      "name": "python"
    }
  },
  "cells": [
    {
      "cell_type": "markdown",
      "source": [
        "Lets us download and examine the date to further explore and analyse"
      ],
      "metadata": {
        "id": "fxzX6_8-oFqg"
      }
    },
    {
      "cell_type": "code",
      "execution_count": null,
      "metadata": {
        "colab": {
          "base_uri": "https://localhost:8080/"
        },
        "id": "relyCUGBNt-e",
        "outputId": "ae5c507a-6714-40e2-c8dd-08ff03234e3c"
      },
      "outputs": [
        {
          "output_type": "stream",
          "name": "stdout",
          "text": [
            "--2023-02-19 09:07:22--  https://d2beiqkhq929f0.cloudfront.net/public_assets/assets/000/000/940/original/netflix.csv\n",
            "Resolving d2beiqkhq929f0.cloudfront.net (d2beiqkhq929f0.cloudfront.net)... 52.222.232.229, 52.222.232.30, 52.222.232.69, ...\n",
            "Connecting to d2beiqkhq929f0.cloudfront.net (d2beiqkhq929f0.cloudfront.net)|52.222.232.229|:443... connected.\n",
            "HTTP request sent, awaiting response... 200 OK\n",
            "Length: 3399671 (3.2M) [text/plain]\n",
            "Saving to: ‘netflix.csv’\n",
            "\n",
            "\rnetflix.csv           0%[                    ]       0  --.-KB/s               \rnetflix.csv         100%[===================>]   3.24M  --.-KB/s    in 0.06s   \n",
            "\n",
            "2023-02-19 09:07:22 (58.4 MB/s) - ‘netflix.csv’ saved [3399671/3399671]\n",
            "\n"
          ]
        }
      ],
      "source": [
        "!wget https://d2beiqkhq929f0.cloudfront.net/public_assets/assets/000/000/940/original/netflix.csv -O netflix.csv"
      ]
    },
    {
      "cell_type": "code",
      "source": [
        "!ls"
      ],
      "metadata": {
        "colab": {
          "base_uri": "https://localhost:8080/"
        },
        "id": "tEr-y607ORwd",
        "outputId": "d1118a31-305c-4234-8177-88bd03c3733a"
      },
      "execution_count": null,
      "outputs": [
        {
          "output_type": "stream",
          "name": "stdout",
          "text": [
            "netflix.csv  sample_data\n"
          ]
        }
      ]
    },
    {
      "cell_type": "code",
      "source": [
        "import numpy as np\n",
        "import pandas as pd\n",
        "import matplotlib.pyplot as plt\n",
        "import seaborn as sns"
      ],
      "metadata": {
        "id": "8LG9PMkcOZNj"
      },
      "execution_count": null,
      "outputs": []
    },
    {
      "cell_type": "code",
      "source": [
        "data = pd.read_csv('netflix.csv')"
      ],
      "metadata": {
        "id": "df6YmWP9OVPm"
      },
      "execution_count": null,
      "outputs": []
    },
    {
      "cell_type": "markdown",
      "source": [
        "# 1. Defining Problem Statement and Analysing basic metrics"
      ],
      "metadata": {
        "id": "mudkDtHWvYZL"
      }
    },
    {
      "cell_type": "code",
      "source": [
        "data.head()"
      ],
      "metadata": {
        "colab": {
          "base_uri": "https://localhost:8080/",
          "height": 406
        },
        "id": "ZadNWbkTvPjB",
        "outputId": "d72327b2-541a-4269-f440-c95c8fa67225"
      },
      "execution_count": null,
      "outputs": [
        {
          "output_type": "execute_result",
          "data": {
            "text/plain": [
              "  show_id     type                  title         director  \\\n",
              "0      s1    Movie   Dick Johnson Is Dead  Kirsten Johnson   \n",
              "1      s2  TV Show          Blood & Water              NaN   \n",
              "2      s3  TV Show              Ganglands  Julien Leclercq   \n",
              "3      s4  TV Show  Jailbirds New Orleans              NaN   \n",
              "4      s5  TV Show           Kota Factory              NaN   \n",
              "\n",
              "                                                cast        country  \\\n",
              "0                                                NaN  United States   \n",
              "1  Ama Qamata, Khosi Ngema, Gail Mabalane, Thaban...   South Africa   \n",
              "2  Sami Bouajila, Tracy Gotoas, Samuel Jouy, Nabi...            NaN   \n",
              "3                                                NaN            NaN   \n",
              "4  Mayur More, Jitendra Kumar, Ranjan Raj, Alam K...          India   \n",
              "\n",
              "           date_added  release_year rating   duration  \\\n",
              "0  September 25, 2021          2020  PG-13     90 min   \n",
              "1  September 24, 2021          2021  TV-MA  2 Seasons   \n",
              "2  September 24, 2021          2021  TV-MA   1 Season   \n",
              "3  September 24, 2021          2021  TV-MA   1 Season   \n",
              "4  September 24, 2021          2021  TV-MA  2 Seasons   \n",
              "\n",
              "                                           listed_in  \\\n",
              "0                                      Documentaries   \n",
              "1    International TV Shows, TV Dramas, TV Mysteries   \n",
              "2  Crime TV Shows, International TV Shows, TV Act...   \n",
              "3                             Docuseries, Reality TV   \n",
              "4  International TV Shows, Romantic TV Shows, TV ...   \n",
              "\n",
              "                                         description  \n",
              "0  As her father nears the end of his life, filmm...  \n",
              "1  After crossing paths at a party, a Cape Town t...  \n",
              "2  To protect his family from a powerful drug lor...  \n",
              "3  Feuds, flirtations and toilet talk go down amo...  \n",
              "4  In a city of coaching centers known to train I...  "
            ],
            "text/html": [
              "\n",
              "  <div id=\"df-12c68998-f243-4a77-b7c7-12faf484a977\">\n",
              "    <div class=\"colab-df-container\">\n",
              "      <div>\n",
              "<style scoped>\n",
              "    .dataframe tbody tr th:only-of-type {\n",
              "        vertical-align: middle;\n",
              "    }\n",
              "\n",
              "    .dataframe tbody tr th {\n",
              "        vertical-align: top;\n",
              "    }\n",
              "\n",
              "    .dataframe thead th {\n",
              "        text-align: right;\n",
              "    }\n",
              "</style>\n",
              "<table border=\"1\" class=\"dataframe\">\n",
              "  <thead>\n",
              "    <tr style=\"text-align: right;\">\n",
              "      <th></th>\n",
              "      <th>show_id</th>\n",
              "      <th>type</th>\n",
              "      <th>title</th>\n",
              "      <th>director</th>\n",
              "      <th>cast</th>\n",
              "      <th>country</th>\n",
              "      <th>date_added</th>\n",
              "      <th>release_year</th>\n",
              "      <th>rating</th>\n",
              "      <th>duration</th>\n",
              "      <th>listed_in</th>\n",
              "      <th>description</th>\n",
              "    </tr>\n",
              "  </thead>\n",
              "  <tbody>\n",
              "    <tr>\n",
              "      <th>0</th>\n",
              "      <td>s1</td>\n",
              "      <td>Movie</td>\n",
              "      <td>Dick Johnson Is Dead</td>\n",
              "      <td>Kirsten Johnson</td>\n",
              "      <td>NaN</td>\n",
              "      <td>United States</td>\n",
              "      <td>September 25, 2021</td>\n",
              "      <td>2020</td>\n",
              "      <td>PG-13</td>\n",
              "      <td>90 min</td>\n",
              "      <td>Documentaries</td>\n",
              "      <td>As her father nears the end of his life, filmm...</td>\n",
              "    </tr>\n",
              "    <tr>\n",
              "      <th>1</th>\n",
              "      <td>s2</td>\n",
              "      <td>TV Show</td>\n",
              "      <td>Blood &amp; Water</td>\n",
              "      <td>NaN</td>\n",
              "      <td>Ama Qamata, Khosi Ngema, Gail Mabalane, Thaban...</td>\n",
              "      <td>South Africa</td>\n",
              "      <td>September 24, 2021</td>\n",
              "      <td>2021</td>\n",
              "      <td>TV-MA</td>\n",
              "      <td>2 Seasons</td>\n",
              "      <td>International TV Shows, TV Dramas, TV Mysteries</td>\n",
              "      <td>After crossing paths at a party, a Cape Town t...</td>\n",
              "    </tr>\n",
              "    <tr>\n",
              "      <th>2</th>\n",
              "      <td>s3</td>\n",
              "      <td>TV Show</td>\n",
              "      <td>Ganglands</td>\n",
              "      <td>Julien Leclercq</td>\n",
              "      <td>Sami Bouajila, Tracy Gotoas, Samuel Jouy, Nabi...</td>\n",
              "      <td>NaN</td>\n",
              "      <td>September 24, 2021</td>\n",
              "      <td>2021</td>\n",
              "      <td>TV-MA</td>\n",
              "      <td>1 Season</td>\n",
              "      <td>Crime TV Shows, International TV Shows, TV Act...</td>\n",
              "      <td>To protect his family from a powerful drug lor...</td>\n",
              "    </tr>\n",
              "    <tr>\n",
              "      <th>3</th>\n",
              "      <td>s4</td>\n",
              "      <td>TV Show</td>\n",
              "      <td>Jailbirds New Orleans</td>\n",
              "      <td>NaN</td>\n",
              "      <td>NaN</td>\n",
              "      <td>NaN</td>\n",
              "      <td>September 24, 2021</td>\n",
              "      <td>2021</td>\n",
              "      <td>TV-MA</td>\n",
              "      <td>1 Season</td>\n",
              "      <td>Docuseries, Reality TV</td>\n",
              "      <td>Feuds, flirtations and toilet talk go down amo...</td>\n",
              "    </tr>\n",
              "    <tr>\n",
              "      <th>4</th>\n",
              "      <td>s5</td>\n",
              "      <td>TV Show</td>\n",
              "      <td>Kota Factory</td>\n",
              "      <td>NaN</td>\n",
              "      <td>Mayur More, Jitendra Kumar, Ranjan Raj, Alam K...</td>\n",
              "      <td>India</td>\n",
              "      <td>September 24, 2021</td>\n",
              "      <td>2021</td>\n",
              "      <td>TV-MA</td>\n",
              "      <td>2 Seasons</td>\n",
              "      <td>International TV Shows, Romantic TV Shows, TV ...</td>\n",
              "      <td>In a city of coaching centers known to train I...</td>\n",
              "    </tr>\n",
              "  </tbody>\n",
              "</table>\n",
              "</div>\n",
              "      <button class=\"colab-df-convert\" onclick=\"convertToInteractive('df-12c68998-f243-4a77-b7c7-12faf484a977')\"\n",
              "              title=\"Convert this dataframe to an interactive table.\"\n",
              "              style=\"display:none;\">\n",
              "        \n",
              "  <svg xmlns=\"http://www.w3.org/2000/svg\" height=\"24px\"viewBox=\"0 0 24 24\"\n",
              "       width=\"24px\">\n",
              "    <path d=\"M0 0h24v24H0V0z\" fill=\"none\"/>\n",
              "    <path d=\"M18.56 5.44l.94 2.06.94-2.06 2.06-.94-2.06-.94-.94-2.06-.94 2.06-2.06.94zm-11 1L8.5 8.5l.94-2.06 2.06-.94-2.06-.94L8.5 2.5l-.94 2.06-2.06.94zm10 10l.94 2.06.94-2.06 2.06-.94-2.06-.94-.94-2.06-.94 2.06-2.06.94z\"/><path d=\"M17.41 7.96l-1.37-1.37c-.4-.4-.92-.59-1.43-.59-.52 0-1.04.2-1.43.59L10.3 9.45l-7.72 7.72c-.78.78-.78 2.05 0 2.83L4 21.41c.39.39.9.59 1.41.59.51 0 1.02-.2 1.41-.59l7.78-7.78 2.81-2.81c.8-.78.8-2.07 0-2.86zM5.41 20L4 18.59l7.72-7.72 1.47 1.35L5.41 20z\"/>\n",
              "  </svg>\n",
              "      </button>\n",
              "      \n",
              "  <style>\n",
              "    .colab-df-container {\n",
              "      display:flex;\n",
              "      flex-wrap:wrap;\n",
              "      gap: 12px;\n",
              "    }\n",
              "\n",
              "    .colab-df-convert {\n",
              "      background-color: #E8F0FE;\n",
              "      border: none;\n",
              "      border-radius: 50%;\n",
              "      cursor: pointer;\n",
              "      display: none;\n",
              "      fill: #1967D2;\n",
              "      height: 32px;\n",
              "      padding: 0 0 0 0;\n",
              "      width: 32px;\n",
              "    }\n",
              "\n",
              "    .colab-df-convert:hover {\n",
              "      background-color: #E2EBFA;\n",
              "      box-shadow: 0px 1px 2px rgba(60, 64, 67, 0.3), 0px 1px 3px 1px rgba(60, 64, 67, 0.15);\n",
              "      fill: #174EA6;\n",
              "    }\n",
              "\n",
              "    [theme=dark] .colab-df-convert {\n",
              "      background-color: #3B4455;\n",
              "      fill: #D2E3FC;\n",
              "    }\n",
              "\n",
              "    [theme=dark] .colab-df-convert:hover {\n",
              "      background-color: #434B5C;\n",
              "      box-shadow: 0px 1px 3px 1px rgba(0, 0, 0, 0.15);\n",
              "      filter: drop-shadow(0px 1px 2px rgba(0, 0, 0, 0.3));\n",
              "      fill: #FFFFFF;\n",
              "    }\n",
              "  </style>\n",
              "\n",
              "      <script>\n",
              "        const buttonEl =\n",
              "          document.querySelector('#df-12c68998-f243-4a77-b7c7-12faf484a977 button.colab-df-convert');\n",
              "        buttonEl.style.display =\n",
              "          google.colab.kernel.accessAllowed ? 'block' : 'none';\n",
              "\n",
              "        async function convertToInteractive(key) {\n",
              "          const element = document.querySelector('#df-12c68998-f243-4a77-b7c7-12faf484a977');\n",
              "          const dataTable =\n",
              "            await google.colab.kernel.invokeFunction('convertToInteractive',\n",
              "                                                     [key], {});\n",
              "          if (!dataTable) return;\n",
              "\n",
              "          const docLinkHtml = 'Like what you see? Visit the ' +\n",
              "            '<a target=\"_blank\" href=https://colab.research.google.com/notebooks/data_table.ipynb>data table notebook</a>'\n",
              "            + ' to learn more about interactive tables.';\n",
              "          element.innerHTML = '';\n",
              "          dataTable['output_type'] = 'display_data';\n",
              "          await google.colab.output.renderOutput(dataTable, element);\n",
              "          const docLink = document.createElement('div');\n",
              "          docLink.innerHTML = docLinkHtml;\n",
              "          element.appendChild(docLink);\n",
              "        }\n",
              "      </script>\n",
              "    </div>\n",
              "  </div>\n",
              "  "
            ]
          },
          "metadata": {},
          "execution_count": 5
        }
      ]
    },
    {
      "cell_type": "markdown",
      "source": [
        "When we look into the Data we can see following points:\n",
        "\n",
        "1) Columns like cast, listed_in, country has nested data.\n",
        "\n",
        "\n",
        "2) Data columns like directors, casts, country, date_added, rating and duration has null values.\n",
        "\n",
        "3)Except release_year (data type = int) all other columns have same dataype {Object}."
      ],
      "metadata": {
        "id": "yMWO9n-soWyJ"
      }
    },
    {
      "cell_type": "markdown",
      "source": [
        "Problem Statement 1) \n",
        "\n",
        "                  Let us look into nested data and pivot it so we can visualise better"
      ],
      "metadata": {
        "id": "E3bVt6TDxcRz"
      }
    },
    {
      "cell_type": "code",
      "source": [
        "data_cast = data['cast'].apply(lambda x:str(x).split(',')).tolist()\n",
        "df_cast = pd.DataFrame(data_cast, index = data['title'])\n",
        "df_cast = df_cast.stack()\n",
        "df_cast = pd.DataFrame(df_cast)\n",
        "df_cast.reset_index(inplace = True)\n",
        "df_cast = df_cast[['title',0]]\n",
        "df_cast.columns = ['title', 'cast']"
      ],
      "metadata": {
        "id": "-G8PKQKmxODT"
      },
      "execution_count": null,
      "outputs": []
    },
    {
      "cell_type": "code",
      "source": [
        "df_cast"
      ],
      "metadata": {
        "colab": {
          "base_uri": "https://localhost:8080/",
          "height": 424
        },
        "id": "y6yQPabQye3X",
        "outputId": "63bda164-d9b4-4026-bcae-814ecfe199c8"
      },
      "execution_count": null,
      "outputs": [
        {
          "output_type": "execute_result",
          "data": {
            "text/plain": [
              "                      title                    cast\n",
              "0      Dick Johnson Is Dead                     nan\n",
              "1             Blood & Water              Ama Qamata\n",
              "2             Blood & Water             Khosi Ngema\n",
              "3             Blood & Water           Gail Mabalane\n",
              "4             Blood & Water          Thabang Molaba\n",
              "...                     ...                     ...\n",
              "64946                Zubaan        Manish Chaudhary\n",
              "64947                Zubaan            Meghna Malik\n",
              "64948                Zubaan           Malkeet Rauni\n",
              "64949                Zubaan          Anita Shabdish\n",
              "64950                Zubaan   Chittaranjan Tripathy\n",
              "\n",
              "[64951 rows x 2 columns]"
            ],
            "text/html": [
              "\n",
              "  <div id=\"df-cf545920-3299-4721-9e0b-20e2dd56251e\">\n",
              "    <div class=\"colab-df-container\">\n",
              "      <div>\n",
              "<style scoped>\n",
              "    .dataframe tbody tr th:only-of-type {\n",
              "        vertical-align: middle;\n",
              "    }\n",
              "\n",
              "    .dataframe tbody tr th {\n",
              "        vertical-align: top;\n",
              "    }\n",
              "\n",
              "    .dataframe thead th {\n",
              "        text-align: right;\n",
              "    }\n",
              "</style>\n",
              "<table border=\"1\" class=\"dataframe\">\n",
              "  <thead>\n",
              "    <tr style=\"text-align: right;\">\n",
              "      <th></th>\n",
              "      <th>title</th>\n",
              "      <th>cast</th>\n",
              "    </tr>\n",
              "  </thead>\n",
              "  <tbody>\n",
              "    <tr>\n",
              "      <th>0</th>\n",
              "      <td>Dick Johnson Is Dead</td>\n",
              "      <td>nan</td>\n",
              "    </tr>\n",
              "    <tr>\n",
              "      <th>1</th>\n",
              "      <td>Blood &amp; Water</td>\n",
              "      <td>Ama Qamata</td>\n",
              "    </tr>\n",
              "    <tr>\n",
              "      <th>2</th>\n",
              "      <td>Blood &amp; Water</td>\n",
              "      <td>Khosi Ngema</td>\n",
              "    </tr>\n",
              "    <tr>\n",
              "      <th>3</th>\n",
              "      <td>Blood &amp; Water</td>\n",
              "      <td>Gail Mabalane</td>\n",
              "    </tr>\n",
              "    <tr>\n",
              "      <th>4</th>\n",
              "      <td>Blood &amp; Water</td>\n",
              "      <td>Thabang Molaba</td>\n",
              "    </tr>\n",
              "    <tr>\n",
              "      <th>...</th>\n",
              "      <td>...</td>\n",
              "      <td>...</td>\n",
              "    </tr>\n",
              "    <tr>\n",
              "      <th>64946</th>\n",
              "      <td>Zubaan</td>\n",
              "      <td>Manish Chaudhary</td>\n",
              "    </tr>\n",
              "    <tr>\n",
              "      <th>64947</th>\n",
              "      <td>Zubaan</td>\n",
              "      <td>Meghna Malik</td>\n",
              "    </tr>\n",
              "    <tr>\n",
              "      <th>64948</th>\n",
              "      <td>Zubaan</td>\n",
              "      <td>Malkeet Rauni</td>\n",
              "    </tr>\n",
              "    <tr>\n",
              "      <th>64949</th>\n",
              "      <td>Zubaan</td>\n",
              "      <td>Anita Shabdish</td>\n",
              "    </tr>\n",
              "    <tr>\n",
              "      <th>64950</th>\n",
              "      <td>Zubaan</td>\n",
              "      <td>Chittaranjan Tripathy</td>\n",
              "    </tr>\n",
              "  </tbody>\n",
              "</table>\n",
              "<p>64951 rows × 2 columns</p>\n",
              "</div>\n",
              "      <button class=\"colab-df-convert\" onclick=\"convertToInteractive('df-cf545920-3299-4721-9e0b-20e2dd56251e')\"\n",
              "              title=\"Convert this dataframe to an interactive table.\"\n",
              "              style=\"display:none;\">\n",
              "        \n",
              "  <svg xmlns=\"http://www.w3.org/2000/svg\" height=\"24px\"viewBox=\"0 0 24 24\"\n",
              "       width=\"24px\">\n",
              "    <path d=\"M0 0h24v24H0V0z\" fill=\"none\"/>\n",
              "    <path d=\"M18.56 5.44l.94 2.06.94-2.06 2.06-.94-2.06-.94-.94-2.06-.94 2.06-2.06.94zm-11 1L8.5 8.5l.94-2.06 2.06-.94-2.06-.94L8.5 2.5l-.94 2.06-2.06.94zm10 10l.94 2.06.94-2.06 2.06-.94-2.06-.94-.94-2.06-.94 2.06-2.06.94z\"/><path d=\"M17.41 7.96l-1.37-1.37c-.4-.4-.92-.59-1.43-.59-.52 0-1.04.2-1.43.59L10.3 9.45l-7.72 7.72c-.78.78-.78 2.05 0 2.83L4 21.41c.39.39.9.59 1.41.59.51 0 1.02-.2 1.41-.59l7.78-7.78 2.81-2.81c.8-.78.8-2.07 0-2.86zM5.41 20L4 18.59l7.72-7.72 1.47 1.35L5.41 20z\"/>\n",
              "  </svg>\n",
              "      </button>\n",
              "      \n",
              "  <style>\n",
              "    .colab-df-container {\n",
              "      display:flex;\n",
              "      flex-wrap:wrap;\n",
              "      gap: 12px;\n",
              "    }\n",
              "\n",
              "    .colab-df-convert {\n",
              "      background-color: #E8F0FE;\n",
              "      border: none;\n",
              "      border-radius: 50%;\n",
              "      cursor: pointer;\n",
              "      display: none;\n",
              "      fill: #1967D2;\n",
              "      height: 32px;\n",
              "      padding: 0 0 0 0;\n",
              "      width: 32px;\n",
              "    }\n",
              "\n",
              "    .colab-df-convert:hover {\n",
              "      background-color: #E2EBFA;\n",
              "      box-shadow: 0px 1px 2px rgba(60, 64, 67, 0.3), 0px 1px 3px 1px rgba(60, 64, 67, 0.15);\n",
              "      fill: #174EA6;\n",
              "    }\n",
              "\n",
              "    [theme=dark] .colab-df-convert {\n",
              "      background-color: #3B4455;\n",
              "      fill: #D2E3FC;\n",
              "    }\n",
              "\n",
              "    [theme=dark] .colab-df-convert:hover {\n",
              "      background-color: #434B5C;\n",
              "      box-shadow: 0px 1px 3px 1px rgba(0, 0, 0, 0.15);\n",
              "      filter: drop-shadow(0px 1px 2px rgba(0, 0, 0, 0.3));\n",
              "      fill: #FFFFFF;\n",
              "    }\n",
              "  </style>\n",
              "\n",
              "      <script>\n",
              "        const buttonEl =\n",
              "          document.querySelector('#df-cf545920-3299-4721-9e0b-20e2dd56251e button.colab-df-convert');\n",
              "        buttonEl.style.display =\n",
              "          google.colab.kernel.accessAllowed ? 'block' : 'none';\n",
              "\n",
              "        async function convertToInteractive(key) {\n",
              "          const element = document.querySelector('#df-cf545920-3299-4721-9e0b-20e2dd56251e');\n",
              "          const dataTable =\n",
              "            await google.colab.kernel.invokeFunction('convertToInteractive',\n",
              "                                                     [key], {});\n",
              "          if (!dataTable) return;\n",
              "\n",
              "          const docLinkHtml = 'Like what you see? Visit the ' +\n",
              "            '<a target=\"_blank\" href=https://colab.research.google.com/notebooks/data_table.ipynb>data table notebook</a>'\n",
              "            + ' to learn more about interactive tables.';\n",
              "          element.innerHTML = '';\n",
              "          dataTable['output_type'] = 'display_data';\n",
              "          await google.colab.output.renderOutput(dataTable, element);\n",
              "          const docLink = document.createElement('div');\n",
              "          docLink.innerHTML = docLinkHtml;\n",
              "          element.appendChild(docLink);\n",
              "        }\n",
              "      </script>\n",
              "    </div>\n",
              "  </div>\n",
              "  "
            ]
          },
          "metadata": {},
          "execution_count": 7
        }
      ]
    },
    {
      "cell_type": "markdown",
      "source": [
        "As you can see we have created a new dataframe with just title and cast. Similarly we will have to perform the same operations on other columns and get indivisual data"
      ],
      "metadata": {
        "id": "JswUvoJzym7H"
      }
    },
    {
      "cell_type": "code",
      "source": [
        "data_dir = data['director'].apply(lambda x:str(x).split(',')).tolist()\n",
        "df_dir = pd.DataFrame(data_dir, index = data['title'])\n",
        "df_dir = df_dir.stack()\n",
        "df_dir = pd.DataFrame(df_dir)\n",
        "df_dir.reset_index(inplace = True)\n",
        "df_dir = df_dir[['title',0]]\n",
        "df_dir.rename(columns ={'title':'title', 0:'director'}, inplace = True)"
      ],
      "metadata": {
        "id": "gnsngI5Hy290"
      },
      "execution_count": null,
      "outputs": []
    },
    {
      "cell_type": "code",
      "source": [
        "data_country = data['country'].apply(lambda x:str(x).split(',')).tolist()\n",
        "df_country = pd.DataFrame(data_country, index = data['title'])\n",
        "df_country = df_country.stack()\n",
        "df_country = pd.DataFrame(df_country)\n",
        "df_country.reset_index(inplace = True)\n",
        "df_country = df_country[['title',0]]\n",
        "df_country.rename(columns ={'title':'title', 0:'director'}, inplace = True)"
      ],
      "metadata": {
        "id": "3FHTdgYey9Fb"
      },
      "execution_count": null,
      "outputs": []
    },
    {
      "cell_type": "code",
      "source": [
        "data_listed_in = data['listed_in'].apply(lambda x:str(x).split(',')).tolist()\n",
        "df_listed_in = pd.DataFrame(data_listed_in, index = data['title'])\n",
        "df_listed_in = df_listed_in.stack()\n",
        "df_listed_in = pd.DataFrame(df_listed_in)\n",
        "df_listed_in.reset_index(inplace = True)\n",
        "df_listed_in = df_listed_in[['title',0]]\n",
        "df_listed_in.rename(columns ={'title':'title', 0:'director'}, inplace = True)"
      ],
      "metadata": {
        "id": "zbFSdbYizJnU"
      },
      "execution_count": null,
      "outputs": []
    },
    {
      "cell_type": "markdown",
      "source": [
        "Since we have unnest the data making each columns an indivisual dataframe. Let us merge with the original one.\n",
        "Before performing the merge operation let us also remove few columns from the original dataframe to avoid confusion. (We will be removing director, cast, country and listed_in from the original dataframe and performing the merge operation)"
      ],
      "metadata": {
        "id": "14QrR5oRzVml"
      }
    },
    {
      "cell_type": "code",
      "source": [
        "data.drop(['director',\t'cast',\t'country', 'listed_in'], axis = 1, inplace = True)\n"
      ],
      "metadata": {
        "id": "vqUIrHb5zgSB"
      },
      "execution_count": null,
      "outputs": []
    },
    {
      "cell_type": "code",
      "source": [
        "data.head()  ## You can see we have dropped the columns as discussed earlier"
      ],
      "metadata": {
        "colab": {
          "base_uri": "https://localhost:8080/",
          "height": 206
        },
        "id": "KEeaE9q70ORD",
        "outputId": "b911c6e2-d59c-4b92-9536-8fa15a23e7dc"
      },
      "execution_count": null,
      "outputs": [
        {
          "output_type": "execute_result",
          "data": {
            "text/plain": [
              "  show_id     type                  title          date_added  release_year  \\\n",
              "0      s1    Movie   Dick Johnson Is Dead  September 25, 2021          2020   \n",
              "1      s2  TV Show          Blood & Water  September 24, 2021          2021   \n",
              "2      s3  TV Show              Ganglands  September 24, 2021          2021   \n",
              "3      s4  TV Show  Jailbirds New Orleans  September 24, 2021          2021   \n",
              "4      s5  TV Show           Kota Factory  September 24, 2021          2021   \n",
              "\n",
              "  rating   duration                                        description  \n",
              "0  PG-13     90 min  As her father nears the end of his life, filmm...  \n",
              "1  TV-MA  2 Seasons  After crossing paths at a party, a Cape Town t...  \n",
              "2  TV-MA   1 Season  To protect his family from a powerful drug lor...  \n",
              "3  TV-MA   1 Season  Feuds, flirtations and toilet talk go down amo...  \n",
              "4  TV-MA  2 Seasons  In a city of coaching centers known to train I...  "
            ],
            "text/html": [
              "\n",
              "  <div id=\"df-481b94f0-bf3f-4478-a2f2-20f19da664fc\">\n",
              "    <div class=\"colab-df-container\">\n",
              "      <div>\n",
              "<style scoped>\n",
              "    .dataframe tbody tr th:only-of-type {\n",
              "        vertical-align: middle;\n",
              "    }\n",
              "\n",
              "    .dataframe tbody tr th {\n",
              "        vertical-align: top;\n",
              "    }\n",
              "\n",
              "    .dataframe thead th {\n",
              "        text-align: right;\n",
              "    }\n",
              "</style>\n",
              "<table border=\"1\" class=\"dataframe\">\n",
              "  <thead>\n",
              "    <tr style=\"text-align: right;\">\n",
              "      <th></th>\n",
              "      <th>show_id</th>\n",
              "      <th>type</th>\n",
              "      <th>title</th>\n",
              "      <th>date_added</th>\n",
              "      <th>release_year</th>\n",
              "      <th>rating</th>\n",
              "      <th>duration</th>\n",
              "      <th>description</th>\n",
              "    </tr>\n",
              "  </thead>\n",
              "  <tbody>\n",
              "    <tr>\n",
              "      <th>0</th>\n",
              "      <td>s1</td>\n",
              "      <td>Movie</td>\n",
              "      <td>Dick Johnson Is Dead</td>\n",
              "      <td>September 25, 2021</td>\n",
              "      <td>2020</td>\n",
              "      <td>PG-13</td>\n",
              "      <td>90 min</td>\n",
              "      <td>As her father nears the end of his life, filmm...</td>\n",
              "    </tr>\n",
              "    <tr>\n",
              "      <th>1</th>\n",
              "      <td>s2</td>\n",
              "      <td>TV Show</td>\n",
              "      <td>Blood &amp; Water</td>\n",
              "      <td>September 24, 2021</td>\n",
              "      <td>2021</td>\n",
              "      <td>TV-MA</td>\n",
              "      <td>2 Seasons</td>\n",
              "      <td>After crossing paths at a party, a Cape Town t...</td>\n",
              "    </tr>\n",
              "    <tr>\n",
              "      <th>2</th>\n",
              "      <td>s3</td>\n",
              "      <td>TV Show</td>\n",
              "      <td>Ganglands</td>\n",
              "      <td>September 24, 2021</td>\n",
              "      <td>2021</td>\n",
              "      <td>TV-MA</td>\n",
              "      <td>1 Season</td>\n",
              "      <td>To protect his family from a powerful drug lor...</td>\n",
              "    </tr>\n",
              "    <tr>\n",
              "      <th>3</th>\n",
              "      <td>s4</td>\n",
              "      <td>TV Show</td>\n",
              "      <td>Jailbirds New Orleans</td>\n",
              "      <td>September 24, 2021</td>\n",
              "      <td>2021</td>\n",
              "      <td>TV-MA</td>\n",
              "      <td>1 Season</td>\n",
              "      <td>Feuds, flirtations and toilet talk go down amo...</td>\n",
              "    </tr>\n",
              "    <tr>\n",
              "      <th>4</th>\n",
              "      <td>s5</td>\n",
              "      <td>TV Show</td>\n",
              "      <td>Kota Factory</td>\n",
              "      <td>September 24, 2021</td>\n",
              "      <td>2021</td>\n",
              "      <td>TV-MA</td>\n",
              "      <td>2 Seasons</td>\n",
              "      <td>In a city of coaching centers known to train I...</td>\n",
              "    </tr>\n",
              "  </tbody>\n",
              "</table>\n",
              "</div>\n",
              "      <button class=\"colab-df-convert\" onclick=\"convertToInteractive('df-481b94f0-bf3f-4478-a2f2-20f19da664fc')\"\n",
              "              title=\"Convert this dataframe to an interactive table.\"\n",
              "              style=\"display:none;\">\n",
              "        \n",
              "  <svg xmlns=\"http://www.w3.org/2000/svg\" height=\"24px\"viewBox=\"0 0 24 24\"\n",
              "       width=\"24px\">\n",
              "    <path d=\"M0 0h24v24H0V0z\" fill=\"none\"/>\n",
              "    <path d=\"M18.56 5.44l.94 2.06.94-2.06 2.06-.94-2.06-.94-.94-2.06-.94 2.06-2.06.94zm-11 1L8.5 8.5l.94-2.06 2.06-.94-2.06-.94L8.5 2.5l-.94 2.06-2.06.94zm10 10l.94 2.06.94-2.06 2.06-.94-2.06-.94-.94-2.06-.94 2.06-2.06.94z\"/><path d=\"M17.41 7.96l-1.37-1.37c-.4-.4-.92-.59-1.43-.59-.52 0-1.04.2-1.43.59L10.3 9.45l-7.72 7.72c-.78.78-.78 2.05 0 2.83L4 21.41c.39.39.9.59 1.41.59.51 0 1.02-.2 1.41-.59l7.78-7.78 2.81-2.81c.8-.78.8-2.07 0-2.86zM5.41 20L4 18.59l7.72-7.72 1.47 1.35L5.41 20z\"/>\n",
              "  </svg>\n",
              "      </button>\n",
              "      \n",
              "  <style>\n",
              "    .colab-df-container {\n",
              "      display:flex;\n",
              "      flex-wrap:wrap;\n",
              "      gap: 12px;\n",
              "    }\n",
              "\n",
              "    .colab-df-convert {\n",
              "      background-color: #E8F0FE;\n",
              "      border: none;\n",
              "      border-radius: 50%;\n",
              "      cursor: pointer;\n",
              "      display: none;\n",
              "      fill: #1967D2;\n",
              "      height: 32px;\n",
              "      padding: 0 0 0 0;\n",
              "      width: 32px;\n",
              "    }\n",
              "\n",
              "    .colab-df-convert:hover {\n",
              "      background-color: #E2EBFA;\n",
              "      box-shadow: 0px 1px 2px rgba(60, 64, 67, 0.3), 0px 1px 3px 1px rgba(60, 64, 67, 0.15);\n",
              "      fill: #174EA6;\n",
              "    }\n",
              "\n",
              "    [theme=dark] .colab-df-convert {\n",
              "      background-color: #3B4455;\n",
              "      fill: #D2E3FC;\n",
              "    }\n",
              "\n",
              "    [theme=dark] .colab-df-convert:hover {\n",
              "      background-color: #434B5C;\n",
              "      box-shadow: 0px 1px 3px 1px rgba(0, 0, 0, 0.15);\n",
              "      filter: drop-shadow(0px 1px 2px rgba(0, 0, 0, 0.3));\n",
              "      fill: #FFFFFF;\n",
              "    }\n",
              "  </style>\n",
              "\n",
              "      <script>\n",
              "        const buttonEl =\n",
              "          document.querySelector('#df-481b94f0-bf3f-4478-a2f2-20f19da664fc button.colab-df-convert');\n",
              "        buttonEl.style.display =\n",
              "          google.colab.kernel.accessAllowed ? 'block' : 'none';\n",
              "\n",
              "        async function convertToInteractive(key) {\n",
              "          const element = document.querySelector('#df-481b94f0-bf3f-4478-a2f2-20f19da664fc');\n",
              "          const dataTable =\n",
              "            await google.colab.kernel.invokeFunction('convertToInteractive',\n",
              "                                                     [key], {});\n",
              "          if (!dataTable) return;\n",
              "\n",
              "          const docLinkHtml = 'Like what you see? Visit the ' +\n",
              "            '<a target=\"_blank\" href=https://colab.research.google.com/notebooks/data_table.ipynb>data table notebook</a>'\n",
              "            + ' to learn more about interactive tables.';\n",
              "          element.innerHTML = '';\n",
              "          dataTable['output_type'] = 'display_data';\n",
              "          await google.colab.output.renderOutput(dataTable, element);\n",
              "          const docLink = document.createElement('div');\n",
              "          docLink.innerHTML = docLinkHtml;\n",
              "          element.appendChild(docLink);\n",
              "        }\n",
              "      </script>\n",
              "    </div>\n",
              "  </div>\n",
              "  "
            ]
          },
          "metadata": {},
          "execution_count": 12
        }
      ]
    },
    {
      "cell_type": "code",
      "source": [
        "## now joining all the dataframes at once\n",
        "from functools import reduce"
      ],
      "metadata": {
        "id": "QkfOKxls0UH1"
      },
      "execution_count": null,
      "outputs": []
    },
    {
      "cell_type": "code",
      "source": [
        "data_frames = [data,df_cast,df_dir, df_country,df_listed_in]\n",
        "data_refined = reduce(lambda  left,right: pd.merge(left,right,on=['title'],\n",
        "                                            how='inner'), data_frames)"
      ],
      "metadata": {
        "id": "Z373SIFi0ciE"
      },
      "execution_count": null,
      "outputs": []
    },
    {
      "cell_type": "code",
      "source": [
        "data_refined.head() ## Let us rename the column and sort them as per the original dataframe"
      ],
      "metadata": {
        "colab": {
          "base_uri": "https://localhost:8080/",
          "height": 337
        },
        "id": "YqLqtZO-0n_O",
        "outputId": "698ff830-d96a-4a92-c39b-e38d8b9e8877"
      },
      "execution_count": null,
      "outputs": [
        {
          "output_type": "execute_result",
          "data": {
            "text/plain": [
              "  show_id     type                 title          date_added  release_year  \\\n",
              "0      s1    Movie  Dick Johnson Is Dead  September 25, 2021          2020   \n",
              "1      s2  TV Show         Blood & Water  September 24, 2021          2021   \n",
              "2      s2  TV Show         Blood & Water  September 24, 2021          2021   \n",
              "3      s2  TV Show         Blood & Water  September 24, 2021          2021   \n",
              "4      s2  TV Show         Blood & Water  September 24, 2021          2021   \n",
              "\n",
              "  rating   duration                                        description  \\\n",
              "0  PG-13     90 min  As her father nears the end of his life, filmm...   \n",
              "1  TV-MA  2 Seasons  After crossing paths at a party, a Cape Town t...   \n",
              "2  TV-MA  2 Seasons  After crossing paths at a party, a Cape Town t...   \n",
              "3  TV-MA  2 Seasons  After crossing paths at a party, a Cape Town t...   \n",
              "4  TV-MA  2 Seasons  After crossing paths at a party, a Cape Town t...   \n",
              "\n",
              "           cast       director_x     director_y                director  \n",
              "0           nan  Kirsten Johnson  United States           Documentaries  \n",
              "1    Ama Qamata              nan   South Africa  International TV Shows  \n",
              "2    Ama Qamata              nan   South Africa               TV Dramas  \n",
              "3    Ama Qamata              nan   South Africa            TV Mysteries  \n",
              "4   Khosi Ngema              nan   South Africa  International TV Shows  "
            ],
            "text/html": [
              "\n",
              "  <div id=\"df-e8d9adf1-1c64-4899-9442-5fde67593f18\">\n",
              "    <div class=\"colab-df-container\">\n",
              "      <div>\n",
              "<style scoped>\n",
              "    .dataframe tbody tr th:only-of-type {\n",
              "        vertical-align: middle;\n",
              "    }\n",
              "\n",
              "    .dataframe tbody tr th {\n",
              "        vertical-align: top;\n",
              "    }\n",
              "\n",
              "    .dataframe thead th {\n",
              "        text-align: right;\n",
              "    }\n",
              "</style>\n",
              "<table border=\"1\" class=\"dataframe\">\n",
              "  <thead>\n",
              "    <tr style=\"text-align: right;\">\n",
              "      <th></th>\n",
              "      <th>show_id</th>\n",
              "      <th>type</th>\n",
              "      <th>title</th>\n",
              "      <th>date_added</th>\n",
              "      <th>release_year</th>\n",
              "      <th>rating</th>\n",
              "      <th>duration</th>\n",
              "      <th>description</th>\n",
              "      <th>cast</th>\n",
              "      <th>director_x</th>\n",
              "      <th>director_y</th>\n",
              "      <th>director</th>\n",
              "    </tr>\n",
              "  </thead>\n",
              "  <tbody>\n",
              "    <tr>\n",
              "      <th>0</th>\n",
              "      <td>s1</td>\n",
              "      <td>Movie</td>\n",
              "      <td>Dick Johnson Is Dead</td>\n",
              "      <td>September 25, 2021</td>\n",
              "      <td>2020</td>\n",
              "      <td>PG-13</td>\n",
              "      <td>90 min</td>\n",
              "      <td>As her father nears the end of his life, filmm...</td>\n",
              "      <td>nan</td>\n",
              "      <td>Kirsten Johnson</td>\n",
              "      <td>United States</td>\n",
              "      <td>Documentaries</td>\n",
              "    </tr>\n",
              "    <tr>\n",
              "      <th>1</th>\n",
              "      <td>s2</td>\n",
              "      <td>TV Show</td>\n",
              "      <td>Blood &amp; Water</td>\n",
              "      <td>September 24, 2021</td>\n",
              "      <td>2021</td>\n",
              "      <td>TV-MA</td>\n",
              "      <td>2 Seasons</td>\n",
              "      <td>After crossing paths at a party, a Cape Town t...</td>\n",
              "      <td>Ama Qamata</td>\n",
              "      <td>nan</td>\n",
              "      <td>South Africa</td>\n",
              "      <td>International TV Shows</td>\n",
              "    </tr>\n",
              "    <tr>\n",
              "      <th>2</th>\n",
              "      <td>s2</td>\n",
              "      <td>TV Show</td>\n",
              "      <td>Blood &amp; Water</td>\n",
              "      <td>September 24, 2021</td>\n",
              "      <td>2021</td>\n",
              "      <td>TV-MA</td>\n",
              "      <td>2 Seasons</td>\n",
              "      <td>After crossing paths at a party, a Cape Town t...</td>\n",
              "      <td>Ama Qamata</td>\n",
              "      <td>nan</td>\n",
              "      <td>South Africa</td>\n",
              "      <td>TV Dramas</td>\n",
              "    </tr>\n",
              "    <tr>\n",
              "      <th>3</th>\n",
              "      <td>s2</td>\n",
              "      <td>TV Show</td>\n",
              "      <td>Blood &amp; Water</td>\n",
              "      <td>September 24, 2021</td>\n",
              "      <td>2021</td>\n",
              "      <td>TV-MA</td>\n",
              "      <td>2 Seasons</td>\n",
              "      <td>After crossing paths at a party, a Cape Town t...</td>\n",
              "      <td>Ama Qamata</td>\n",
              "      <td>nan</td>\n",
              "      <td>South Africa</td>\n",
              "      <td>TV Mysteries</td>\n",
              "    </tr>\n",
              "    <tr>\n",
              "      <th>4</th>\n",
              "      <td>s2</td>\n",
              "      <td>TV Show</td>\n",
              "      <td>Blood &amp; Water</td>\n",
              "      <td>September 24, 2021</td>\n",
              "      <td>2021</td>\n",
              "      <td>TV-MA</td>\n",
              "      <td>2 Seasons</td>\n",
              "      <td>After crossing paths at a party, a Cape Town t...</td>\n",
              "      <td>Khosi Ngema</td>\n",
              "      <td>nan</td>\n",
              "      <td>South Africa</td>\n",
              "      <td>International TV Shows</td>\n",
              "    </tr>\n",
              "  </tbody>\n",
              "</table>\n",
              "</div>\n",
              "      <button class=\"colab-df-convert\" onclick=\"convertToInteractive('df-e8d9adf1-1c64-4899-9442-5fde67593f18')\"\n",
              "              title=\"Convert this dataframe to an interactive table.\"\n",
              "              style=\"display:none;\">\n",
              "        \n",
              "  <svg xmlns=\"http://www.w3.org/2000/svg\" height=\"24px\"viewBox=\"0 0 24 24\"\n",
              "       width=\"24px\">\n",
              "    <path d=\"M0 0h24v24H0V0z\" fill=\"none\"/>\n",
              "    <path d=\"M18.56 5.44l.94 2.06.94-2.06 2.06-.94-2.06-.94-.94-2.06-.94 2.06-2.06.94zm-11 1L8.5 8.5l.94-2.06 2.06-.94-2.06-.94L8.5 2.5l-.94 2.06-2.06.94zm10 10l.94 2.06.94-2.06 2.06-.94-2.06-.94-.94-2.06-.94 2.06-2.06.94z\"/><path d=\"M17.41 7.96l-1.37-1.37c-.4-.4-.92-.59-1.43-.59-.52 0-1.04.2-1.43.59L10.3 9.45l-7.72 7.72c-.78.78-.78 2.05 0 2.83L4 21.41c.39.39.9.59 1.41.59.51 0 1.02-.2 1.41-.59l7.78-7.78 2.81-2.81c.8-.78.8-2.07 0-2.86zM5.41 20L4 18.59l7.72-7.72 1.47 1.35L5.41 20z\"/>\n",
              "  </svg>\n",
              "      </button>\n",
              "      \n",
              "  <style>\n",
              "    .colab-df-container {\n",
              "      display:flex;\n",
              "      flex-wrap:wrap;\n",
              "      gap: 12px;\n",
              "    }\n",
              "\n",
              "    .colab-df-convert {\n",
              "      background-color: #E8F0FE;\n",
              "      border: none;\n",
              "      border-radius: 50%;\n",
              "      cursor: pointer;\n",
              "      display: none;\n",
              "      fill: #1967D2;\n",
              "      height: 32px;\n",
              "      padding: 0 0 0 0;\n",
              "      width: 32px;\n",
              "    }\n",
              "\n",
              "    .colab-df-convert:hover {\n",
              "      background-color: #E2EBFA;\n",
              "      box-shadow: 0px 1px 2px rgba(60, 64, 67, 0.3), 0px 1px 3px 1px rgba(60, 64, 67, 0.15);\n",
              "      fill: #174EA6;\n",
              "    }\n",
              "\n",
              "    [theme=dark] .colab-df-convert {\n",
              "      background-color: #3B4455;\n",
              "      fill: #D2E3FC;\n",
              "    }\n",
              "\n",
              "    [theme=dark] .colab-df-convert:hover {\n",
              "      background-color: #434B5C;\n",
              "      box-shadow: 0px 1px 3px 1px rgba(0, 0, 0, 0.15);\n",
              "      filter: drop-shadow(0px 1px 2px rgba(0, 0, 0, 0.3));\n",
              "      fill: #FFFFFF;\n",
              "    }\n",
              "  </style>\n",
              "\n",
              "      <script>\n",
              "        const buttonEl =\n",
              "          document.querySelector('#df-e8d9adf1-1c64-4899-9442-5fde67593f18 button.colab-df-convert');\n",
              "        buttonEl.style.display =\n",
              "          google.colab.kernel.accessAllowed ? 'block' : 'none';\n",
              "\n",
              "        async function convertToInteractive(key) {\n",
              "          const element = document.querySelector('#df-e8d9adf1-1c64-4899-9442-5fde67593f18');\n",
              "          const dataTable =\n",
              "            await google.colab.kernel.invokeFunction('convertToInteractive',\n",
              "                                                     [key], {});\n",
              "          if (!dataTable) return;\n",
              "\n",
              "          const docLinkHtml = 'Like what you see? Visit the ' +\n",
              "            '<a target=\"_blank\" href=https://colab.research.google.com/notebooks/data_table.ipynb>data table notebook</a>'\n",
              "            + ' to learn more about interactive tables.';\n",
              "          element.innerHTML = '';\n",
              "          dataTable['output_type'] = 'display_data';\n",
              "          await google.colab.output.renderOutput(dataTable, element);\n",
              "          const docLink = document.createElement('div');\n",
              "          docLink.innerHTML = docLinkHtml;\n",
              "          element.appendChild(docLink);\n",
              "        }\n",
              "      </script>\n",
              "    </div>\n",
              "  </div>\n",
              "  "
            ]
          },
          "metadata": {},
          "execution_count": 15
        }
      ]
    },
    {
      "cell_type": "code",
      "source": [
        "data_refined.rename(columns = {'director_x':'director',\t'director_y':'country', 'director':'listed_in'}, inplace = True)"
      ],
      "metadata": {
        "id": "yC7PHkAw0yOp"
      },
      "execution_count": null,
      "outputs": []
    },
    {
      "cell_type": "code",
      "source": [
        "data_refined = data_refined[['show_id', 'type','title','director', 'cast', 'country', 'date_added', 'release_year', 'rating', 'duration', \n",
        "                             'listed_in','description']]"
      ],
      "metadata": {
        "id": "oP7P4AvQ04w_"
      },
      "execution_count": null,
      "outputs": []
    },
    {
      "cell_type": "code",
      "source": [
        "data_refined.head()"
      ],
      "metadata": {
        "colab": {
          "base_uri": "https://localhost:8080/",
          "height": 337
        },
        "id": "w8CKhpJI1ggW",
        "outputId": "8815623e-93eb-4532-93cc-eebea824f267"
      },
      "execution_count": null,
      "outputs": [
        {
          "output_type": "execute_result",
          "data": {
            "text/plain": [
              "  show_id     type                 title         director          cast  \\\n",
              "0      s1    Movie  Dick Johnson Is Dead  Kirsten Johnson           nan   \n",
              "1      s2  TV Show         Blood & Water              nan    Ama Qamata   \n",
              "2      s2  TV Show         Blood & Water              nan    Ama Qamata   \n",
              "3      s2  TV Show         Blood & Water              nan    Ama Qamata   \n",
              "4      s2  TV Show         Blood & Water              nan   Khosi Ngema   \n",
              "\n",
              "         country          date_added  release_year rating   duration  \\\n",
              "0  United States  September 25, 2021          2020  PG-13     90 min   \n",
              "1   South Africa  September 24, 2021          2021  TV-MA  2 Seasons   \n",
              "2   South Africa  September 24, 2021          2021  TV-MA  2 Seasons   \n",
              "3   South Africa  September 24, 2021          2021  TV-MA  2 Seasons   \n",
              "4   South Africa  September 24, 2021          2021  TV-MA  2 Seasons   \n",
              "\n",
              "                listed_in                                        description  \n",
              "0           Documentaries  As her father nears the end of his life, filmm...  \n",
              "1  International TV Shows  After crossing paths at a party, a Cape Town t...  \n",
              "2               TV Dramas  After crossing paths at a party, a Cape Town t...  \n",
              "3            TV Mysteries  After crossing paths at a party, a Cape Town t...  \n",
              "4  International TV Shows  After crossing paths at a party, a Cape Town t...  "
            ],
            "text/html": [
              "\n",
              "  <div id=\"df-c9487fb8-c0a8-4982-9b64-4efdfdde0545\">\n",
              "    <div class=\"colab-df-container\">\n",
              "      <div>\n",
              "<style scoped>\n",
              "    .dataframe tbody tr th:only-of-type {\n",
              "        vertical-align: middle;\n",
              "    }\n",
              "\n",
              "    .dataframe tbody tr th {\n",
              "        vertical-align: top;\n",
              "    }\n",
              "\n",
              "    .dataframe thead th {\n",
              "        text-align: right;\n",
              "    }\n",
              "</style>\n",
              "<table border=\"1\" class=\"dataframe\">\n",
              "  <thead>\n",
              "    <tr style=\"text-align: right;\">\n",
              "      <th></th>\n",
              "      <th>show_id</th>\n",
              "      <th>type</th>\n",
              "      <th>title</th>\n",
              "      <th>director</th>\n",
              "      <th>cast</th>\n",
              "      <th>country</th>\n",
              "      <th>date_added</th>\n",
              "      <th>release_year</th>\n",
              "      <th>rating</th>\n",
              "      <th>duration</th>\n",
              "      <th>listed_in</th>\n",
              "      <th>description</th>\n",
              "    </tr>\n",
              "  </thead>\n",
              "  <tbody>\n",
              "    <tr>\n",
              "      <th>0</th>\n",
              "      <td>s1</td>\n",
              "      <td>Movie</td>\n",
              "      <td>Dick Johnson Is Dead</td>\n",
              "      <td>Kirsten Johnson</td>\n",
              "      <td>nan</td>\n",
              "      <td>United States</td>\n",
              "      <td>September 25, 2021</td>\n",
              "      <td>2020</td>\n",
              "      <td>PG-13</td>\n",
              "      <td>90 min</td>\n",
              "      <td>Documentaries</td>\n",
              "      <td>As her father nears the end of his life, filmm...</td>\n",
              "    </tr>\n",
              "    <tr>\n",
              "      <th>1</th>\n",
              "      <td>s2</td>\n",
              "      <td>TV Show</td>\n",
              "      <td>Blood &amp; Water</td>\n",
              "      <td>nan</td>\n",
              "      <td>Ama Qamata</td>\n",
              "      <td>South Africa</td>\n",
              "      <td>September 24, 2021</td>\n",
              "      <td>2021</td>\n",
              "      <td>TV-MA</td>\n",
              "      <td>2 Seasons</td>\n",
              "      <td>International TV Shows</td>\n",
              "      <td>After crossing paths at a party, a Cape Town t...</td>\n",
              "    </tr>\n",
              "    <tr>\n",
              "      <th>2</th>\n",
              "      <td>s2</td>\n",
              "      <td>TV Show</td>\n",
              "      <td>Blood &amp; Water</td>\n",
              "      <td>nan</td>\n",
              "      <td>Ama Qamata</td>\n",
              "      <td>South Africa</td>\n",
              "      <td>September 24, 2021</td>\n",
              "      <td>2021</td>\n",
              "      <td>TV-MA</td>\n",
              "      <td>2 Seasons</td>\n",
              "      <td>TV Dramas</td>\n",
              "      <td>After crossing paths at a party, a Cape Town t...</td>\n",
              "    </tr>\n",
              "    <tr>\n",
              "      <th>3</th>\n",
              "      <td>s2</td>\n",
              "      <td>TV Show</td>\n",
              "      <td>Blood &amp; Water</td>\n",
              "      <td>nan</td>\n",
              "      <td>Ama Qamata</td>\n",
              "      <td>South Africa</td>\n",
              "      <td>September 24, 2021</td>\n",
              "      <td>2021</td>\n",
              "      <td>TV-MA</td>\n",
              "      <td>2 Seasons</td>\n",
              "      <td>TV Mysteries</td>\n",
              "      <td>After crossing paths at a party, a Cape Town t...</td>\n",
              "    </tr>\n",
              "    <tr>\n",
              "      <th>4</th>\n",
              "      <td>s2</td>\n",
              "      <td>TV Show</td>\n",
              "      <td>Blood &amp; Water</td>\n",
              "      <td>nan</td>\n",
              "      <td>Khosi Ngema</td>\n",
              "      <td>South Africa</td>\n",
              "      <td>September 24, 2021</td>\n",
              "      <td>2021</td>\n",
              "      <td>TV-MA</td>\n",
              "      <td>2 Seasons</td>\n",
              "      <td>International TV Shows</td>\n",
              "      <td>After crossing paths at a party, a Cape Town t...</td>\n",
              "    </tr>\n",
              "  </tbody>\n",
              "</table>\n",
              "</div>\n",
              "      <button class=\"colab-df-convert\" onclick=\"convertToInteractive('df-c9487fb8-c0a8-4982-9b64-4efdfdde0545')\"\n",
              "              title=\"Convert this dataframe to an interactive table.\"\n",
              "              style=\"display:none;\">\n",
              "        \n",
              "  <svg xmlns=\"http://www.w3.org/2000/svg\" height=\"24px\"viewBox=\"0 0 24 24\"\n",
              "       width=\"24px\">\n",
              "    <path d=\"M0 0h24v24H0V0z\" fill=\"none\"/>\n",
              "    <path d=\"M18.56 5.44l.94 2.06.94-2.06 2.06-.94-2.06-.94-.94-2.06-.94 2.06-2.06.94zm-11 1L8.5 8.5l.94-2.06 2.06-.94-2.06-.94L8.5 2.5l-.94 2.06-2.06.94zm10 10l.94 2.06.94-2.06 2.06-.94-2.06-.94-.94-2.06-.94 2.06-2.06.94z\"/><path d=\"M17.41 7.96l-1.37-1.37c-.4-.4-.92-.59-1.43-.59-.52 0-1.04.2-1.43.59L10.3 9.45l-7.72 7.72c-.78.78-.78 2.05 0 2.83L4 21.41c.39.39.9.59 1.41.59.51 0 1.02-.2 1.41-.59l7.78-7.78 2.81-2.81c.8-.78.8-2.07 0-2.86zM5.41 20L4 18.59l7.72-7.72 1.47 1.35L5.41 20z\"/>\n",
              "  </svg>\n",
              "      </button>\n",
              "      \n",
              "  <style>\n",
              "    .colab-df-container {\n",
              "      display:flex;\n",
              "      flex-wrap:wrap;\n",
              "      gap: 12px;\n",
              "    }\n",
              "\n",
              "    .colab-df-convert {\n",
              "      background-color: #E8F0FE;\n",
              "      border: none;\n",
              "      border-radius: 50%;\n",
              "      cursor: pointer;\n",
              "      display: none;\n",
              "      fill: #1967D2;\n",
              "      height: 32px;\n",
              "      padding: 0 0 0 0;\n",
              "      width: 32px;\n",
              "    }\n",
              "\n",
              "    .colab-df-convert:hover {\n",
              "      background-color: #E2EBFA;\n",
              "      box-shadow: 0px 1px 2px rgba(60, 64, 67, 0.3), 0px 1px 3px 1px rgba(60, 64, 67, 0.15);\n",
              "      fill: #174EA6;\n",
              "    }\n",
              "\n",
              "    [theme=dark] .colab-df-convert {\n",
              "      background-color: #3B4455;\n",
              "      fill: #D2E3FC;\n",
              "    }\n",
              "\n",
              "    [theme=dark] .colab-df-convert:hover {\n",
              "      background-color: #434B5C;\n",
              "      box-shadow: 0px 1px 3px 1px rgba(0, 0, 0, 0.15);\n",
              "      filter: drop-shadow(0px 1px 2px rgba(0, 0, 0, 0.3));\n",
              "      fill: #FFFFFF;\n",
              "    }\n",
              "  </style>\n",
              "\n",
              "      <script>\n",
              "        const buttonEl =\n",
              "          document.querySelector('#df-c9487fb8-c0a8-4982-9b64-4efdfdde0545 button.colab-df-convert');\n",
              "        buttonEl.style.display =\n",
              "          google.colab.kernel.accessAllowed ? 'block' : 'none';\n",
              "\n",
              "        async function convertToInteractive(key) {\n",
              "          const element = document.querySelector('#df-c9487fb8-c0a8-4982-9b64-4efdfdde0545');\n",
              "          const dataTable =\n",
              "            await google.colab.kernel.invokeFunction('convertToInteractive',\n",
              "                                                     [key], {});\n",
              "          if (!dataTable) return;\n",
              "\n",
              "          const docLinkHtml = 'Like what you see? Visit the ' +\n",
              "            '<a target=\"_blank\" href=https://colab.research.google.com/notebooks/data_table.ipynb>data table notebook</a>'\n",
              "            + ' to learn more about interactive tables.';\n",
              "          element.innerHTML = '';\n",
              "          dataTable['output_type'] = 'display_data';\n",
              "          await google.colab.output.renderOutput(dataTable, element);\n",
              "          const docLink = document.createElement('div');\n",
              "          docLink.innerHTML = docLinkHtml;\n",
              "          element.appendChild(docLink);\n",
              "        }\n",
              "      </script>\n",
              "    </div>\n",
              "  </div>\n",
              "  "
            ]
          },
          "metadata": {},
          "execution_count": 18
        }
      ]
    },
    {
      "cell_type": "code",
      "source": [
        "data_refined.info()"
      ],
      "metadata": {
        "colab": {
          "base_uri": "https://localhost:8080/"
        },
        "id": "Gc9Y7O1z11rX",
        "outputId": "41ef5f48-a683-4847-f580-5dbb3f6a5db8"
      },
      "execution_count": null,
      "outputs": [
        {
          "output_type": "stream",
          "name": "stdout",
          "text": [
            "<class 'pandas.core.frame.DataFrame'>\n",
            "Int64Index: 202065 entries, 0 to 202064\n",
            "Data columns (total 12 columns):\n",
            " #   Column        Non-Null Count   Dtype \n",
            "---  ------        --------------   ----- \n",
            " 0   show_id       202065 non-null  object\n",
            " 1   type          202065 non-null  object\n",
            " 2   title         202065 non-null  object\n",
            " 3   director      202065 non-null  object\n",
            " 4   cast          202065 non-null  object\n",
            " 5   country       202065 non-null  object\n",
            " 6   date_added    201907 non-null  object\n",
            " 7   release_year  202065 non-null  int64 \n",
            " 8   rating        201998 non-null  object\n",
            " 9   duration      202062 non-null  object\n",
            " 10  listed_in     202065 non-null  object\n",
            " 11  description   202065 non-null  object\n",
            "dtypes: int64(1), object(11)\n",
            "memory usage: 20.0+ MB\n"
          ]
        }
      ]
    },
    {
      "cell_type": "markdown",
      "source": [
        "Above two codes i.e data_refined.head() and data_refined.info() shows us that though the columns are unnested however if we look carefull the 'nan' it shows is not null value but an object data type.\n",
        "\n",
        "So let us replace 'nan' with np.nan and try to fill the null values."
      ],
      "metadata": {
        "id": "upoDvqQQ2gZX"
      }
    },
    {
      "cell_type": "code",
      "source": [
        "data_refined = data_refined.replace('nan', np.nan)"
      ],
      "metadata": {
        "id": "Qm87mtr62v9O"
      },
      "execution_count": null,
      "outputs": []
    },
    {
      "cell_type": "code",
      "source": [
        "data_refined.info()  ## Now if we observe below, they have assigned object type 'nan' to np.nan(a null value)"
      ],
      "metadata": {
        "colab": {
          "base_uri": "https://localhost:8080/"
        },
        "id": "34i_Y4gI4HjM",
        "outputId": "a8b0c30f-85ef-483b-8f36-27ce82b08f61"
      },
      "execution_count": null,
      "outputs": [
        {
          "output_type": "stream",
          "name": "stdout",
          "text": [
            "<class 'pandas.core.frame.DataFrame'>\n",
            "Int64Index: 202065 entries, 0 to 202064\n",
            "Data columns (total 12 columns):\n",
            " #   Column        Non-Null Count   Dtype \n",
            "---  ------        --------------   ----- \n",
            " 0   show_id       202065 non-null  object\n",
            " 1   type          202065 non-null  object\n",
            " 2   title         202065 non-null  object\n",
            " 3   director      151422 non-null  object\n",
            " 4   cast          199916 non-null  object\n",
            " 5   country       190168 non-null  object\n",
            " 6   date_added    201907 non-null  object\n",
            " 7   release_year  202065 non-null  int64 \n",
            " 8   rating        201998 non-null  object\n",
            " 9   duration      202062 non-null  object\n",
            " 10  listed_in     202065 non-null  object\n",
            " 11  description   202065 non-null  object\n",
            "dtypes: int64(1), object(11)\n",
            "memory usage: 20.0+ MB\n"
          ]
        }
      ]
    },
    {
      "cell_type": "markdown",
      "source": [
        "Let us now fill the null values for better analysis and outcomes. We will use mode & groupby to better fill the null values\n",
        "\n",
        "Note:- We will make copy of the current dataframe and fill the null values (This may help us to gather more insights)"
      ],
      "metadata": {
        "id": "nzYt2oMb4mfc"
      }
    },
    {
      "cell_type": "code",
      "source": [
        "data_refined['country'] = data_refined.groupby(['director', 'cast'], dropna=False)['country']\\\n",
        "                             .transform(lambda x: x.fillna(x.mode()[0]) if not x.mode().empty else \"Empty\") "
      ],
      "metadata": {
        "id": "9LExWJ-1o8R6"
      },
      "execution_count": null,
      "outputs": []
    },
    {
      "cell_type": "code",
      "source": [
        "data_refined['cast'] = data_refined.groupby(['country','listed_in'], dropna=False)['cast']\\\n",
        "                                .transform(lambda x: x.fillna(x.mode()[0]) if not x.mode().empty else \"Empty\")"
      ],
      "metadata": {
        "id": "L1fPADSYo9KX"
      },
      "execution_count": null,
      "outputs": []
    },
    {
      "cell_type": "code",
      "source": [
        "data_refined['director'] = data_refined.groupby(['country','listed_in'], dropna=False)['director']\\\n",
        "                               .transform(lambda x: x.fillna(x.mode()[0]) if not x.mode().empty else \"Empty\")"
      ],
      "metadata": {
        "id": "E69fW533pwYS"
      },
      "execution_count": null,
      "outputs": []
    },
    {
      "cell_type": "code",
      "source": [
        "data_refined=data_refined.replace('Empty',np.nan)"
      ],
      "metadata": {
        "id": "2WAxm6tesjFU"
      },
      "execution_count": null,
      "outputs": []
    },
    {
      "cell_type": "markdown",
      "source": [
        "Now if you observe carefully, directors in data_refined.info() and data_refined_nonnull.info() there has few of the missing directors column has been filled with respective modes"
      ],
      "metadata": {
        "id": "vzzAc7jatQ03"
      }
    },
    {
      "cell_type": "markdown",
      "source": [
        "## 2. Observations on the shape of data, data types of all the attributes, conversion of categorical attributes to 'category' (If required), missing value detection, statistical summary"
      ],
      "metadata": {
        "id": "0IDfg4GywDx-"
      }
    },
    {
      "cell_type": "code",
      "source": [
        "data_refined.shape"
      ],
      "metadata": {
        "colab": {
          "base_uri": "https://localhost:8080/"
        },
        "id": "Y8CrGMhuwHCU",
        "outputId": "434731b8-7413-4061-aaa4-b7a6e2e40c32"
      },
      "execution_count": null,
      "outputs": [
        {
          "output_type": "execute_result",
          "data": {
            "text/plain": [
              "(202065, 12)"
            ]
          },
          "metadata": {},
          "execution_count": 26
        }
      ]
    },
    {
      "cell_type": "code",
      "source": [
        "data_refined.info()"
      ],
      "metadata": {
        "colab": {
          "base_uri": "https://localhost:8080/"
        },
        "id": "CEVkGmWlwiWw",
        "outputId": "309fde6c-dc31-44c1-f70f-81f56acc8405"
      },
      "execution_count": null,
      "outputs": [
        {
          "output_type": "stream",
          "name": "stdout",
          "text": [
            "<class 'pandas.core.frame.DataFrame'>\n",
            "Int64Index: 202065 entries, 0 to 202064\n",
            "Data columns (total 12 columns):\n",
            " #   Column        Non-Null Count   Dtype \n",
            "---  ------        --------------   ----- \n",
            " 0   show_id       202065 non-null  object\n",
            " 1   type          202065 non-null  object\n",
            " 2   title         202065 non-null  object\n",
            " 3   director      189012 non-null  object\n",
            " 4   cast          201856 non-null  object\n",
            " 5   country       192469 non-null  object\n",
            " 6   date_added    201907 non-null  object\n",
            " 7   release_year  202065 non-null  int64 \n",
            " 8   rating        201998 non-null  object\n",
            " 9   duration      202062 non-null  object\n",
            " 10  listed_in     202065 non-null  object\n",
            " 11  description   202065 non-null  object\n",
            "dtypes: int64(1), object(11)\n",
            "memory usage: 20.0+ MB\n"
          ]
        }
      ]
    },
    {
      "cell_type": "markdown",
      "source": [
        "If we look in info, we can see there are still missing values in directors, country, and date added.\n",
        "\n",
        "Also let us convert date_added to datetime so we can extract some insigts from it"
      ],
      "metadata": {
        "id": "FclIa_1zw0G7"
      }
    },
    {
      "cell_type": "code",
      "source": [
        "data_refined['date_added']=pd.to_datetime(data_refined['date_added'])"
      ],
      "metadata": {
        "id": "37fF3EkdxHce"
      },
      "execution_count": null,
      "outputs": []
    },
    {
      "cell_type": "code",
      "source": [
        "data_refined['year_added'] = data_refined['date_added'].dt.year"
      ],
      "metadata": {
        "id": "h_8aAj4axZfF"
      },
      "execution_count": null,
      "outputs": []
    },
    {
      "cell_type": "code",
      "source": [
        "data_refined.head()"
      ],
      "metadata": {
        "colab": {
          "base_uri": "https://localhost:8080/",
          "height": 337
        },
        "id": "G6g8D7w8yO3z",
        "outputId": "d25086f8-ab31-4ede-d7a0-6661c6a358cf"
      },
      "execution_count": null,
      "outputs": [
        {
          "output_type": "execute_result",
          "data": {
            "text/plain": [
              "  show_id     type                 title         director          cast  \\\n",
              "0      s1    Movie  Dick Johnson Is Dead  Kirsten Johnson   Samuel West   \n",
              "1      s2  TV Show         Blood & Water              NaN    Ama Qamata   \n",
              "2      s2  TV Show         Blood & Water              NaN    Ama Qamata   \n",
              "3      s2  TV Show         Blood & Water              NaN    Ama Qamata   \n",
              "4      s2  TV Show         Blood & Water              NaN   Khosi Ngema   \n",
              "\n",
              "         country date_added  release_year rating   duration  \\\n",
              "0  United States 2021-09-25          2020  PG-13     90 min   \n",
              "1   South Africa 2021-09-24          2021  TV-MA  2 Seasons   \n",
              "2   South Africa 2021-09-24          2021  TV-MA  2 Seasons   \n",
              "3   South Africa 2021-09-24          2021  TV-MA  2 Seasons   \n",
              "4   South Africa 2021-09-24          2021  TV-MA  2 Seasons   \n",
              "\n",
              "                listed_in                                        description  \\\n",
              "0           Documentaries  As her father nears the end of his life, filmm...   \n",
              "1  International TV Shows  After crossing paths at a party, a Cape Town t...   \n",
              "2               TV Dramas  After crossing paths at a party, a Cape Town t...   \n",
              "3            TV Mysteries  After crossing paths at a party, a Cape Town t...   \n",
              "4  International TV Shows  After crossing paths at a party, a Cape Town t...   \n",
              "\n",
              "   year_added  \n",
              "0      2021.0  \n",
              "1      2021.0  \n",
              "2      2021.0  \n",
              "3      2021.0  \n",
              "4      2021.0  "
            ],
            "text/html": [
              "\n",
              "  <div id=\"df-9b52ab80-c5bc-4216-a27b-fa120daf246e\">\n",
              "    <div class=\"colab-df-container\">\n",
              "      <div>\n",
              "<style scoped>\n",
              "    .dataframe tbody tr th:only-of-type {\n",
              "        vertical-align: middle;\n",
              "    }\n",
              "\n",
              "    .dataframe tbody tr th {\n",
              "        vertical-align: top;\n",
              "    }\n",
              "\n",
              "    .dataframe thead th {\n",
              "        text-align: right;\n",
              "    }\n",
              "</style>\n",
              "<table border=\"1\" class=\"dataframe\">\n",
              "  <thead>\n",
              "    <tr style=\"text-align: right;\">\n",
              "      <th></th>\n",
              "      <th>show_id</th>\n",
              "      <th>type</th>\n",
              "      <th>title</th>\n",
              "      <th>director</th>\n",
              "      <th>cast</th>\n",
              "      <th>country</th>\n",
              "      <th>date_added</th>\n",
              "      <th>release_year</th>\n",
              "      <th>rating</th>\n",
              "      <th>duration</th>\n",
              "      <th>listed_in</th>\n",
              "      <th>description</th>\n",
              "      <th>year_added</th>\n",
              "    </tr>\n",
              "  </thead>\n",
              "  <tbody>\n",
              "    <tr>\n",
              "      <th>0</th>\n",
              "      <td>s1</td>\n",
              "      <td>Movie</td>\n",
              "      <td>Dick Johnson Is Dead</td>\n",
              "      <td>Kirsten Johnson</td>\n",
              "      <td>Samuel West</td>\n",
              "      <td>United States</td>\n",
              "      <td>2021-09-25</td>\n",
              "      <td>2020</td>\n",
              "      <td>PG-13</td>\n",
              "      <td>90 min</td>\n",
              "      <td>Documentaries</td>\n",
              "      <td>As her father nears the end of his life, filmm...</td>\n",
              "      <td>2021.0</td>\n",
              "    </tr>\n",
              "    <tr>\n",
              "      <th>1</th>\n",
              "      <td>s2</td>\n",
              "      <td>TV Show</td>\n",
              "      <td>Blood &amp; Water</td>\n",
              "      <td>NaN</td>\n",
              "      <td>Ama Qamata</td>\n",
              "      <td>South Africa</td>\n",
              "      <td>2021-09-24</td>\n",
              "      <td>2021</td>\n",
              "      <td>TV-MA</td>\n",
              "      <td>2 Seasons</td>\n",
              "      <td>International TV Shows</td>\n",
              "      <td>After crossing paths at a party, a Cape Town t...</td>\n",
              "      <td>2021.0</td>\n",
              "    </tr>\n",
              "    <tr>\n",
              "      <th>2</th>\n",
              "      <td>s2</td>\n",
              "      <td>TV Show</td>\n",
              "      <td>Blood &amp; Water</td>\n",
              "      <td>NaN</td>\n",
              "      <td>Ama Qamata</td>\n",
              "      <td>South Africa</td>\n",
              "      <td>2021-09-24</td>\n",
              "      <td>2021</td>\n",
              "      <td>TV-MA</td>\n",
              "      <td>2 Seasons</td>\n",
              "      <td>TV Dramas</td>\n",
              "      <td>After crossing paths at a party, a Cape Town t...</td>\n",
              "      <td>2021.0</td>\n",
              "    </tr>\n",
              "    <tr>\n",
              "      <th>3</th>\n",
              "      <td>s2</td>\n",
              "      <td>TV Show</td>\n",
              "      <td>Blood &amp; Water</td>\n",
              "      <td>NaN</td>\n",
              "      <td>Ama Qamata</td>\n",
              "      <td>South Africa</td>\n",
              "      <td>2021-09-24</td>\n",
              "      <td>2021</td>\n",
              "      <td>TV-MA</td>\n",
              "      <td>2 Seasons</td>\n",
              "      <td>TV Mysteries</td>\n",
              "      <td>After crossing paths at a party, a Cape Town t...</td>\n",
              "      <td>2021.0</td>\n",
              "    </tr>\n",
              "    <tr>\n",
              "      <th>4</th>\n",
              "      <td>s2</td>\n",
              "      <td>TV Show</td>\n",
              "      <td>Blood &amp; Water</td>\n",
              "      <td>NaN</td>\n",
              "      <td>Khosi Ngema</td>\n",
              "      <td>South Africa</td>\n",
              "      <td>2021-09-24</td>\n",
              "      <td>2021</td>\n",
              "      <td>TV-MA</td>\n",
              "      <td>2 Seasons</td>\n",
              "      <td>International TV Shows</td>\n",
              "      <td>After crossing paths at a party, a Cape Town t...</td>\n",
              "      <td>2021.0</td>\n",
              "    </tr>\n",
              "  </tbody>\n",
              "</table>\n",
              "</div>\n",
              "      <button class=\"colab-df-convert\" onclick=\"convertToInteractive('df-9b52ab80-c5bc-4216-a27b-fa120daf246e')\"\n",
              "              title=\"Convert this dataframe to an interactive table.\"\n",
              "              style=\"display:none;\">\n",
              "        \n",
              "  <svg xmlns=\"http://www.w3.org/2000/svg\" height=\"24px\"viewBox=\"0 0 24 24\"\n",
              "       width=\"24px\">\n",
              "    <path d=\"M0 0h24v24H0V0z\" fill=\"none\"/>\n",
              "    <path d=\"M18.56 5.44l.94 2.06.94-2.06 2.06-.94-2.06-.94-.94-2.06-.94 2.06-2.06.94zm-11 1L8.5 8.5l.94-2.06 2.06-.94-2.06-.94L8.5 2.5l-.94 2.06-2.06.94zm10 10l.94 2.06.94-2.06 2.06-.94-2.06-.94-.94-2.06-.94 2.06-2.06.94z\"/><path d=\"M17.41 7.96l-1.37-1.37c-.4-.4-.92-.59-1.43-.59-.52 0-1.04.2-1.43.59L10.3 9.45l-7.72 7.72c-.78.78-.78 2.05 0 2.83L4 21.41c.39.39.9.59 1.41.59.51 0 1.02-.2 1.41-.59l7.78-7.78 2.81-2.81c.8-.78.8-2.07 0-2.86zM5.41 20L4 18.59l7.72-7.72 1.47 1.35L5.41 20z\"/>\n",
              "  </svg>\n",
              "      </button>\n",
              "      \n",
              "  <style>\n",
              "    .colab-df-container {\n",
              "      display:flex;\n",
              "      flex-wrap:wrap;\n",
              "      gap: 12px;\n",
              "    }\n",
              "\n",
              "    .colab-df-convert {\n",
              "      background-color: #E8F0FE;\n",
              "      border: none;\n",
              "      border-radius: 50%;\n",
              "      cursor: pointer;\n",
              "      display: none;\n",
              "      fill: #1967D2;\n",
              "      height: 32px;\n",
              "      padding: 0 0 0 0;\n",
              "      width: 32px;\n",
              "    }\n",
              "\n",
              "    .colab-df-convert:hover {\n",
              "      background-color: #E2EBFA;\n",
              "      box-shadow: 0px 1px 2px rgba(60, 64, 67, 0.3), 0px 1px 3px 1px rgba(60, 64, 67, 0.15);\n",
              "      fill: #174EA6;\n",
              "    }\n",
              "\n",
              "    [theme=dark] .colab-df-convert {\n",
              "      background-color: #3B4455;\n",
              "      fill: #D2E3FC;\n",
              "    }\n",
              "\n",
              "    [theme=dark] .colab-df-convert:hover {\n",
              "      background-color: #434B5C;\n",
              "      box-shadow: 0px 1px 3px 1px rgba(0, 0, 0, 0.15);\n",
              "      filter: drop-shadow(0px 1px 2px rgba(0, 0, 0, 0.3));\n",
              "      fill: #FFFFFF;\n",
              "    }\n",
              "  </style>\n",
              "\n",
              "      <script>\n",
              "        const buttonEl =\n",
              "          document.querySelector('#df-9b52ab80-c5bc-4216-a27b-fa120daf246e button.colab-df-convert');\n",
              "        buttonEl.style.display =\n",
              "          google.colab.kernel.accessAllowed ? 'block' : 'none';\n",
              "\n",
              "        async function convertToInteractive(key) {\n",
              "          const element = document.querySelector('#df-9b52ab80-c5bc-4216-a27b-fa120daf246e');\n",
              "          const dataTable =\n",
              "            await google.colab.kernel.invokeFunction('convertToInteractive',\n",
              "                                                     [key], {});\n",
              "          if (!dataTable) return;\n",
              "\n",
              "          const docLinkHtml = 'Like what you see? Visit the ' +\n",
              "            '<a target=\"_blank\" href=https://colab.research.google.com/notebooks/data_table.ipynb>data table notebook</a>'\n",
              "            + ' to learn more about interactive tables.';\n",
              "          element.innerHTML = '';\n",
              "          dataTable['output_type'] = 'display_data';\n",
              "          await google.colab.output.renderOutput(dataTable, element);\n",
              "          const docLink = document.createElement('div');\n",
              "          docLink.innerHTML = docLinkHtml;\n",
              "          element.appendChild(docLink);\n",
              "        }\n",
              "      </script>\n",
              "    </div>\n",
              "  </div>\n",
              "  "
            ]
          },
          "metadata": {},
          "execution_count": 30
        }
      ]
    },
    {
      "cell_type": "markdown",
      "source": [
        "Statistical Summary on data given below"
      ],
      "metadata": {
        "id": "8J3Qh3eLynIc"
      }
    },
    {
      "cell_type": "code",
      "source": [
        "data_refined.describe()"
      ],
      "metadata": {
        "colab": {
          "base_uri": "https://localhost:8080/",
          "height": 300
        },
        "id": "79AnC0eJyqte",
        "outputId": "cfb9aede-84d2-4242-e078-66dbeaad4a0d"
      },
      "execution_count": null,
      "outputs": [
        {
          "output_type": "execute_result",
          "data": {
            "text/plain": [
              "        release_year     year_added\n",
              "count  202065.000000  201907.000000\n",
              "mean     2013.448950    2018.965440\n",
              "std         9.013616       1.551654\n",
              "min      1925.000000    2008.000000\n",
              "25%      2012.000000    2018.000000\n",
              "50%      2016.000000    2019.000000\n",
              "75%      2019.000000    2020.000000\n",
              "max      2021.000000    2021.000000"
            ],
            "text/html": [
              "\n",
              "  <div id=\"df-02a40306-40b1-4ffd-b39d-b0628b3af654\">\n",
              "    <div class=\"colab-df-container\">\n",
              "      <div>\n",
              "<style scoped>\n",
              "    .dataframe tbody tr th:only-of-type {\n",
              "        vertical-align: middle;\n",
              "    }\n",
              "\n",
              "    .dataframe tbody tr th {\n",
              "        vertical-align: top;\n",
              "    }\n",
              "\n",
              "    .dataframe thead th {\n",
              "        text-align: right;\n",
              "    }\n",
              "</style>\n",
              "<table border=\"1\" class=\"dataframe\">\n",
              "  <thead>\n",
              "    <tr style=\"text-align: right;\">\n",
              "      <th></th>\n",
              "      <th>release_year</th>\n",
              "      <th>year_added</th>\n",
              "    </tr>\n",
              "  </thead>\n",
              "  <tbody>\n",
              "    <tr>\n",
              "      <th>count</th>\n",
              "      <td>202065.000000</td>\n",
              "      <td>201907.000000</td>\n",
              "    </tr>\n",
              "    <tr>\n",
              "      <th>mean</th>\n",
              "      <td>2013.448950</td>\n",
              "      <td>2018.965440</td>\n",
              "    </tr>\n",
              "    <tr>\n",
              "      <th>std</th>\n",
              "      <td>9.013616</td>\n",
              "      <td>1.551654</td>\n",
              "    </tr>\n",
              "    <tr>\n",
              "      <th>min</th>\n",
              "      <td>1925.000000</td>\n",
              "      <td>2008.000000</td>\n",
              "    </tr>\n",
              "    <tr>\n",
              "      <th>25%</th>\n",
              "      <td>2012.000000</td>\n",
              "      <td>2018.000000</td>\n",
              "    </tr>\n",
              "    <tr>\n",
              "      <th>50%</th>\n",
              "      <td>2016.000000</td>\n",
              "      <td>2019.000000</td>\n",
              "    </tr>\n",
              "    <tr>\n",
              "      <th>75%</th>\n",
              "      <td>2019.000000</td>\n",
              "      <td>2020.000000</td>\n",
              "    </tr>\n",
              "    <tr>\n",
              "      <th>max</th>\n",
              "      <td>2021.000000</td>\n",
              "      <td>2021.000000</td>\n",
              "    </tr>\n",
              "  </tbody>\n",
              "</table>\n",
              "</div>\n",
              "      <button class=\"colab-df-convert\" onclick=\"convertToInteractive('df-02a40306-40b1-4ffd-b39d-b0628b3af654')\"\n",
              "              title=\"Convert this dataframe to an interactive table.\"\n",
              "              style=\"display:none;\">\n",
              "        \n",
              "  <svg xmlns=\"http://www.w3.org/2000/svg\" height=\"24px\"viewBox=\"0 0 24 24\"\n",
              "       width=\"24px\">\n",
              "    <path d=\"M0 0h24v24H0V0z\" fill=\"none\"/>\n",
              "    <path d=\"M18.56 5.44l.94 2.06.94-2.06 2.06-.94-2.06-.94-.94-2.06-.94 2.06-2.06.94zm-11 1L8.5 8.5l.94-2.06 2.06-.94-2.06-.94L8.5 2.5l-.94 2.06-2.06.94zm10 10l.94 2.06.94-2.06 2.06-.94-2.06-.94-.94-2.06-.94 2.06-2.06.94z\"/><path d=\"M17.41 7.96l-1.37-1.37c-.4-.4-.92-.59-1.43-.59-.52 0-1.04.2-1.43.59L10.3 9.45l-7.72 7.72c-.78.78-.78 2.05 0 2.83L4 21.41c.39.39.9.59 1.41.59.51 0 1.02-.2 1.41-.59l7.78-7.78 2.81-2.81c.8-.78.8-2.07 0-2.86zM5.41 20L4 18.59l7.72-7.72 1.47 1.35L5.41 20z\"/>\n",
              "  </svg>\n",
              "      </button>\n",
              "      \n",
              "  <style>\n",
              "    .colab-df-container {\n",
              "      display:flex;\n",
              "      flex-wrap:wrap;\n",
              "      gap: 12px;\n",
              "    }\n",
              "\n",
              "    .colab-df-convert {\n",
              "      background-color: #E8F0FE;\n",
              "      border: none;\n",
              "      border-radius: 50%;\n",
              "      cursor: pointer;\n",
              "      display: none;\n",
              "      fill: #1967D2;\n",
              "      height: 32px;\n",
              "      padding: 0 0 0 0;\n",
              "      width: 32px;\n",
              "    }\n",
              "\n",
              "    .colab-df-convert:hover {\n",
              "      background-color: #E2EBFA;\n",
              "      box-shadow: 0px 1px 2px rgba(60, 64, 67, 0.3), 0px 1px 3px 1px rgba(60, 64, 67, 0.15);\n",
              "      fill: #174EA6;\n",
              "    }\n",
              "\n",
              "    [theme=dark] .colab-df-convert {\n",
              "      background-color: #3B4455;\n",
              "      fill: #D2E3FC;\n",
              "    }\n",
              "\n",
              "    [theme=dark] .colab-df-convert:hover {\n",
              "      background-color: #434B5C;\n",
              "      box-shadow: 0px 1px 3px 1px rgba(0, 0, 0, 0.15);\n",
              "      filter: drop-shadow(0px 1px 2px rgba(0, 0, 0, 0.3));\n",
              "      fill: #FFFFFF;\n",
              "    }\n",
              "  </style>\n",
              "\n",
              "      <script>\n",
              "        const buttonEl =\n",
              "          document.querySelector('#df-02a40306-40b1-4ffd-b39d-b0628b3af654 button.colab-df-convert');\n",
              "        buttonEl.style.display =\n",
              "          google.colab.kernel.accessAllowed ? 'block' : 'none';\n",
              "\n",
              "        async function convertToInteractive(key) {\n",
              "          const element = document.querySelector('#df-02a40306-40b1-4ffd-b39d-b0628b3af654');\n",
              "          const dataTable =\n",
              "            await google.colab.kernel.invokeFunction('convertToInteractive',\n",
              "                                                     [key], {});\n",
              "          if (!dataTable) return;\n",
              "\n",
              "          const docLinkHtml = 'Like what you see? Visit the ' +\n",
              "            '<a target=\"_blank\" href=https://colab.research.google.com/notebooks/data_table.ipynb>data table notebook</a>'\n",
              "            + ' to learn more about interactive tables.';\n",
              "          element.innerHTML = '';\n",
              "          dataTable['output_type'] = 'display_data';\n",
              "          await google.colab.output.renderOutput(dataTable, element);\n",
              "          const docLink = document.createElement('div');\n",
              "          docLink.innerHTML = docLinkHtml;\n",
              "          element.appendChild(docLink);\n",
              "        }\n",
              "      </script>\n",
              "    </div>\n",
              "  </div>\n",
              "  "
            ]
          },
          "metadata": {},
          "execution_count": 31
        }
      ]
    },
    {
      "cell_type": "code",
      "source": [
        "data_refined.describe(include = 'object')"
      ],
      "metadata": {
        "colab": {
          "base_uri": "https://localhost:8080/",
          "height": 219
        },
        "id": "UbUvTOOXyxr8",
        "outputId": "2fc41213-68fc-4471-aa9b-af221691b6a4"
      },
      "execution_count": null,
      "outputs": [
        {
          "output_type": "execute_result",
          "data": {
            "text/plain": [
              "       show_id    type                        title       director  \\\n",
              "count   202065  202065                       202065         189012   \n",
              "unique    8807       2                         8807           5120   \n",
              "top      s7165   Movie  Kahlil Gibran's The Prophet  Yasuhiro Irie   \n",
              "freq       700  145917                          700           3226   \n",
              "\n",
              "               cast        country  rating  duration              listed_in  \\\n",
              "count        201856         192469  201998    202062                 202065   \n",
              "unique        39296            197      17       220                     73   \n",
              "top     Samuel West  United States   TV-MA  1 Season   International Movies   \n",
              "freq            344          50432   73915     35035                  27141   \n",
              "\n",
              "                                              description  \n",
              "count                                              202065  \n",
              "unique                                               8775  \n",
              "top     A troubled young girl and her mother find sola...  \n",
              "freq                                                  700  "
            ],
            "text/html": [
              "\n",
              "  <div id=\"df-27b6fd70-d349-4a78-98f6-2cd37b336873\">\n",
              "    <div class=\"colab-df-container\">\n",
              "      <div>\n",
              "<style scoped>\n",
              "    .dataframe tbody tr th:only-of-type {\n",
              "        vertical-align: middle;\n",
              "    }\n",
              "\n",
              "    .dataframe tbody tr th {\n",
              "        vertical-align: top;\n",
              "    }\n",
              "\n",
              "    .dataframe thead th {\n",
              "        text-align: right;\n",
              "    }\n",
              "</style>\n",
              "<table border=\"1\" class=\"dataframe\">\n",
              "  <thead>\n",
              "    <tr style=\"text-align: right;\">\n",
              "      <th></th>\n",
              "      <th>show_id</th>\n",
              "      <th>type</th>\n",
              "      <th>title</th>\n",
              "      <th>director</th>\n",
              "      <th>cast</th>\n",
              "      <th>country</th>\n",
              "      <th>rating</th>\n",
              "      <th>duration</th>\n",
              "      <th>listed_in</th>\n",
              "      <th>description</th>\n",
              "    </tr>\n",
              "  </thead>\n",
              "  <tbody>\n",
              "    <tr>\n",
              "      <th>count</th>\n",
              "      <td>202065</td>\n",
              "      <td>202065</td>\n",
              "      <td>202065</td>\n",
              "      <td>189012</td>\n",
              "      <td>201856</td>\n",
              "      <td>192469</td>\n",
              "      <td>201998</td>\n",
              "      <td>202062</td>\n",
              "      <td>202065</td>\n",
              "      <td>202065</td>\n",
              "    </tr>\n",
              "    <tr>\n",
              "      <th>unique</th>\n",
              "      <td>8807</td>\n",
              "      <td>2</td>\n",
              "      <td>8807</td>\n",
              "      <td>5120</td>\n",
              "      <td>39296</td>\n",
              "      <td>197</td>\n",
              "      <td>17</td>\n",
              "      <td>220</td>\n",
              "      <td>73</td>\n",
              "      <td>8775</td>\n",
              "    </tr>\n",
              "    <tr>\n",
              "      <th>top</th>\n",
              "      <td>s7165</td>\n",
              "      <td>Movie</td>\n",
              "      <td>Kahlil Gibran's The Prophet</td>\n",
              "      <td>Yasuhiro Irie</td>\n",
              "      <td>Samuel West</td>\n",
              "      <td>United States</td>\n",
              "      <td>TV-MA</td>\n",
              "      <td>1 Season</td>\n",
              "      <td>International Movies</td>\n",
              "      <td>A troubled young girl and her mother find sola...</td>\n",
              "    </tr>\n",
              "    <tr>\n",
              "      <th>freq</th>\n",
              "      <td>700</td>\n",
              "      <td>145917</td>\n",
              "      <td>700</td>\n",
              "      <td>3226</td>\n",
              "      <td>344</td>\n",
              "      <td>50432</td>\n",
              "      <td>73915</td>\n",
              "      <td>35035</td>\n",
              "      <td>27141</td>\n",
              "      <td>700</td>\n",
              "    </tr>\n",
              "  </tbody>\n",
              "</table>\n",
              "</div>\n",
              "      <button class=\"colab-df-convert\" onclick=\"convertToInteractive('df-27b6fd70-d349-4a78-98f6-2cd37b336873')\"\n",
              "              title=\"Convert this dataframe to an interactive table.\"\n",
              "              style=\"display:none;\">\n",
              "        \n",
              "  <svg xmlns=\"http://www.w3.org/2000/svg\" height=\"24px\"viewBox=\"0 0 24 24\"\n",
              "       width=\"24px\">\n",
              "    <path d=\"M0 0h24v24H0V0z\" fill=\"none\"/>\n",
              "    <path d=\"M18.56 5.44l.94 2.06.94-2.06 2.06-.94-2.06-.94-.94-2.06-.94 2.06-2.06.94zm-11 1L8.5 8.5l.94-2.06 2.06-.94-2.06-.94L8.5 2.5l-.94 2.06-2.06.94zm10 10l.94 2.06.94-2.06 2.06-.94-2.06-.94-.94-2.06-.94 2.06-2.06.94z\"/><path d=\"M17.41 7.96l-1.37-1.37c-.4-.4-.92-.59-1.43-.59-.52 0-1.04.2-1.43.59L10.3 9.45l-7.72 7.72c-.78.78-.78 2.05 0 2.83L4 21.41c.39.39.9.59 1.41.59.51 0 1.02-.2 1.41-.59l7.78-7.78 2.81-2.81c.8-.78.8-2.07 0-2.86zM5.41 20L4 18.59l7.72-7.72 1.47 1.35L5.41 20z\"/>\n",
              "  </svg>\n",
              "      </button>\n",
              "      \n",
              "  <style>\n",
              "    .colab-df-container {\n",
              "      display:flex;\n",
              "      flex-wrap:wrap;\n",
              "      gap: 12px;\n",
              "    }\n",
              "\n",
              "    .colab-df-convert {\n",
              "      background-color: #E8F0FE;\n",
              "      border: none;\n",
              "      border-radius: 50%;\n",
              "      cursor: pointer;\n",
              "      display: none;\n",
              "      fill: #1967D2;\n",
              "      height: 32px;\n",
              "      padding: 0 0 0 0;\n",
              "      width: 32px;\n",
              "    }\n",
              "\n",
              "    .colab-df-convert:hover {\n",
              "      background-color: #E2EBFA;\n",
              "      box-shadow: 0px 1px 2px rgba(60, 64, 67, 0.3), 0px 1px 3px 1px rgba(60, 64, 67, 0.15);\n",
              "      fill: #174EA6;\n",
              "    }\n",
              "\n",
              "    [theme=dark] .colab-df-convert {\n",
              "      background-color: #3B4455;\n",
              "      fill: #D2E3FC;\n",
              "    }\n",
              "\n",
              "    [theme=dark] .colab-df-convert:hover {\n",
              "      background-color: #434B5C;\n",
              "      box-shadow: 0px 1px 3px 1px rgba(0, 0, 0, 0.15);\n",
              "      filter: drop-shadow(0px 1px 2px rgba(0, 0, 0, 0.3));\n",
              "      fill: #FFFFFF;\n",
              "    }\n",
              "  </style>\n",
              "\n",
              "      <script>\n",
              "        const buttonEl =\n",
              "          document.querySelector('#df-27b6fd70-d349-4a78-98f6-2cd37b336873 button.colab-df-convert');\n",
              "        buttonEl.style.display =\n",
              "          google.colab.kernel.accessAllowed ? 'block' : 'none';\n",
              "\n",
              "        async function convertToInteractive(key) {\n",
              "          const element = document.querySelector('#df-27b6fd70-d349-4a78-98f6-2cd37b336873');\n",
              "          const dataTable =\n",
              "            await google.colab.kernel.invokeFunction('convertToInteractive',\n",
              "                                                     [key], {});\n",
              "          if (!dataTable) return;\n",
              "\n",
              "          const docLinkHtml = 'Like what you see? Visit the ' +\n",
              "            '<a target=\"_blank\" href=https://colab.research.google.com/notebooks/data_table.ipynb>data table notebook</a>'\n",
              "            + ' to learn more about interactive tables.';\n",
              "          element.innerHTML = '';\n",
              "          dataTable['output_type'] = 'display_data';\n",
              "          await google.colab.output.renderOutput(dataTable, element);\n",
              "          const docLink = document.createElement('div');\n",
              "          docLink.innerHTML = docLinkHtml;\n",
              "          element.appendChild(docLink);\n",
              "        }\n",
              "      </script>\n",
              "    </div>\n",
              "  </div>\n",
              "  "
            ]
          },
          "metadata": {},
          "execution_count": 32
        }
      ]
    },
    {
      "cell_type": "markdown",
      "source": [
        "We can observe that data set has release years from 1925 to 2021 and has maximum data of year- 2019\n",
        "\n",
        "Also you can observe unique directors, casts' country it was release to, and the top director cast movies, countries etc."
      ],
      "metadata": {
        "id": "HhBlmkvvy931"
      }
    },
    {
      "cell_type": "markdown",
      "source": [
        "# Non-Graphical Analysis: Value counts and unique attributes"
      ],
      "metadata": {
        "id": "Kkn9YMfXzdct"
      }
    },
    {
      "cell_type": "code",
      "source": [
        "data_refined['director'].value_counts()"
      ],
      "metadata": {
        "colab": {
          "base_uri": "https://localhost:8080/"
        },
        "id": "0vcqdgOdz7Pw",
        "outputId": "122730e5-1c76-43e4-9ca2-2acde819715f"
      },
      "execution_count": null,
      "outputs": [
        {
          "output_type": "execute_result",
          "data": {
            "text/plain": [
              "Yasuhiro Irie      3226\n",
              "Danny Cannon       2797\n",
              "Noam Murro         2482\n",
              "Shin Won-ho        2415\n",
              "Kenny Ortega       1561\n",
              "                   ... \n",
              "Ari Levinson          1\n",
              "Tony Zierra           1\n",
              "Andrew Renzi          1\n",
              " Toby Trackman        1\n",
              "Kirsten Johnson       1\n",
              "Name: director, Length: 5120, dtype: int64"
            ]
          },
          "metadata": {},
          "execution_count": 33
        }
      ]
    },
    {
      "cell_type": "code",
      "source": [
        "data_refined['cast'].value_counts()"
      ],
      "metadata": {
        "colab": {
          "base_uri": "https://localhost:8080/"
        },
        "id": "GpuKi4_r1AXt",
        "outputId": "be434aa1-0e28-4946-8f6a-fe091617b209"
      },
      "execution_count": null,
      "outputs": [
        {
          "output_type": "execute_result",
          "data": {
            "text/plain": [
              "Samuel West           344\n",
              "David Attenborough    270\n",
              " Alfred Molina        160\n",
              " Anupam Kher          133\n",
              " Salma Hayek          130\n",
              "                     ... \n",
              "Christoph Niemann       1\n",
              " Tinker Hatfield        1\n",
              " Es Devlin              1\n",
              " Bjarke Ingels          1\n",
              " Brynna Drummond        1\n",
              "Name: cast, Length: 39296, dtype: int64"
            ]
          },
          "metadata": {},
          "execution_count": 34
        }
      ]
    },
    {
      "cell_type": "code",
      "source": [
        "data_refined['listed_in'].value_counts()"
      ],
      "metadata": {
        "colab": {
          "base_uri": "https://localhost:8080/"
        },
        "id": "9SkQQy531FD8",
        "outputId": "d2141557-b7cd-4838-ee6d-f71fb783676c"
      },
      "execution_count": null,
      "outputs": [
        {
          "output_type": "execute_result",
          "data": {
            "text/plain": [
              " International Movies    27141\n",
              "Dramas                   19657\n",
              "Comedies                 13894\n",
              "Action & Adventure       12216\n",
              " Dramas                  10149\n",
              "                         ...  \n",
              " Stand-Up Comedy            24\n",
              "Romantic Movies             20\n",
              "TV Sci-Fi & Fantasy          7\n",
              "LGBTQ Movies                 5\n",
              "Sports Movies                3\n",
              "Name: listed_in, Length: 73, dtype: int64"
            ]
          },
          "metadata": {},
          "execution_count": 35
        }
      ]
    },
    {
      "cell_type": "code",
      "source": [
        "data_refined['country'].value_counts()"
      ],
      "metadata": {
        "colab": {
          "base_uri": "https://localhost:8080/"
        },
        "id": "beavKmA41I3u",
        "outputId": "70f0f41d-2484-45d2-8325-03aff3fbef70"
      },
      "execution_count": null,
      "outputs": [
        {
          "output_type": "execute_result",
          "data": {
            "text/plain": [
              "United States     50432\n",
              "India             22600\n",
              "United Kingdom     9751\n",
              " United States     9504\n",
              "Japan              7595\n",
              "                  ...  \n",
              " Ukraine              2\n",
              " Palestine            2\n",
              " Kazakhstan           1\n",
              " Nicaragua            1\n",
              " Uganda               1\n",
              "Name: country, Length: 197, dtype: int64"
            ]
          },
          "metadata": {},
          "execution_count": 36
        }
      ]
    },
    {
      "cell_type": "markdown",
      "source": [
        "Above code we can see there are two columns in country as 'United States'"
      ],
      "metadata": {
        "id": "-X7XpdKkKJL9"
      }
    },
    {
      "cell_type": "code",
      "source": [
        "data_refined['country'].replace(' United States', 'United States', inplace = True)"
      ],
      "metadata": {
        "id": "N3vlxuAKKGvg"
      },
      "execution_count": null,
      "outputs": []
    },
    {
      "cell_type": "code",
      "source": [
        "data_refined[['director','cast','country','listed_in']].value_counts()"
      ],
      "metadata": {
        "colab": {
          "base_uri": "https://localhost:8080/"
        },
        "id": "fWjXill61MSO",
        "outputId": "5bef4ff4-f49b-4d9c-ea25-656168fd75b7"
      },
      "execution_count": null,
      "outputs": [
        {
          "output_type": "execute_result",
          "data": {
            "text/plain": [
              "director            cast                country         listed_in       \n",
              "Ken Burns            Lena Waithe        United States   Docuseries          79\n",
              " Barbara Schroeder  David Attenborough  United States    Docuseries         42\n",
              "Michael Simon        Adriano Zumbo      United States   Reality TV          40\n",
              "Danny Cannon         Deborah Ann Woll   United States   Crime TV Shows      38\n",
              "Noam Murro          David Attenborough  United Kingdom  British TV Shows    35\n",
              "                                                                            ..\n",
              "Evan Katz            Gary Cole          Canada          Dramas               1\n",
              "                                        United States    Thrillers           1\n",
              "                                                        Dramas               1\n",
              "                     Jacki Weaver       Canada           Thrillers           1\n",
              "Şenol Sönmez        Murat Boz           Turkey          Comedies             1\n",
              "Length: 170052, dtype: int64"
            ]
          },
          "metadata": {},
          "execution_count": 38
        }
      ]
    },
    {
      "cell_type": "markdown",
      "source": [
        "We can observe that Yasuhiro Irie has directed/worked on most of movies/TV Shows as director, similarly most of the movies/TV Shows were release in United States followed by India and most of the movies are listed in 'International Movies'. \n",
        "\n",
        "Samuel West seems to be the actions with higest counts.\n",
        "\n",
        "If we look them together we can find the actor director preferences in different countries with their genre defined."
      ],
      "metadata": {
        "id": "NQPOTTKgKJFR"
      }
    },
    {
      "cell_type": "markdown",
      "source": [
        "Now for the unique attibutes"
      ],
      "metadata": {
        "id": "unF2yIurLTla"
      }
    },
    {
      "cell_type": "code",
      "source": [
        "data_refined.nunique()"
      ],
      "metadata": {
        "colab": {
          "base_uri": "https://localhost:8080/"
        },
        "id": "mlT7twGcKxQ_",
        "outputId": "3e1fccef-c296-48f1-b774-855b1bd71059"
      },
      "execution_count": null,
      "outputs": [
        {
          "output_type": "execute_result",
          "data": {
            "text/plain": [
              "show_id          8807\n",
              "type                2\n",
              "title            8807\n",
              "director         5120\n",
              "cast            39296\n",
              "country           196\n",
              "date_added       1714\n",
              "release_year       74\n",
              "rating             17\n",
              "duration          220\n",
              "listed_in          73\n",
              "description      8775\n",
              "year_added         14\n",
              "dtype: int64"
            ]
          },
          "metadata": {},
          "execution_count": 39
        }
      ]
    },
    {
      "cell_type": "markdown",
      "source": [
        "similary we can find values, unique values, min max using describe as shown above"
      ],
      "metadata": {
        "id": "regH1piYSxus"
      }
    },
    {
      "cell_type": "markdown",
      "source": [
        "# 4. Visual Analysis - Univariate, Bivariate after pre-processing of the data"
      ],
      "metadata": {
        "id": "5pfsEzMNTRpx"
      }
    },
    {
      "cell_type": "markdown",
      "source": [
        "Let us first see the count of movies and tv shows released"
      ],
      "metadata": {
        "id": "6em4kt7yhXhx"
      }
    },
    {
      "cell_type": "code",
      "source": [
        "sns.histplot(data_refined, x = 'type', binwidth = 3)\n",
        "plt.title('Movies vs TV Shows')\n",
        "plt.show()"
      ],
      "metadata": {
        "colab": {
          "base_uri": "https://localhost:8080/",
          "height": 295
        },
        "id": "-SL3oiZFhDiR",
        "outputId": "78a280de-4888-4c35-b2ab-7fc54de7b02c"
      },
      "execution_count": null,
      "outputs": [
        {
          "output_type": "display_data",
          "data": {
            "text/plain": [
              "<Figure size 432x288 with 1 Axes>"
            ],
            "image/png": "[encoded data removed]"
          },
          "metadata": {
            "needs_background": "light"
          }
        }
      ]
    },
    {
      "cell_type": "markdown",
      "source": [
        "The below plot shows how movies started releasing there content over OTT platform and in 2016-2020 netflix became a popular OTT platform with max number of shows and movies being released"
      ],
      "metadata": {
        "id": "v0NAZ34qkUX3"
      }
    },
    {
      "cell_type": "code",
      "source": [
        "plt.figure(figsize=(8,5))\n",
        "sns.histplot(data = data_refined, x = 'release_year',  hue = 'type',bins = 50, element=\"poly\")\n",
        "plt.xticks(rotation = 90)\n",
        "plt.title('Number of shows being released over 10 years')\n",
        "plt.xlim(2000,2020)\n",
        "plt.grid()\n",
        "plt.show()"
      ],
      "metadata": {
        "colab": {
          "base_uri": "https://localhost:8080/",
          "height": 376
        },
        "id": "P0qC1v3nlPYr",
        "outputId": "4f64341f-78e1-452b-95bf-73ebe98cd1d6"
      },
      "execution_count": null,
      "outputs": [
        {
          "output_type": "display_data",
          "data": {
            "text/plain": [
              "<Figure size 576x360 with 1 Axes>"
            ],
            "image/png": "[encoded data removed]"
          },
          "metadata": {
            "needs_background": "light"
          }
        }
      ]
    },
    {
      "cell_type": "markdown",
      "source": [
        "Let us see the movies/tv shows released in US VS India (two of the most popular countries where most of the movies/shows were released)"
      ],
      "metadata": {
        "id": "dS437w-WKubP"
      }
    },
    {
      "cell_type": "code",
      "source": [
        "top_five = data_refined.loc[data_refined['country'].isin(['India','United States', 'United Kingdom', 'Japan','South Korea '])]"
      ],
      "metadata": {
        "id": "qQIHstKeB-1k"
      },
      "execution_count": null,
      "outputs": []
    },
    {
      "cell_type": "code",
      "source": [
        "sns.countplot(x = 'country',data = top_five, hue = 'type')\n",
        "plt.xlabel('Country', fontsize = 12)\n",
        "plt.title('Top 5 Countries')\n",
        "plt.show()"
      ],
      "metadata": {
        "colab": {
          "base_uri": "https://localhost:8080/",
          "height": 298
        },
        "id": "tbZhqHJ0KkOq",
        "outputId": "b198b915-b582-4d54-aaec-f97d53a9be64"
      },
      "execution_count": null,
      "outputs": [
        {
          "output_type": "display_data",
          "data": {
            "text/plain": [
              "<Figure size 432x288 with 1 Axes>"
            ],
            "image/png": "[encoded data removed]"
          },
          "metadata": {
            "needs_background": "light"
          }
        }
      ]
    },
    {
      "cell_type": "code",
      "source": [
        "plt.figure(figsize = (10,5))\n",
        "sns.boxplot(x = 'type', y = 'release_year', data = data_refined)\n",
        "plt.title('Movies release in different years since the beginning')\n",
        "plt.show()"
      ],
      "metadata": {
        "colab": {
          "base_uri": "https://localhost:8080/",
          "height": 350
        },
        "id": "F8Mszgd6fbFA",
        "outputId": "59abdc69-673f-4e49-9c26-f0cae7504d14"
      },
      "execution_count": null,
      "outputs": [
        {
          "output_type": "display_data",
          "data": {
            "text/plain": [
              "<Figure size 720x360 with 1 Axes>"
            ],
            "image/png": "[encoded data removed]"
          },
          "metadata": {
            "needs_background": "light"
          }
        }
      ]
    },
    {
      "cell_type": "markdown",
      "source": [
        "Pair Plot"
      ],
      "metadata": {
        "id": "oIYXMvhLW3TV"
      }
    },
    {
      "cell_type": "code",
      "source": [
        "plt.figure(figsize=(15,8))\n",
        "sns.pairplot(data = data_refined, hue = 'type', plot_kws=dict(marker=\"+\", linewidth=1),\n",
        "             diag_kws=dict(fill=False), height=3)\n",
        "plt.show()"
      ],
      "metadata": {
        "colab": {
          "base_uri": "https://localhost:8080/",
          "height": 461
        },
        "id": "YW2fqJWYLZTH",
        "outputId": "76dc19ee-8c8a-4439-82ff-b864036dcaf4"
      },
      "execution_count": null,
      "outputs": [
        {
          "output_type": "display_data",
          "data": {
            "text/plain": [
              "<Figure size 1080x576 with 0 Axes>"
            ]
          },
          "metadata": {}
        },
        {
          "output_type": "display_data",
          "data": {
            "text/plain": [
              "<Figure size 510.75x432 with 6 Axes>"
            ],
            "image/png": "[encoded data removed]"
          },
          "metadata": {
            "needs_background": "light"
          }
        }
      ]
    },
    {
      "cell_type": "markdown",
      "source": [
        "Heat Map"
      ],
      "metadata": {
        "id": "wiRjSADxW5ac"
      }
    },
    {
      "cell_type": "code",
      "source": [
        "sns.heatmap(data_refined.corr())\n",
        "plt.show()"
      ],
      "metadata": {
        "colab": {
          "base_uri": "https://localhost:8080/",
          "height": 270
        },
        "id": "xJazCQ7xPANt",
        "outputId": "52850e79-b1a6-4e95-e3df-24e441526e2b"
      },
      "execution_count": null,
      "outputs": [
        {
          "output_type": "display_data",
          "data": {
            "text/plain": [
              "<Figure size 432x288 with 2 Axes>"
            ],
            "image/png": "[encoded data removed]"
          },
          "metadata": {
            "needs_background": "light"
          }
        }
      ]
    },
    {
      "cell_type": "markdown",
      "source": [
        "Please note: Since there are less numeric value in the data, heatmap and pairplot are not that efficient"
      ],
      "metadata": {
        "id": "G5aY1kkfXSm3"
      }
    },
    {
      "cell_type": "markdown",
      "source": [
        "# Missing Value & Outlier check (Treatment optional)"
      ],
      "metadata": {
        "id": "fWtAks-KZtLq"
      }
    },
    {
      "cell_type": "code",
      "source": [
        "np.any(data_refined.isna())"
      ],
      "metadata": {
        "colab": {
          "base_uri": "https://localhost:8080/"
        },
        "id": "36cYCj7uXanz",
        "outputId": "6746ce13-4643-4107-f9bb-23265d29b690"
      },
      "execution_count": null,
      "outputs": [
        {
          "output_type": "execute_result",
          "data": {
            "text/plain": [
              "True"
            ]
          },
          "metadata": {},
          "execution_count": 47
        }
      ]
    },
    {
      "cell_type": "code",
      "source": [
        "data_refined.info()"
      ],
      "metadata": {
        "colab": {
          "base_uri": "https://localhost:8080/"
        },
        "id": "HyLDf8Lablof",
        "outputId": "6c85b9a0-b663-4046-96a3-a3b21d171da1"
      },
      "execution_count": null,
      "outputs": [
        {
          "output_type": "stream",
          "name": "stdout",
          "text": [
            "<class 'pandas.core.frame.DataFrame'>\n",
            "Int64Index: 202065 entries, 0 to 202064\n",
            "Data columns (total 13 columns):\n",
            " #   Column        Non-Null Count   Dtype         \n",
            "---  ------        --------------   -----         \n",
            " 0   show_id       202065 non-null  object        \n",
            " 1   type          202065 non-null  object        \n",
            " 2   title         202065 non-null  object        \n",
            " 3   director      189012 non-null  object        \n",
            " 4   cast          201856 non-null  object        \n",
            " 5   country       192469 non-null  object        \n",
            " 6   date_added    201907 non-null  datetime64[ns]\n",
            " 7   release_year  202065 non-null  int64         \n",
            " 8   rating        201998 non-null  object        \n",
            " 9   duration      202062 non-null  object        \n",
            " 10  listed_in     202065 non-null  object        \n",
            " 11  description   202065 non-null  object        \n",
            " 12  year_added    201907 non-null  float64       \n",
            "dtypes: datetime64[ns](1), float64(1), int64(1), object(10)\n",
            "memory usage: 29.6+ MB\n"
          ]
        }
      ]
    },
    {
      "cell_type": "markdown",
      "source": [
        "When we check df.info(), we kind of see the missing value, also below code helps us filter particular column with null values"
      ],
      "metadata": {
        "id": "UMOv8GVvb81K"
      }
    },
    {
      "cell_type": "code",
      "source": [
        "filtered_director = data_refined[data_refined['director'].isnull()]"
      ],
      "metadata": {
        "id": "REuDXGPja1rd"
      },
      "execution_count": null,
      "outputs": []
    },
    {
      "cell_type": "markdown",
      "source": [
        "Similarly we can filter for other columns and check null values"
      ],
      "metadata": {
        "id": "lbED52bvjVZ9"
      }
    },
    {
      "cell_type": "code",
      "source": [
        "filtered_director"
      ],
      "metadata": {
        "colab": {
          "base_uri": "https://localhost:8080/",
          "height": 641
        },
        "id": "KDgNUSoKb5IZ",
        "outputId": "b6d04314-3625-4275-d994-5d7575ed858d"
      },
      "execution_count": null,
      "outputs": [
        {
          "output_type": "execute_result",
          "data": {
            "text/plain": [
              "       show_id     type          title director                cast  \\\n",
              "1           s2  TV Show  Blood & Water      NaN          Ama Qamata   \n",
              "2           s2  TV Show  Blood & Water      NaN          Ama Qamata   \n",
              "3           s2  TV Show  Blood & Water      NaN          Ama Qamata   \n",
              "4           s2  TV Show  Blood & Water      NaN         Khosi Ngema   \n",
              "5           s2  TV Show  Blood & Water      NaN         Khosi Ngema   \n",
              "...        ...      ...            ...      ...                 ...   \n",
              "201854   s8798  TV Show      Zak Storm      NaN   Christopher Smith   \n",
              "201858   s8798  TV Show      Zak Storm      NaN       Max Mittelman   \n",
              "201862   s8798  TV Show      Zak Storm      NaN           Reba Buhr   \n",
              "201866   s8798  TV Show      Zak Storm      NaN         Kyle Hebert   \n",
              "202007   s8804  TV Show    Zombie Dumb      NaN         Hong Bum-ki   \n",
              "\n",
              "              country date_added  release_year rating   duration  \\\n",
              "1        South Africa 2021-09-24          2021  TV-MA  2 Seasons   \n",
              "2        South Africa 2021-09-24          2021  TV-MA  2 Seasons   \n",
              "3        South Africa 2021-09-24          2021  TV-MA  2 Seasons   \n",
              "4        South Africa 2021-09-24          2021  TV-MA  2 Seasons   \n",
              "5        South Africa 2021-09-24          2021  TV-MA  2 Seasons   \n",
              "...               ...        ...           ...    ...        ...   \n",
              "201854      Indonesia 2018-09-13          2016  TV-Y7  3 Seasons   \n",
              "201858      Indonesia 2018-09-13          2016  TV-Y7  3 Seasons   \n",
              "201862      Indonesia 2018-09-13          2016  TV-Y7  3 Seasons   \n",
              "201866      Indonesia 2018-09-13          2016  TV-Y7  3 Seasons   \n",
              "202007  United States 2019-07-01          2018  TV-Y7  2 Seasons   \n",
              "\n",
              "                     listed_in  \\\n",
              "1       International TV Shows   \n",
              "2                    TV Dramas   \n",
              "3                 TV Mysteries   \n",
              "4       International TV Shows   \n",
              "5                    TV Dramas   \n",
              "...                        ...   \n",
              "201854                Kids' TV   \n",
              "201858                Kids' TV   \n",
              "201862                Kids' TV   \n",
              "201866                Kids' TV   \n",
              "202007         Korean TV Shows   \n",
              "\n",
              "                                              description  year_added  \n",
              "1       After crossing paths at a party, a Cape Town t...      2021.0  \n",
              "2       After crossing paths at a party, a Cape Town t...      2021.0  \n",
              "3       After crossing paths at a party, a Cape Town t...      2021.0  \n",
              "4       After crossing paths at a party, a Cape Town t...      2021.0  \n",
              "5       After crossing paths at a party, a Cape Town t...      2021.0  \n",
              "...                                                   ...         ...  \n",
              "201854  Teen surfer Zak Storm is mysteriously transpor...      2018.0  \n",
              "201858  Teen surfer Zak Storm is mysteriously transpor...      2018.0  \n",
              "201862  Teen surfer Zak Storm is mysteriously transpor...      2018.0  \n",
              "201866  Teen surfer Zak Storm is mysteriously transpor...      2018.0  \n",
              "202007  While living alone in a spooky town, a young g...      2019.0  \n",
              "\n",
              "[13053 rows x 13 columns]"
            ],
            "text/html": [
              "\n",
              "  <div id=\"df-708f8c1d-fd5e-4c56-8882-728cc25d7f89\">\n",
              "    <div class=\"colab-df-container\">\n",
              "      <div>\n",
              "<style scoped>\n",
              "    .dataframe tbody tr th:only-of-type {\n",
              "        vertical-align: middle;\n",
              "    }\n",
              "\n",
              "    .dataframe tbody tr th {\n",
              "        vertical-align: top;\n",
              "    }\n",
              "\n",
              "    .dataframe thead th {\n",
              "        text-align: right;\n",
              "    }\n",
              "</style>\n",
              "<table border=\"1\" class=\"dataframe\">\n",
              "  <thead>\n",
              "    <tr style=\"text-align: right;\">\n",
              "      <th></th>\n",
              "      <th>show_id</th>\n",
              "      <th>type</th>\n",
              "      <th>title</th>\n",
              "      <th>director</th>\n",
              "      <th>cast</th>\n",
              "      <th>country</th>\n",
              "      <th>date_added</th>\n",
              "      <th>release_year</th>\n",
              "      <th>rating</th>\n",
              "      <th>duration</th>\n",
              "      <th>listed_in</th>\n",
              "      <th>description</th>\n",
              "      <th>year_added</th>\n",
              "    </tr>\n",
              "  </thead>\n",
              "  <tbody>\n",
              "    <tr>\n",
              "      <th>1</th>\n",
              "      <td>s2</td>\n",
              "      <td>TV Show</td>\n",
              "      <td>Blood &amp; Water</td>\n",
              "      <td>NaN</td>\n",
              "      <td>Ama Qamata</td>\n",
              "      <td>South Africa</td>\n",
              "      <td>2021-09-24</td>\n",
              "      <td>2021</td>\n",
              "      <td>TV-MA</td>\n",
              "      <td>2 Seasons</td>\n",
              "      <td>International TV Shows</td>\n",
              "      <td>After crossing paths at a party, a Cape Town t...</td>\n",
              "      <td>2021.0</td>\n",
              "    </tr>\n",
              "    <tr>\n",
              "      <th>2</th>\n",
              "      <td>s2</td>\n",
              "      <td>TV Show</td>\n",
              "      <td>Blood &amp; Water</td>\n",
              "      <td>NaN</td>\n",
              "      <td>Ama Qamata</td>\n",
              "      <td>South Africa</td>\n",
              "      <td>2021-09-24</td>\n",
              "      <td>2021</td>\n",
              "      <td>TV-MA</td>\n",
              "      <td>2 Seasons</td>\n",
              "      <td>TV Dramas</td>\n",
              "      <td>After crossing paths at a party, a Cape Town t...</td>\n",
              "      <td>2021.0</td>\n",
              "    </tr>\n",
              "    <tr>\n",
              "      <th>3</th>\n",
              "      <td>s2</td>\n",
              "      <td>TV Show</td>\n",
              "      <td>Blood &amp; Water</td>\n",
              "      <td>NaN</td>\n",
              "      <td>Ama Qamata</td>\n",
              "      <td>South Africa</td>\n",
              "      <td>2021-09-24</td>\n",
              "      <td>2021</td>\n",
              "      <td>TV-MA</td>\n",
              "      <td>2 Seasons</td>\n",
              "      <td>TV Mysteries</td>\n",
              "      <td>After crossing paths at a party, a Cape Town t...</td>\n",
              "      <td>2021.0</td>\n",
              "    </tr>\n",
              "    <tr>\n",
              "      <th>4</th>\n",
              "      <td>s2</td>\n",
              "      <td>TV Show</td>\n",
              "      <td>Blood &amp; Water</td>\n",
              "      <td>NaN</td>\n",
              "      <td>Khosi Ngema</td>\n",
              "      <td>South Africa</td>\n",
              "      <td>2021-09-24</td>\n",
              "      <td>2021</td>\n",
              "      <td>TV-MA</td>\n",
              "      <td>2 Seasons</td>\n",
              "      <td>International TV Shows</td>\n",
              "      <td>After crossing paths at a party, a Cape Town t...</td>\n",
              "      <td>2021.0</td>\n",
              "    </tr>\n",
              "    <tr>\n",
              "      <th>5</th>\n",
              "      <td>s2</td>\n",
              "      <td>TV Show</td>\n",
              "      <td>Blood &amp; Water</td>\n",
              "      <td>NaN</td>\n",
              "      <td>Khosi Ngema</td>\n",
              "      <td>South Africa</td>\n",
              "      <td>2021-09-24</td>\n",
              "      <td>2021</td>\n",
              "      <td>TV-MA</td>\n",
              "      <td>2 Seasons</td>\n",
              "      <td>TV Dramas</td>\n",
              "      <td>After crossing paths at a party, a Cape Town t...</td>\n",
              "      <td>2021.0</td>\n",
              "    </tr>\n",
              "    <tr>\n",
              "      <th>...</th>\n",
              "      <td>...</td>\n",
              "      <td>...</td>\n",
              "      <td>...</td>\n",
              "      <td>...</td>\n",
              "      <td>...</td>\n",
              "      <td>...</td>\n",
              "      <td>...</td>\n",
              "      <td>...</td>\n",
              "      <td>...</td>\n",
              "      <td>...</td>\n",
              "      <td>...</td>\n",
              "      <td>...</td>\n",
              "      <td>...</td>\n",
              "    </tr>\n",
              "    <tr>\n",
              "      <th>201854</th>\n",
              "      <td>s8798</td>\n",
              "      <td>TV Show</td>\n",
              "      <td>Zak Storm</td>\n",
              "      <td>NaN</td>\n",
              "      <td>Christopher Smith</td>\n",
              "      <td>Indonesia</td>\n",
              "      <td>2018-09-13</td>\n",
              "      <td>2016</td>\n",
              "      <td>TV-Y7</td>\n",
              "      <td>3 Seasons</td>\n",
              "      <td>Kids' TV</td>\n",
              "      <td>Teen surfer Zak Storm is mysteriously transpor...</td>\n",
              "      <td>2018.0</td>\n",
              "    </tr>\n",
              "    <tr>\n",
              "      <th>201858</th>\n",
              "      <td>s8798</td>\n",
              "      <td>TV Show</td>\n",
              "      <td>Zak Storm</td>\n",
              "      <td>NaN</td>\n",
              "      <td>Max Mittelman</td>\n",
              "      <td>Indonesia</td>\n",
              "      <td>2018-09-13</td>\n",
              "      <td>2016</td>\n",
              "      <td>TV-Y7</td>\n",
              "      <td>3 Seasons</td>\n",
              "      <td>Kids' TV</td>\n",
              "      <td>Teen surfer Zak Storm is mysteriously transpor...</td>\n",
              "      <td>2018.0</td>\n",
              "    </tr>\n",
              "    <tr>\n",
              "      <th>201862</th>\n",
              "      <td>s8798</td>\n",
              "      <td>TV Show</td>\n",
              "      <td>Zak Storm</td>\n",
              "      <td>NaN</td>\n",
              "      <td>Reba Buhr</td>\n",
              "      <td>Indonesia</td>\n",
              "      <td>2018-09-13</td>\n",
              "      <td>2016</td>\n",
              "      <td>TV-Y7</td>\n",
              "      <td>3 Seasons</td>\n",
              "      <td>Kids' TV</td>\n",
              "      <td>Teen surfer Zak Storm is mysteriously transpor...</td>\n",
              "      <td>2018.0</td>\n",
              "    </tr>\n",
              "    <tr>\n",
              "      <th>201866</th>\n",
              "      <td>s8798</td>\n",
              "      <td>TV Show</td>\n",
              "      <td>Zak Storm</td>\n",
              "      <td>NaN</td>\n",
              "      <td>Kyle Hebert</td>\n",
              "      <td>Indonesia</td>\n",
              "      <td>2018-09-13</td>\n",
              "      <td>2016</td>\n",
              "      <td>TV-Y7</td>\n",
              "      <td>3 Seasons</td>\n",
              "      <td>Kids' TV</td>\n",
              "      <td>Teen surfer Zak Storm is mysteriously transpor...</td>\n",
              "      <td>2018.0</td>\n",
              "    </tr>\n",
              "    <tr>\n",
              "      <th>202007</th>\n",
              "      <td>s8804</td>\n",
              "      <td>TV Show</td>\n",
              "      <td>Zombie Dumb</td>\n",
              "      <td>NaN</td>\n",
              "      <td>Hong Bum-ki</td>\n",
              "      <td>United States</td>\n",
              "      <td>2019-07-01</td>\n",
              "      <td>2018</td>\n",
              "      <td>TV-Y7</td>\n",
              "      <td>2 Seasons</td>\n",
              "      <td>Korean TV Shows</td>\n",
              "      <td>While living alone in a spooky town, a young g...</td>\n",
              "      <td>2019.0</td>\n",
              "    </tr>\n",
              "  </tbody>\n",
              "</table>\n",
              "<p>13053 rows × 13 columns</p>\n",
              "</div>\n",
              "      <button class=\"colab-df-convert\" onclick=\"convertToInteractive('df-708f8c1d-fd5e-4c56-8882-728cc25d7f89')\"\n",
              "              title=\"Convert this dataframe to an interactive table.\"\n",
              "              style=\"display:none;\">\n",
              "        \n",
              "  <svg xmlns=\"http://www.w3.org/2000/svg\" height=\"24px\"viewBox=\"0 0 24 24\"\n",
              "       width=\"24px\">\n",
              "    <path d=\"M0 0h24v24H0V0z\" fill=\"none\"/>\n",
              "    <path d=\"M18.56 5.44l.94 2.06.94-2.06 2.06-.94-2.06-.94-.94-2.06-.94 2.06-2.06.94zm-11 1L8.5 8.5l.94-2.06 2.06-.94-2.06-.94L8.5 2.5l-.94 2.06-2.06.94zm10 10l.94 2.06.94-2.06 2.06-.94-2.06-.94-.94-2.06-.94 2.06-2.06.94z\"/><path d=\"M17.41 7.96l-1.37-1.37c-.4-.4-.92-.59-1.43-.59-.52 0-1.04.2-1.43.59L10.3 9.45l-7.72 7.72c-.78.78-.78 2.05 0 2.83L4 21.41c.39.39.9.59 1.41.59.51 0 1.02-.2 1.41-.59l7.78-7.78 2.81-2.81c.8-.78.8-2.07 0-2.86zM5.41 20L4 18.59l7.72-7.72 1.47 1.35L5.41 20z\"/>\n",
              "  </svg>\n",
              "      </button>\n",
              "      \n",
              "  <style>\n",
              "    .colab-df-container {\n",
              "      display:flex;\n",
              "      flex-wrap:wrap;\n",
              "      gap: 12px;\n",
              "    }\n",
              "\n",
              "    .colab-df-convert {\n",
              "      background-color: #E8F0FE;\n",
              "      border: none;\n",
              "      border-radius: 50%;\n",
              "      cursor: pointer;\n",
              "      display: none;\n",
              "      fill: #1967D2;\n",
              "      height: 32px;\n",
              "      padding: 0 0 0 0;\n",
              "      width: 32px;\n",
              "    }\n",
              "\n",
              "    .colab-df-convert:hover {\n",
              "      background-color: #E2EBFA;\n",
              "      box-shadow: 0px 1px 2px rgba(60, 64, 67, 0.3), 0px 1px 3px 1px rgba(60, 64, 67, 0.15);\n",
              "      fill: #174EA6;\n",
              "    }\n",
              "\n",
              "    [theme=dark] .colab-df-convert {\n",
              "      background-color: #3B4455;\n",
              "      fill: #D2E3FC;\n",
              "    }\n",
              "\n",
              "    [theme=dark] .colab-df-convert:hover {\n",
              "      background-color: #434B5C;\n",
              "      box-shadow: 0px 1px 3px 1px rgba(0, 0, 0, 0.15);\n",
              "      filter: drop-shadow(0px 1px 2px rgba(0, 0, 0, 0.3));\n",
              "      fill: #FFFFFF;\n",
              "    }\n",
              "  </style>\n",
              "\n",
              "      <script>\n",
              "        const buttonEl =\n",
              "          document.querySelector('#df-708f8c1d-fd5e-4c56-8882-728cc25d7f89 button.colab-df-convert');\n",
              "        buttonEl.style.display =\n",
              "          google.colab.kernel.accessAllowed ? 'block' : 'none';\n",
              "\n",
              "        async function convertToInteractive(key) {\n",
              "          const element = document.querySelector('#df-708f8c1d-fd5e-4c56-8882-728cc25d7f89');\n",
              "          const dataTable =\n",
              "            await google.colab.kernel.invokeFunction('convertToInteractive',\n",
              "                                                     [key], {});\n",
              "          if (!dataTable) return;\n",
              "\n",
              "          const docLinkHtml = 'Like what you see? Visit the ' +\n",
              "            '<a target=\"_blank\" href=https://colab.research.google.com/notebooks/data_table.ipynb>data table notebook</a>'\n",
              "            + ' to learn more about interactive tables.';\n",
              "          element.innerHTML = '';\n",
              "          dataTable['output_type'] = 'display_data';\n",
              "          await google.colab.output.renderOutput(dataTable, element);\n",
              "          const docLink = document.createElement('div');\n",
              "          docLink.innerHTML = docLinkHtml;\n",
              "          element.appendChild(docLink);\n",
              "        }\n",
              "      </script>\n",
              "    </div>\n",
              "  </div>\n",
              "  "
            ]
          },
          "metadata": {},
          "execution_count": 50
        }
      ]
    },
    {
      "cell_type": "markdown",
      "source": [
        "We had already treated the original data with mode values grouping by columns that might be related to each other. Even though we still have null values, we can still fill the missing values by mode of that particular column however that will completely change the data accuracy as mode of that particular column will be decided on the frequency. \n",
        "\n",
        "For example:-if we take df['director'].mode, will see that Yasuhire Irie has most number of frequency, however we cannot fill all the columns with Yashuhire as he may not direct movies from other countries."
      ],
      "metadata": {
        "id": "Pkq7bFaIcTwT"
      }
    },
    {
      "cell_type": "code",
      "source": [
        "data_refined['director'].mode()"
      ],
      "metadata": {
        "colab": {
          "base_uri": "https://localhost:8080/"
        },
        "id": "gT9rnnD4cZ3F",
        "outputId": "2606f65d-93e5-46f2-84cc-140b2a6a75cd"
      },
      "execution_count": null,
      "outputs": [
        {
          "output_type": "execute_result",
          "data": {
            "text/plain": [
              "0    Yasuhiro Irie\n",
              "dtype: object"
            ]
          },
          "metadata": {},
          "execution_count": 51
        }
      ]
    },
    {
      "cell_type": "markdown",
      "source": [
        "We can use quantile and filter outliers using below code"
      ],
      "metadata": {
        "id": "5bKG2f7CdGQ3"
      }
    },
    {
      "cell_type": "code",
      "source": [
        "high = data_refined['release_year'].quantile(0.99)"
      ],
      "metadata": {
        "id": "ca2CFs1EeiDw"
      },
      "execution_count": null,
      "outputs": []
    },
    {
      "cell_type": "code",
      "source": [
        "low = data_refined['release_year'].quantile(0.1)"
      ],
      "metadata": {
        "id": "vTw_0WamlFJH"
      },
      "execution_count": null,
      "outputs": []
    },
    {
      "cell_type": "code",
      "source": [
        "data_filtered = data_refined[(data_refined['release_year']<high) & (data_refined['release_year']>low)]"
      ],
      "metadata": {
        "id": "Stq1a-ynlLa9"
      },
      "execution_count": null,
      "outputs": []
    },
    {
      "cell_type": "code",
      "source": [
        "data_filtered"
      ],
      "metadata": {
        "colab": {
          "base_uri": "https://localhost:8080/",
          "height": 884
        },
        "id": "1cMm4WQDl5gb",
        "outputId": "b38d9e3a-9e86-4399-9a5a-e0b2a572ce44"
      },
      "execution_count": null,
      "outputs": [
        {
          "output_type": "execute_result",
          "data": {
            "text/plain": [
              "       show_id   type                                              title  \\\n",
              "0           s1  Movie                               Dick Johnson Is Dead   \n",
              "514        s17  Movie  Europe's Most Dangerous Man: Otto Skorzeny in ...   \n",
              "515        s17  Movie  Europe's Most Dangerous Man: Otto Skorzeny in ...   \n",
              "516        s17  Movie  Europe's Most Dangerous Man: Otto Skorzeny in ...   \n",
              "517        s17  Movie  Europe's Most Dangerous Man: Otto Skorzeny in ...   \n",
              "...        ...    ...                                                ...   \n",
              "202060   s8807  Movie                                             Zubaan   \n",
              "202061   s8807  Movie                                             Zubaan   \n",
              "202062   s8807  Movie                                             Zubaan   \n",
              "202063   s8807  Movie                                             Zubaan   \n",
              "202064   s8807  Movie                                             Zubaan   \n",
              "\n",
              "                      director                    cast        country  \\\n",
              "0              Kirsten Johnson             Samuel West  United States   \n",
              "514     Pedro de Echave García      Michael Schumacher            NaN   \n",
              "515     Pedro de Echave García           Toyin Abraham            NaN   \n",
              "516      Pablo Azorín Williams      Michael Schumacher            NaN   \n",
              "517      Pablo Azorín Williams           Toyin Abraham            NaN   \n",
              "...                        ...                     ...            ...   \n",
              "202060             Mozez Singh          Anita Shabdish          India   \n",
              "202061             Mozez Singh          Anita Shabdish          India   \n",
              "202062             Mozez Singh   Chittaranjan Tripathy          India   \n",
              "202063             Mozez Singh   Chittaranjan Tripathy          India   \n",
              "202064             Mozez Singh   Chittaranjan Tripathy          India   \n",
              "\n",
              "       date_added  release_year rating duration              listed_in  \\\n",
              "0      2021-09-25          2020  PG-13   90 min          Documentaries   \n",
              "514    2021-09-22          2020  TV-MA   67 min          Documentaries   \n",
              "515    2021-09-22          2020  TV-MA   67 min   International Movies   \n",
              "516    2021-09-22          2020  TV-MA   67 min          Documentaries   \n",
              "517    2021-09-22          2020  TV-MA   67 min   International Movies   \n",
              "...           ...           ...    ...      ...                    ...   \n",
              "202060 2019-03-02          2015  TV-14  111 min   International Movies   \n",
              "202061 2019-03-02          2015  TV-14  111 min       Music & Musicals   \n",
              "202062 2019-03-02          2015  TV-14  111 min                 Dramas   \n",
              "202063 2019-03-02          2015  TV-14  111 min   International Movies   \n",
              "202064 2019-03-02          2015  TV-14  111 min       Music & Musicals   \n",
              "\n",
              "                                              description  year_added  \n",
              "0       As her father nears the end of his life, filmm...      2021.0  \n",
              "514     Declassified documents reveal the post-WWII li...      2021.0  \n",
              "515     Declassified documents reveal the post-WWII li...      2021.0  \n",
              "516     Declassified documents reveal the post-WWII li...      2021.0  \n",
              "517     Declassified documents reveal the post-WWII li...      2021.0  \n",
              "...                                                   ...         ...  \n",
              "202060  A scrappy but poor boy worms his way into a ty...      2019.0  \n",
              "202061  A scrappy but poor boy worms his way into a ty...      2019.0  \n",
              "202062  A scrappy but poor boy worms his way into a ty...      2019.0  \n",
              "202063  A scrappy but poor boy worms his way into a ty...      2019.0  \n",
              "202064  A scrappy but poor boy worms his way into a ty...      2019.0  \n",
              "\n",
              "[169961 rows x 13 columns]"
            ],
            "text/html": [
              "\n",
              "  <div id=\"df-590c225c-39cf-49c2-8edb-b0d1f50cf40d\">\n",
              "    <div class=\"colab-df-container\">\n",
              "      <div>\n",
              "<style scoped>\n",
              "    .dataframe tbody tr th:only-of-type {\n",
              "        vertical-align: middle;\n",
              "    }\n",
              "\n",
              "    .dataframe tbody tr th {\n",
              "        vertical-align: top;\n",
              "    }\n",
              "\n",
              "    .dataframe thead th {\n",
              "        text-align: right;\n",
              "    }\n",
              "</style>\n",
              "<table border=\"1\" class=\"dataframe\">\n",
              "  <thead>\n",
              "    <tr style=\"text-align: right;\">\n",
              "      <th></th>\n",
              "      <th>show_id</th>\n",
              "      <th>type</th>\n",
              "      <th>title</th>\n",
              "      <th>director</th>\n",
              "      <th>cast</th>\n",
              "      <th>country</th>\n",
              "      <th>date_added</th>\n",
              "      <th>release_year</th>\n",
              "      <th>rating</th>\n",
              "      <th>duration</th>\n",
              "      <th>listed_in</th>\n",
              "      <th>description</th>\n",
              "      <th>year_added</th>\n",
              "    </tr>\n",
              "  </thead>\n",
              "  <tbody>\n",
              "    <tr>\n",
              "      <th>0</th>\n",
              "      <td>s1</td>\n",
              "      <td>Movie</td>\n",
              "      <td>Dick Johnson Is Dead</td>\n",
              "      <td>Kirsten Johnson</td>\n",
              "      <td>Samuel West</td>\n",
              "      <td>United States</td>\n",
              "      <td>2021-09-25</td>\n",
              "      <td>2020</td>\n",
              "      <td>PG-13</td>\n",
              "      <td>90 min</td>\n",
              "      <td>Documentaries</td>\n",
              "      <td>As her father nears the end of his life, filmm...</td>\n",
              "      <td>2021.0</td>\n",
              "    </tr>\n",
              "    <tr>\n",
              "      <th>514</th>\n",
              "      <td>s17</td>\n",
              "      <td>Movie</td>\n",
              "      <td>Europe's Most Dangerous Man: Otto Skorzeny in ...</td>\n",
              "      <td>Pedro de Echave García</td>\n",
              "      <td>Michael Schumacher</td>\n",
              "      <td>NaN</td>\n",
              "      <td>2021-09-22</td>\n",
              "      <td>2020</td>\n",
              "      <td>TV-MA</td>\n",
              "      <td>67 min</td>\n",
              "      <td>Documentaries</td>\n",
              "      <td>Declassified documents reveal the post-WWII li...</td>\n",
              "      <td>2021.0</td>\n",
              "    </tr>\n",
              "    <tr>\n",
              "      <th>515</th>\n",
              "      <td>s17</td>\n",
              "      <td>Movie</td>\n",
              "      <td>Europe's Most Dangerous Man: Otto Skorzeny in ...</td>\n",
              "      <td>Pedro de Echave García</td>\n",
              "      <td>Toyin Abraham</td>\n",
              "      <td>NaN</td>\n",
              "      <td>2021-09-22</td>\n",
              "      <td>2020</td>\n",
              "      <td>TV-MA</td>\n",
              "      <td>67 min</td>\n",
              "      <td>International Movies</td>\n",
              "      <td>Declassified documents reveal the post-WWII li...</td>\n",
              "      <td>2021.0</td>\n",
              "    </tr>\n",
              "    <tr>\n",
              "      <th>516</th>\n",
              "      <td>s17</td>\n",
              "      <td>Movie</td>\n",
              "      <td>Europe's Most Dangerous Man: Otto Skorzeny in ...</td>\n",
              "      <td>Pablo Azorín Williams</td>\n",
              "      <td>Michael Schumacher</td>\n",
              "      <td>NaN</td>\n",
              "      <td>2021-09-22</td>\n",
              "      <td>2020</td>\n",
              "      <td>TV-MA</td>\n",
              "      <td>67 min</td>\n",
              "      <td>Documentaries</td>\n",
              "      <td>Declassified documents reveal the post-WWII li...</td>\n",
              "      <td>2021.0</td>\n",
              "    </tr>\n",
              "    <tr>\n",
              "      <th>517</th>\n",
              "      <td>s17</td>\n",
              "      <td>Movie</td>\n",
              "      <td>Europe's Most Dangerous Man: Otto Skorzeny in ...</td>\n",
              "      <td>Pablo Azorín Williams</td>\n",
              "      <td>Toyin Abraham</td>\n",
              "      <td>NaN</td>\n",
              "      <td>2021-09-22</td>\n",
              "      <td>2020</td>\n",
              "      <td>TV-MA</td>\n",
              "      <td>67 min</td>\n",
              "      <td>International Movies</td>\n",
              "      <td>Declassified documents reveal the post-WWII li...</td>\n",
              "      <td>2021.0</td>\n",
              "    </tr>\n",
              "    <tr>\n",
              "      <th>...</th>\n",
              "      <td>...</td>\n",
              "      <td>...</td>\n",
              "      <td>...</td>\n",
              "      <td>...</td>\n",
              "      <td>...</td>\n",
              "      <td>...</td>\n",
              "      <td>...</td>\n",
              "      <td>...</td>\n",
              "      <td>...</td>\n",
              "      <td>...</td>\n",
              "      <td>...</td>\n",
              "      <td>...</td>\n",
              "      <td>...</td>\n",
              "    </tr>\n",
              "    <tr>\n",
              "      <th>202060</th>\n",
              "      <td>s8807</td>\n",
              "      <td>Movie</td>\n",
              "      <td>Zubaan</td>\n",
              "      <td>Mozez Singh</td>\n",
              "      <td>Anita Shabdish</td>\n",
              "      <td>India</td>\n",
              "      <td>2019-03-02</td>\n",
              "      <td>2015</td>\n",
              "      <td>TV-14</td>\n",
              "      <td>111 min</td>\n",
              "      <td>International Movies</td>\n",
              "      <td>A scrappy but poor boy worms his way into a ty...</td>\n",
              "      <td>2019.0</td>\n",
              "    </tr>\n",
              "    <tr>\n",
              "      <th>202061</th>\n",
              "      <td>s8807</td>\n",
              "      <td>Movie</td>\n",
              "      <td>Zubaan</td>\n",
              "      <td>Mozez Singh</td>\n",
              "      <td>Anita Shabdish</td>\n",
              "      <td>India</td>\n",
              "      <td>2019-03-02</td>\n",
              "      <td>2015</td>\n",
              "      <td>TV-14</td>\n",
              "      <td>111 min</td>\n",
              "      <td>Music &amp; Musicals</td>\n",
              "      <td>A scrappy but poor boy worms his way into a ty...</td>\n",
              "      <td>2019.0</td>\n",
              "    </tr>\n",
              "    <tr>\n",
              "      <th>202062</th>\n",
              "      <td>s8807</td>\n",
              "      <td>Movie</td>\n",
              "      <td>Zubaan</td>\n",
              "      <td>Mozez Singh</td>\n",
              "      <td>Chittaranjan Tripathy</td>\n",
              "      <td>India</td>\n",
              "      <td>2019-03-02</td>\n",
              "      <td>2015</td>\n",
              "      <td>TV-14</td>\n",
              "      <td>111 min</td>\n",
              "      <td>Dramas</td>\n",
              "      <td>A scrappy but poor boy worms his way into a ty...</td>\n",
              "      <td>2019.0</td>\n",
              "    </tr>\n",
              "    <tr>\n",
              "      <th>202063</th>\n",
              "      <td>s8807</td>\n",
              "      <td>Movie</td>\n",
              "      <td>Zubaan</td>\n",
              "      <td>Mozez Singh</td>\n",
              "      <td>Chittaranjan Tripathy</td>\n",
              "      <td>India</td>\n",
              "      <td>2019-03-02</td>\n",
              "      <td>2015</td>\n",
              "      <td>TV-14</td>\n",
              "      <td>111 min</td>\n",
              "      <td>International Movies</td>\n",
              "      <td>A scrappy but poor boy worms his way into a ty...</td>\n",
              "      <td>2019.0</td>\n",
              "    </tr>\n",
              "    <tr>\n",
              "      <th>202064</th>\n",
              "      <td>s8807</td>\n",
              "      <td>Movie</td>\n",
              "      <td>Zubaan</td>\n",
              "      <td>Mozez Singh</td>\n",
              "      <td>Chittaranjan Tripathy</td>\n",
              "      <td>India</td>\n",
              "      <td>2019-03-02</td>\n",
              "      <td>2015</td>\n",
              "      <td>TV-14</td>\n",
              "      <td>111 min</td>\n",
              "      <td>Music &amp; Musicals</td>\n",
              "      <td>A scrappy but poor boy worms his way into a ty...</td>\n",
              "      <td>2019.0</td>\n",
              "    </tr>\n",
              "  </tbody>\n",
              "</table>\n",
              "<p>169961 rows × 13 columns</p>\n",
              "</div>\n",
              "      <button class=\"colab-df-convert\" onclick=\"convertToInteractive('df-590c225c-39cf-49c2-8edb-b0d1f50cf40d')\"\n",
              "              title=\"Convert this dataframe to an interactive table.\"\n",
              "              style=\"display:none;\">\n",
              "        \n",
              "  <svg xmlns=\"http://www.w3.org/2000/svg\" height=\"24px\"viewBox=\"0 0 24 24\"\n",
              "       width=\"24px\">\n",
              "    <path d=\"M0 0h24v24H0V0z\" fill=\"none\"/>\n",
              "    <path d=\"M18.56 5.44l.94 2.06.94-2.06 2.06-.94-2.06-.94-.94-2.06-.94 2.06-2.06.94zm-11 1L8.5 8.5l.94-2.06 2.06-.94-2.06-.94L8.5 2.5l-.94 2.06-2.06.94zm10 10l.94 2.06.94-2.06 2.06-.94-2.06-.94-.94-2.06-.94 2.06-2.06.94z\"/><path d=\"M17.41 7.96l-1.37-1.37c-.4-.4-.92-.59-1.43-.59-.52 0-1.04.2-1.43.59L10.3 9.45l-7.72 7.72c-.78.78-.78 2.05 0 2.83L4 21.41c.39.39.9.59 1.41.59.51 0 1.02-.2 1.41-.59l7.78-7.78 2.81-2.81c.8-.78.8-2.07 0-2.86zM5.41 20L4 18.59l7.72-7.72 1.47 1.35L5.41 20z\"/>\n",
              "  </svg>\n",
              "      </button>\n",
              "      \n",
              "  <style>\n",
              "    .colab-df-container {\n",
              "      display:flex;\n",
              "      flex-wrap:wrap;\n",
              "      gap: 12px;\n",
              "    }\n",
              "\n",
              "    .colab-df-convert {\n",
              "      background-color: #E8F0FE;\n",
              "      border: none;\n",
              "      border-radius: 50%;\n",
              "      cursor: pointer;\n",
              "      display: none;\n",
              "      fill: #1967D2;\n",
              "      height: 32px;\n",
              "      padding: 0 0 0 0;\n",
              "      width: 32px;\n",
              "    }\n",
              "\n",
              "    .colab-df-convert:hover {\n",
              "      background-color: #E2EBFA;\n",
              "      box-shadow: 0px 1px 2px rgba(60, 64, 67, 0.3), 0px 1px 3px 1px rgba(60, 64, 67, 0.15);\n",
              "      fill: #174EA6;\n",
              "    }\n",
              "\n",
              "    [theme=dark] .colab-df-convert {\n",
              "      background-color: #3B4455;\n",
              "      fill: #D2E3FC;\n",
              "    }\n",
              "\n",
              "    [theme=dark] .colab-df-convert:hover {\n",
              "      background-color: #434B5C;\n",
              "      box-shadow: 0px 1px 3px 1px rgba(0, 0, 0, 0.15);\n",
              "      filter: drop-shadow(0px 1px 2px rgba(0, 0, 0, 0.3));\n",
              "      fill: #FFFFFF;\n",
              "    }\n",
              "  </style>\n",
              "\n",
              "      <script>\n",
              "        const buttonEl =\n",
              "          document.querySelector('#df-590c225c-39cf-49c2-8edb-b0d1f50cf40d button.colab-df-convert');\n",
              "        buttonEl.style.display =\n",
              "          google.colab.kernel.accessAllowed ? 'block' : 'none';\n",
              "\n",
              "        async function convertToInteractive(key) {\n",
              "          const element = document.querySelector('#df-590c225c-39cf-49c2-8edb-b0d1f50cf40d');\n",
              "          const dataTable =\n",
              "            await google.colab.kernel.invokeFunction('convertToInteractive',\n",
              "                                                     [key], {});\n",
              "          if (!dataTable) return;\n",
              "\n",
              "          const docLinkHtml = 'Like what you see? Visit the ' +\n",
              "            '<a target=\"_blank\" href=https://colab.research.google.com/notebooks/data_table.ipynb>data table notebook</a>'\n",
              "            + ' to learn more about interactive tables.';\n",
              "          element.innerHTML = '';\n",
              "          dataTable['output_type'] = 'display_data';\n",
              "          await google.colab.output.renderOutput(dataTable, element);\n",
              "          const docLink = document.createElement('div');\n",
              "          docLink.innerHTML = docLinkHtml;\n",
              "          element.appendChild(docLink);\n",
              "        }\n",
              "      </script>\n",
              "    </div>\n",
              "  </div>\n",
              "  "
            ]
          },
          "metadata": {},
          "execution_count": 55
        }
      ]
    },
    {
      "cell_type": "markdown",
      "source": [
        "We can also use scatter plots or box plot to identify the outliers.\n",
        "\n",
        "For example"
      ],
      "metadata": {
        "id": "-VViLch-mGm6"
      }
    },
    {
      "cell_type": "code",
      "source": [
        "sns.boxplot(x = 'type', y = 'release_year', data = data_refined)"
      ],
      "metadata": {
        "colab": {
          "base_uri": "https://localhost:8080/",
          "height": 296
        },
        "id": "QuBDiPUfmMg1",
        "outputId": "a83a8a7f-1070-47e3-c80f-e37a20d95fc0"
      },
      "execution_count": null,
      "outputs": [
        {
          "output_type": "execute_result",
          "data": {
            "text/plain": [
              "<matplotlib.axes._subplots.AxesSubplot at 0x7fe6f08692e0>"
            ]
          },
          "metadata": {},
          "execution_count": 56
        },
        {
          "output_type": "display_data",
          "data": {
            "text/plain": [
              "<Figure size 432x288 with 1 Axes>"
            ],
            "image/png": "[encoded data removed]"
          },
          "metadata": {
            "needs_background": "light"
          }
        }
      ]
    },
    {
      "cell_type": "code",
      "source": [
        "sns.scatterplot(x = 'release_year',y = 'year_added', data = data_refined)"
      ],
      "metadata": {
        "colab": {
          "base_uri": "https://localhost:8080/",
          "height": 297
        },
        "id": "kHdSeVBPmwWF",
        "outputId": "6a3aff0c-1f6b-4a1e-85ce-b29605dff72f"
      },
      "execution_count": null,
      "outputs": [
        {
          "output_type": "execute_result",
          "data": {
            "text/plain": [
              "<matplotlib.axes._subplots.AxesSubplot at 0x7fe6f076dac0>"
            ]
          },
          "metadata": {},
          "execution_count": 57
        },
        {
          "output_type": "display_data",
          "data": {
            "text/plain": [
              "<Figure size 432x288 with 1 Axes>"
            ],
            "image/png": "[encoded data removed]"
          },
          "metadata": {
            "needs_background": "light"
          }
        }
      ]
    },
    {
      "cell_type": "markdown",
      "source": [
        "# Insights based on Non-Graphical and Visual Analysis "
      ],
      "metadata": {
        "id": "ZXbndTWP8Tqp"
      }
    },
    {
      "cell_type": "markdown",
      "source": [
        "1) Univariate non-graphical"
      ],
      "metadata": {
        "id": "u6deOCo98wxh"
      }
    },
    {
      "cell_type": "markdown",
      "source": [
        "Show ID"
      ],
      "metadata": {
        "id": "JH-aG6W7_5PU"
      }
    },
    {
      "cell_type": "code",
      "source": [
        "data_refined['show_id'].nunique() ## shows how many unique Show_ids are there"
      ],
      "metadata": {
        "colab": {
          "base_uri": "https://localhost:8080/"
        },
        "id": "zMenSM2E82C_",
        "outputId": "0c56c8e6-b52a-4350-c1d5-16fe0a7a7525"
      },
      "execution_count": null,
      "outputs": [
        {
          "output_type": "execute_result",
          "data": {
            "text/plain": [
              "8807"
            ]
          },
          "metadata": {},
          "execution_count": 61
        }
      ]
    },
    {
      "cell_type": "code",
      "source": [
        "data_refined['show_id'].value_counts() ## shows how many subset of one particular show ID are there"
      ],
      "metadata": {
        "colab": {
          "base_uri": "https://localhost:8080/"
        },
        "id": "q8mVqgXf9MEX",
        "outputId": "f363b305-c4c4-4c52-b138-6e923e1981b7"
      },
      "execution_count": null,
      "outputs": [
        {
          "output_type": "execute_result",
          "data": {
            "text/plain": [
              "s7165    700\n",
              "s6985    504\n",
              "s7516    468\n",
              "s2554    416\n",
              "s5306    378\n",
              "        ... \n",
              "s6330      1\n",
              "s8176      1\n",
              "s937       1\n",
              "s3387      1\n",
              "s1         1\n",
              "Name: show_id, Length: 8807, dtype: int64"
            ]
          },
          "metadata": {},
          "execution_count": 71
        }
      ]
    },
    {
      "cell_type": "code",
      "source": [
        "data_refined['show_id'].value_counts().min() ## check the minimum count of a particular show id"
      ],
      "metadata": {
        "colab": {
          "base_uri": "https://localhost:8080/"
        },
        "id": "-9_7js0saKBJ",
        "outputId": "11c4b2c2-b3fd-45c8-cef9-3dee10ba0a9f"
      },
      "execution_count": null,
      "outputs": [
        {
          "output_type": "execute_result",
          "data": {
            "text/plain": [
              "1"
            ]
          },
          "metadata": {},
          "execution_count": 180
        }
      ]
    },
    {
      "cell_type": "code",
      "source": [
        "data_refined['show_id'].value_counts().max() ## check the maximum count of a particular show ID"
      ],
      "metadata": {
        "colab": {
          "base_uri": "https://localhost:8080/"
        },
        "id": "iGclz4etaMq9",
        "outputId": "7ba90f25-453c-44a2-fbf1-2579d5a88db8"
      },
      "execution_count": null,
      "outputs": [
        {
          "output_type": "execute_result",
          "data": {
            "text/plain": [
              "700"
            ]
          },
          "metadata": {},
          "execution_count": 181
        }
      ]
    },
    {
      "cell_type": "markdown",
      "source": [
        "Title"
      ],
      "metadata": {
        "id": "i8d78hUS_69o"
      }
    },
    {
      "cell_type": "code",
      "source": [
        "data_refined['title'].nunique()"
      ],
      "metadata": {
        "colab": {
          "base_uri": "https://localhost:8080/"
        },
        "id": "6J1w_OYm-dnF",
        "outputId": "ab1f494c-1b15-4feb-d546-8a890229f882"
      },
      "execution_count": null,
      "outputs": [
        {
          "output_type": "execute_result",
          "data": {
            "text/plain": [
              "8807"
            ]
          },
          "metadata": {},
          "execution_count": 72
        }
      ]
    },
    {
      "cell_type": "code",
      "source": [
        "data_refined['title'].value_counts()"
      ],
      "metadata": {
        "colab": {
          "base_uri": "https://localhost:8080/"
        },
        "id": "CC_rgBfn-jl6",
        "outputId": "829ce67c-7ed7-4902-c936-97bfb8a17f1c"
      },
      "execution_count": null,
      "outputs": [
        {
          "output_type": "execute_result",
          "data": {
            "text/plain": [
              "Kahlil Gibran's The Prophet    700\n",
              "Holidays                       504\n",
              "Movie 43                       468\n",
              "The Eddy                       416\n",
              "Narcos                         378\n",
              "                              ... \n",
              "Blackfish                        1\n",
              "The 2000s                        1\n",
              "Miniforce: Super Dino Power      1\n",
              "Dancing with the Birds           1\n",
              "Dick Johnson Is Dead             1\n",
              "Name: title, Length: 8807, dtype: int64"
            ]
          },
          "metadata": {},
          "execution_count": 182
        }
      ]
    },
    {
      "cell_type": "markdown",
      "source": [
        "Director"
      ],
      "metadata": {
        "id": "ZfPARWDk_86l"
      }
    },
    {
      "cell_type": "code",
      "source": [
        "data_refined['director'].nunique()"
      ],
      "metadata": {
        "colab": {
          "base_uri": "https://localhost:8080/"
        },
        "id": "8OfmWydH-pPn",
        "outputId": "dd8aa007-00bd-4aee-8504-5ac5c4a9c449"
      },
      "execution_count": null,
      "outputs": [
        {
          "output_type": "execute_result",
          "data": {
            "text/plain": [
              "5120"
            ]
          },
          "metadata": {},
          "execution_count": 74
        }
      ]
    },
    {
      "cell_type": "code",
      "source": [
        "data_refined.duplicated(subset=['director'], keep = 'first')"
      ],
      "metadata": {
        "colab": {
          "base_uri": "https://localhost:8080/"
        },
        "id": "ti-pYDwU_Anw",
        "outputId": "e6489cc3-99de-43ba-d7aa-f692e0536e0d"
      },
      "execution_count": null,
      "outputs": [
        {
          "output_type": "execute_result",
          "data": {
            "text/plain": [
              "0         False\n",
              "1         False\n",
              "2          True\n",
              "3          True\n",
              "4          True\n",
              "          ...  \n",
              "202060     True\n",
              "202061     True\n",
              "202062     True\n",
              "202063     True\n",
              "202064     True\n",
              "Length: 202065, dtype: bool"
            ]
          },
          "metadata": {},
          "execution_count": 78
        }
      ]
    },
    {
      "cell_type": "code",
      "source": [
        "data_refined['director'].value_counts()"
      ],
      "metadata": {
        "colab": {
          "base_uri": "https://localhost:8080/"
        },
        "id": "54e4p-W7-uBp",
        "outputId": "07b995c6-526b-4a1b-8c7a-c37bf1b9c449"
      },
      "execution_count": null,
      "outputs": [
        {
          "output_type": "execute_result",
          "data": {
            "text/plain": [
              "Yasuhiro Irie      3226\n",
              "Danny Cannon       2797\n",
              "Noam Murro         2482\n",
              "Shin Won-ho        2415\n",
              "Kenny Ortega       1561\n",
              "                   ... \n",
              "Ari Levinson          1\n",
              "Tony Zierra           1\n",
              "Andrew Renzi          1\n",
              " Toby Trackman        1\n",
              "Kirsten Johnson       1\n",
              "Name: director, Length: 5120, dtype: int64"
            ]
          },
          "metadata": {},
          "execution_count": 87
        }
      ]
    },
    {
      "cell_type": "code",
      "source": [
        "data_refined['director'].value_counts().min()"
      ],
      "metadata": {
        "colab": {
          "base_uri": "https://localhost:8080/"
        },
        "id": "VK9a00ZVaZU3",
        "outputId": "65019cf6-d5e5-439b-c8de-5370c957d201"
      },
      "execution_count": null,
      "outputs": [
        {
          "output_type": "execute_result",
          "data": {
            "text/plain": [
              "1"
            ]
          },
          "metadata": {},
          "execution_count": 183
        }
      ]
    },
    {
      "cell_type": "code",
      "source": [
        "data_refined['director'].value_counts().max()"
      ],
      "metadata": {
        "colab": {
          "base_uri": "https://localhost:8080/"
        },
        "id": "h6aDTx0Vad4y",
        "outputId": "07b56cbc-1426-4373-ec33-b42c9da78bb4"
      },
      "execution_count": null,
      "outputs": [
        {
          "output_type": "execute_result",
          "data": {
            "text/plain": [
              "3226"
            ]
          },
          "metadata": {},
          "execution_count": 184
        }
      ]
    },
    {
      "cell_type": "code",
      "source": [
        "data_refined['director'].mode() # top frequency of the director"
      ],
      "metadata": {
        "colab": {
          "base_uri": "https://localhost:8080/"
        },
        "id": "kygam6ccagw5",
        "outputId": "b8be06f9-033e-470b-ba75-d64bb8ba8a9e"
      },
      "execution_count": null,
      "outputs": [
        {
          "output_type": "execute_result",
          "data": {
            "text/plain": [
              "0    Yasuhiro Irie\n",
              "dtype: object"
            ]
          },
          "metadata": {},
          "execution_count": 185
        }
      ]
    },
    {
      "cell_type": "markdown",
      "source": [
        "Cast"
      ],
      "metadata": {
        "id": "S_YqCZo_ABTC"
      }
    },
    {
      "cell_type": "code",
      "source": [
        "data_refined['cast'].nunique()"
      ],
      "metadata": {
        "colab": {
          "base_uri": "https://localhost:8080/"
        },
        "id": "ycNCQcNB_glV",
        "outputId": "43482df1-871b-4881-dca7-d722df384c93"
      },
      "execution_count": null,
      "outputs": [
        {
          "output_type": "execute_result",
          "data": {
            "text/plain": [
              "39296"
            ]
          },
          "metadata": {},
          "execution_count": 79
        }
      ]
    },
    {
      "cell_type": "code",
      "source": [
        "data_refined['cast'].value_counts()"
      ],
      "metadata": {
        "colab": {
          "base_uri": "https://localhost:8080/"
        },
        "id": "2udOZwLA_m9J",
        "outputId": "dff1af83-d130-45ce-9ecc-27aeef88fa96"
      },
      "execution_count": null,
      "outputs": [
        {
          "output_type": "execute_result",
          "data": {
            "text/plain": [
              "Samuel West           344\n",
              "David Attenborough    270\n",
              " Alfred Molina        160\n",
              " Anupam Kher          133\n",
              " Salma Hayek          130\n",
              "                     ... \n",
              "Christoph Niemann       1\n",
              " Tinker Hatfield        1\n",
              " Es Devlin              1\n",
              " Bjarke Ingels          1\n",
              " Brynna Drummond        1\n",
              "Name: cast, Length: 39296, dtype: int64"
            ]
          },
          "metadata": {},
          "execution_count": 82
        }
      ]
    },
    {
      "cell_type": "code",
      "source": [
        "data_refined['cast'].value_counts().min()"
      ],
      "metadata": {
        "colab": {
          "base_uri": "https://localhost:8080/"
        },
        "id": "ziISavUVapGw",
        "outputId": "3b90b919-4173-4dfe-fc8d-63481d88f10e"
      },
      "execution_count": null,
      "outputs": [
        {
          "output_type": "execute_result",
          "data": {
            "text/plain": [
              "1"
            ]
          },
          "metadata": {},
          "execution_count": 186
        }
      ]
    },
    {
      "cell_type": "code",
      "source": [
        "data_refined['cast'].value_counts().max()"
      ],
      "metadata": {
        "colab": {
          "base_uri": "https://localhost:8080/"
        },
        "id": "6OWJXKT2arwk",
        "outputId": "e9f53a79-15c6-418a-e243-d80600783adb"
      },
      "execution_count": null,
      "outputs": [
        {
          "output_type": "execute_result",
          "data": {
            "text/plain": [
              "344"
            ]
          },
          "metadata": {},
          "execution_count": 187
        }
      ]
    },
    {
      "cell_type": "code",
      "source": [
        "data_refined['cast'].mode() "
      ],
      "metadata": {
        "colab": {
          "base_uri": "https://localhost:8080/"
        },
        "id": "l83agsYDauHD",
        "outputId": "3d6bcdd6-eb4e-4fa6-a763-4b0fd1552035"
      },
      "execution_count": null,
      "outputs": [
        {
          "output_type": "execute_result",
          "data": {
            "text/plain": [
              "0    Samuel West\n",
              "dtype: object"
            ]
          },
          "metadata": {},
          "execution_count": 188
        }
      ]
    },
    {
      "cell_type": "markdown",
      "source": [
        "Country"
      ],
      "metadata": {
        "id": "_qxolGtnADR0"
      }
    },
    {
      "cell_type": "code",
      "source": [
        "data_refined['country'].nunique()"
      ],
      "metadata": {
        "colab": {
          "base_uri": "https://localhost:8080/"
        },
        "id": "zgVASWnX_qLc",
        "outputId": "31dd3d3c-eff7-47df-f631-061849a4366d"
      },
      "execution_count": null,
      "outputs": [
        {
          "output_type": "execute_result",
          "data": {
            "text/plain": [
              "39296"
            ]
          },
          "metadata": {},
          "execution_count": 81
        }
      ]
    },
    {
      "cell_type": "code",
      "source": [
        "data_refined['country'].value_counts()"
      ],
      "metadata": {
        "colab": {
          "base_uri": "https://localhost:8080/"
        },
        "id": "A4ytN5hD_w8N",
        "outputId": "4082b75c-87d3-474c-bd9e-4e5110ac1da1"
      },
      "execution_count": null,
      "outputs": [
        {
          "output_type": "execute_result",
          "data": {
            "text/plain": [
              "United States     59936\n",
              "India             22600\n",
              "United Kingdom     9751\n",
              "Japan              7595\n",
              "South Korea        4732\n",
              "                  ...  \n",
              "Greece                2\n",
              " Sri Lanka            2\n",
              " Nicaragua            1\n",
              " Uganda               1\n",
              " Kazakhstan           1\n",
              "Name: country, Length: 196, dtype: int64"
            ]
          },
          "metadata": {},
          "execution_count": 90
        }
      ]
    },
    {
      "cell_type": "code",
      "source": [
        "data_refined['country'].value_counts().min()"
      ],
      "metadata": {
        "colab": {
          "base_uri": "https://localhost:8080/"
        },
        "id": "9bZWoL29ax3-",
        "outputId": "c8734c25-aa86-4764-9510-e9e72b20f759"
      },
      "execution_count": null,
      "outputs": [
        {
          "output_type": "execute_result",
          "data": {
            "text/plain": [
              "1"
            ]
          },
          "metadata": {},
          "execution_count": 190
        }
      ]
    },
    {
      "cell_type": "code",
      "source": [
        "data_refined['country'].value_counts().max()"
      ],
      "metadata": {
        "colab": {
          "base_uri": "https://localhost:8080/"
        },
        "id": "rqMQ1ufEa1bj",
        "outputId": "b5c34aaa-755a-4c26-c22f-adc07fb4f538"
      },
      "execution_count": null,
      "outputs": [
        {
          "output_type": "execute_result",
          "data": {
            "text/plain": [
              "59936"
            ]
          },
          "metadata": {},
          "execution_count": 192
        }
      ]
    },
    {
      "cell_type": "code",
      "source": [
        "data_refined['country'].mode()"
      ],
      "metadata": {
        "colab": {
          "base_uri": "https://localhost:8080/"
        },
        "id": "AabzL7bJa4ch",
        "outputId": "30166256-eaac-4d06-cec0-2cd4681948f0"
      },
      "execution_count": null,
      "outputs": [
        {
          "output_type": "execute_result",
          "data": {
            "text/plain": [
              "0    United States\n",
              "dtype: object"
            ]
          },
          "metadata": {},
          "execution_count": 193
        }
      ]
    },
    {
      "cell_type": "markdown",
      "source": [
        "Release_year"
      ],
      "metadata": {
        "id": "tgPFdzKsAFO0"
      }
    },
    {
      "cell_type": "code",
      "source": [
        "data_refined['release_year'].nunique()"
      ],
      "metadata": {
        "colab": {
          "base_uri": "https://localhost:8080/"
        },
        "id": "etrw0JAEAMer",
        "outputId": "390f730b-ba9c-406b-fba6-8cf5a6344aa6"
      },
      "execution_count": null,
      "outputs": [
        {
          "output_type": "execute_result",
          "data": {
            "text/plain": [
              "74"
            ]
          },
          "metadata": {},
          "execution_count": 84
        }
      ]
    },
    {
      "cell_type": "code",
      "source": [
        "data['release_year'].value_counts() ## No need to use data_refined as there were no nested Release Years in original dataset"
      ],
      "metadata": {
        "colab": {
          "base_uri": "https://localhost:8080/"
        },
        "id": "R-plcs4RAQOv",
        "outputId": "af471a47-5d76-48ec-852a-d29a0d93a5c7"
      },
      "execution_count": null,
      "outputs": [
        {
          "output_type": "execute_result",
          "data": {
            "text/plain": [
              "2018    1147\n",
              "2017    1032\n",
              "2019    1030\n",
              "2020     953\n",
              "2016     902\n",
              "        ... \n",
              "1959       1\n",
              "1925       1\n",
              "1961       1\n",
              "1947       1\n",
              "1966       1\n",
              "Name: release_year, Length: 74, dtype: int64"
            ]
          },
          "metadata": {},
          "execution_count": 88
        }
      ]
    },
    {
      "cell_type": "code",
      "source": [
        "x = data.sort_values(['release_year']).head(1) ## check the outlier/earliest release_year\n",
        "x['release_year']"
      ],
      "metadata": {
        "colab": {
          "base_uri": "https://localhost:8080/"
        },
        "id": "VnrPpbODa9J0",
        "outputId": "7e0f6cd4-6c07-4f93-cbf9-17588ca800d4"
      },
      "execution_count": null,
      "outputs": [
        {
          "output_type": "execute_result",
          "data": {
            "text/plain": [
              "4250    1925\n",
              "Name: release_year, dtype: int64"
            ]
          },
          "metadata": {},
          "execution_count": 199
        }
      ]
    },
    {
      "cell_type": "code",
      "source": [
        "y = data.sort_values(['release_year'], ascending = False).head(1) ## check the outlier/latest release_year\n",
        "y['release_year']"
      ],
      "metadata": {
        "colab": {
          "base_uri": "https://localhost:8080/"
        },
        "id": "LedIprK-egY1",
        "outputId": "f5b3b7a0-ff98-4949-e2ef-4df678f1625f"
      },
      "execution_count": null,
      "outputs": [
        {
          "output_type": "execute_result",
          "data": {
            "text/plain": [
              "693    2021\n",
              "Name: release_year, dtype: int64"
            ]
          },
          "metadata": {},
          "execution_count": 200
        }
      ]
    },
    {
      "cell_type": "markdown",
      "source": [
        "Rating"
      ],
      "metadata": {
        "id": "oBtDErQOBJwp"
      }
    },
    {
      "cell_type": "code",
      "source": [
        "data_refined['rating'].nunique()"
      ],
      "metadata": {
        "colab": {
          "base_uri": "https://localhost:8080/"
        },
        "id": "gi7y5_WMBM_0",
        "outputId": "b95ac3d9-28c4-4c27-b950-ad74eab45073"
      },
      "execution_count": null,
      "outputs": [
        {
          "output_type": "execute_result",
          "data": {
            "text/plain": [
              "17"
            ]
          },
          "metadata": {},
          "execution_count": 91
        }
      ]
    },
    {
      "cell_type": "code",
      "source": [
        "data['rating'].value_counts()"
      ],
      "metadata": {
        "colab": {
          "base_uri": "https://localhost:8080/"
        },
        "id": "F8h9YXZTBPff",
        "outputId": "ac33f135-4275-4264-c6ef-f84cbbf8fe9b"
      },
      "execution_count": null,
      "outputs": [
        {
          "output_type": "execute_result",
          "data": {
            "text/plain": [
              "TV-MA       3207\n",
              "TV-14       2160\n",
              "TV-PG        863\n",
              "R            799\n",
              "PG-13        490\n",
              "TV-Y7        334\n",
              "TV-Y         307\n",
              "PG           287\n",
              "TV-G         220\n",
              "NR            80\n",
              "G             41\n",
              "TV-Y7-FV       6\n",
              "NC-17          3\n",
              "UR             3\n",
              "74 min         1\n",
              "84 min         1\n",
              "66 min         1\n",
              "Name: rating, dtype: int64"
            ]
          },
          "metadata": {},
          "execution_count": 92
        }
      ]
    },
    {
      "cell_type": "markdown",
      "source": [
        "listed_in\t"
      ],
      "metadata": {
        "id": "bjH3QMhrBcfQ"
      }
    },
    {
      "cell_type": "code",
      "source": [
        "data_refined['listed_in'].nunique()"
      ],
      "metadata": {
        "colab": {
          "base_uri": "https://localhost:8080/"
        },
        "id": "qT6Bc8qrBhy3",
        "outputId": "282ef52c-3082-40fb-86bc-848b1eb96d5e"
      },
      "execution_count": null,
      "outputs": [
        {
          "output_type": "execute_result",
          "data": {
            "text/plain": [
              "73"
            ]
          },
          "metadata": {},
          "execution_count": 96
        }
      ]
    },
    {
      "cell_type": "code",
      "source": [
        "data_refined['listed_in'].value_counts()"
      ],
      "metadata": {
        "colab": {
          "base_uri": "https://localhost:8080/"
        },
        "id": "ivNCNHyGBoSq",
        "outputId": "77a4b5b9-7c0b-4d48-f048-7ea13f37ae2b"
      },
      "execution_count": null,
      "outputs": [
        {
          "output_type": "execute_result",
          "data": {
            "text/plain": [
              " International Movies    27141\n",
              "Dramas                   19657\n",
              "Comedies                 13894\n",
              "Action & Adventure       12216\n",
              " Dramas                  10149\n",
              "                         ...  \n",
              " Stand-Up Comedy            24\n",
              "Romantic Movies             20\n",
              "TV Sci-Fi & Fantasy          7\n",
              "LGBTQ Movies                 5\n",
              "Sports Movies                3\n",
              "Name: listed_in, Length: 73, dtype: int64"
            ]
          },
          "metadata": {},
          "execution_count": 98
        }
      ]
    },
    {
      "cell_type": "code",
      "source": [
        "data_refined.info() # to check all the datatype"
      ],
      "metadata": {
        "colab": {
          "base_uri": "https://localhost:8080/"
        },
        "id": "aFAPYxrhCt6c",
        "outputId": "ae3bd2fb-7fd8-4e7a-bec5-8f31f3dbb152"
      },
      "execution_count": null,
      "outputs": [
        {
          "output_type": "stream",
          "name": "stdout",
          "text": [
            "<class 'pandas.core.frame.DataFrame'>\n",
            "Int64Index: 202065 entries, 0 to 202064\n",
            "Data columns (total 13 columns):\n",
            " #   Column        Non-Null Count   Dtype         \n",
            "---  ------        --------------   -----         \n",
            " 0   show_id       202065 non-null  object        \n",
            " 1   type          202065 non-null  object        \n",
            " 2   title         202065 non-null  object        \n",
            " 3   director      189012 non-null  object        \n",
            " 4   cast          201856 non-null  object        \n",
            " 5   country       192469 non-null  object        \n",
            " 6   date_added    201907 non-null  datetime64[ns]\n",
            " 7   release_year  202065 non-null  int64         \n",
            " 8   rating        201998 non-null  object        \n",
            " 9   duration      202062 non-null  object        \n",
            " 10  listed_in     202065 non-null  object        \n",
            " 11  description   202065 non-null  object        \n",
            " 12  year_added    201907 non-null  float64       \n",
            "dtypes: datetime64[ns](1), float64(1), int64(1), object(10)\n",
            "memory usage: 29.6+ MB\n"
          ]
        }
      ]
    },
    {
      "cell_type": "code",
      "source": [
        "## We can visualize and find the top in all category. The unique number of values each categories has. The range of each attributes, using mean and max.\n",
        "##Check the frequencey using mode, sort years to see early and lastest years when the movie was released"
      ],
      "metadata": {
        "id": "XoGBUgJyE1Lh"
      },
      "execution_count": null,
      "outputs": []
    },
    {
      "cell_type": "markdown",
      "source": [
        "Univariate Visual Analysis"
      ],
      "metadata": {
        "id": "8NaE7rq8C-1K"
      }
    },
    {
      "cell_type": "code",
      "source": [
        "dir = pd.DataFrame(data_refined['director'].value_counts().head())\n",
        "dir.reset_index(inplace = True)\n",
        "dir.rename(columns={'index':'director', 'director':'count'}, inplace = True)\n",
        "top_directors = data_refined.loc[data_refined['director'].isin(dir['director'])]"
      ],
      "metadata": {
        "id": "FoqOS2N-FIGL"
      },
      "execution_count": null,
      "outputs": []
    },
    {
      "cell_type": "code",
      "source": [
        "cast = pd.DataFrame(data_refined['cast'].value_counts().head())\n",
        "cast.reset_index(inplace = True)\n",
        "cast.rename(columns={'index':'cast', 'cast':'count'}, inplace = True)\n",
        "top_cast = data_refined.loc[data_refined['cast'].isin(cast['cast'])]"
      ],
      "metadata": {
        "id": "G7RHQDoWQfe_"
      },
      "execution_count": null,
      "outputs": []
    },
    {
      "cell_type": "code",
      "source": [
        "listed = pd.DataFrame(data_refined['listed_in'].value_counts().head())\n",
        "listed.reset_index(inplace = True)\n",
        "listed.rename(columns={'index':'listed_in', 'listed_in':'count'}, inplace = True)\n",
        "top_list = data_refined.loc[data_refined['listed_in'].isin(listed['listed_in'])]"
      ],
      "metadata": {
        "id": "LmEw32IiSE7g"
      },
      "execution_count": null,
      "outputs": []
    },
    {
      "cell_type": "code",
      "source": [
        "country = pd.DataFrame(data_refined['country'].value_counts().head())\n",
        "country.reset_index(inplace = True)\n",
        "country.rename(columns={'index':'country', 'country':'count'}, inplace = True)\n",
        "top_country = data_refined.loc[data_refined['country'].isin(country['country'])]"
      ],
      "metadata": {
        "id": "SSA01jMAS-rP"
      },
      "execution_count": null,
      "outputs": []
    },
    {
      "cell_type": "code",
      "source": [
        "rating = pd.DataFrame(data_refined['rating'].value_counts().head())\n",
        "rating.reset_index(inplace = True)\n",
        "rating.rename(columns={'index':'rating', 'rating':'count'}, inplace = True)\n",
        "top_rating = data_refined.loc[data_refined['rating'].isin(rating['rating'])]"
      ],
      "metadata": {
        "id": "dKiOzI2aTfWJ"
      },
      "execution_count": null,
      "outputs": []
    },
    {
      "cell_type": "code",
      "source": [
        "fig = plt.figure(figsize = (18,10))\n",
        "\n",
        "plt.subplot(2,4,1)\n",
        "sns.countplot(x = 'type', data = data)\n",
        "plt.title('Movies vs Shows')\n",
        "plt.xlabel(\"\")\n",
        "\n",
        "plt.subplot(2,4,2)\n",
        "sns.countplot(x = 'director',  data = top_directors)\n",
        "plt.title('Top 5 directors')\n",
        "plt.xticks(rotation = 45)\n",
        "plt.xlabel(\"\")\n",
        "\n",
        "plt.subplot(2,4,3)\n",
        "sns.histplot(data = data, x ='release_year', bins= 50, kde=True)\n",
        "plt.title('Movies/TV Shows in last 10 years')\n",
        "plt.xticks(rotation = 45)\n",
        "plt.xlabel(\"\")\n",
        "plt.xlim(2010,2021)\n",
        "\n",
        "plt.subplot(2,4,4)\n",
        "sns.countplot( x ='cast', data = top_cast)\n",
        "plt.title('Top 5 casts with max movies/shows')\n",
        "plt.xticks(rotation = 45)\n",
        "plt.xlabel(\"\")\n",
        "\n",
        "plt.subplot(2,4,5)\n",
        "sns.countplot( x ='listed_in', data = top_list)\n",
        "plt.title('Top 5 genres')\n",
        "plt.xticks(rotation = 45)\n",
        "plt.xlabel(\"\")\n",
        "\n",
        "plt.subplot(2,4,6)\n",
        "sns.countplot( x ='country', data = top_country)\n",
        "plt.title('Top 5 Countries')\n",
        "plt.xticks(rotation = 45)\n",
        "plt.xlabel(\"\")\n",
        "\n",
        "plt.subplot(2,4,7)\n",
        "sns.countplot( x ='rating', data = top_rating)\n",
        "plt.title('Top 5 Ratings')\n",
        "plt.xticks(rotation = 45)\n",
        "plt.xlabel(\"\")\n",
        "\n",
        "\n",
        "fig.suptitle(\"Univariate Visual Analysis\",  ha = 'center', va = 'bottom', fontsize = 15)\n",
        "plt.tight_layout()\n",
        "plt.show()"
      ],
      "metadata": {
        "colab": {
          "base_uri": "https://localhost:8080/",
          "height": 761
        },
        "id": "mSu61AoZDA97",
        "outputId": "015aaef1-11d1-4453-95f8-4188be976a60"
      },
      "execution_count": null,
      "outputs": [
        {
          "output_type": "display_data",
          "data": {
            "text/plain": [
              "<Figure size 1296x720 with 7 Axes>"
            ],
            "image/png": "[encoded data removed]"
          },
          "metadata": {
            "needs_background": "light"
          }
        }
      ]
    },
    {
      "cell_type": "markdown",
      "source": [
        "Following are the observation:\n",
        "\n",
        "1) Most movies are added than TV shows\n",
        "\n",
        "2)Yashuro Irie has directed most of movies/shows specially 'Animation'\n",
        "\n",
        "3) 2018-2019 has been year were max number of movies/shows were being added\n",
        "\n",
        "4) Internation Movies tops as most added Genre in Netflix\n",
        "\n",
        "5) Most of the movies/shows are rated TV- MA"
      ],
      "metadata": {
        "id": "KElH_KfrE38E"
      }
    },
    {
      "cell_type": "markdown",
      "source": [
        "Bivariate"
      ],
      "metadata": {
        "id": "nsOGkfj-Z4RP"
      }
    },
    {
      "cell_type": "code",
      "source": [
        "# let us check  director and actor combination\n",
        "data_refined[['director','cast']].value_counts()"
      ],
      "metadata": {
        "colab": {
          "base_uri": "https://localhost:8080/"
        },
        "id": "6lRCMxu4fbOt",
        "outputId": "3188ccf3-30b6-4faf-fd89-43537f675b88"
      },
      "execution_count": null,
      "outputs": [
        {
          "output_type": "execute_result",
          "data": {
            "text/plain": [
              "director                cast              \n",
              "Ken Burns                Lena Waithe          79\n",
              "Yasuhiro Irie            Takahiro Sakurai     47\n",
              "Danny Cannon             Deborah Ann Woll     42\n",
              " Barbara Schroeder      David Attenborough    42\n",
              "Michael Simon            Adriano Zumbo        40\n",
              "                                              ..\n",
              "Phil Sgriccia            John Billingsley      1\n",
              "                         Joe J. Thomas         1\n",
              "                         Joan Chen             1\n",
              "Adrián García Bogliano   Reina Triendl         1\n",
              " Aaron Moorhead          Ally Ioannides        1\n",
              "Length: 73927, dtype: int64"
            ]
          },
          "metadata": {},
          "execution_count": 205
        }
      ]
    },
    {
      "cell_type": "code",
      "source": [
        "# let us check  director and the genre they specialise\n",
        "data_refined[['director','listed_in']].value_counts()"
      ],
      "metadata": {
        "colab": {
          "base_uri": "https://localhost:8080/"
        },
        "id": "1PifhqEzgBEE",
        "outputId": "806fbd7f-8519-4e91-829d-ef55f17c75ef"
      },
      "execution_count": null,
      "outputs": [
        {
          "output_type": "execute_result",
          "data": {
            "text/plain": [
              "director            listed_in              \n",
              "Yasuhiro Irie       Anime Series               1733\n",
              "Danny Cannon         TV Dramas                 1559\n",
              "Kenny Ortega        Kids' TV                   1550\n",
              "Yasuhiro Irie        International TV Shows    1493\n",
              "Noam Murro          British TV Shows           1285\n",
              "                                               ... \n",
              "Estela Renner       Docuseries                    1\n",
              "Eva Müller           International Movies         1\n",
              "                    Documentaries                 1\n",
              "Shweta Basu Prasad  Documentaries                 1\n",
              "Jon Manning         Documentaries                 1\n",
              "Length: 12516, dtype: int64"
            ]
          },
          "metadata": {},
          "execution_count": 206
        }
      ]
    },
    {
      "cell_type": "code",
      "source": [
        "# let us check  director and country \n",
        "data_refined[['director','country']].value_counts()"
      ],
      "metadata": {
        "colab": {
          "base_uri": "https://localhost:8080/"
        },
        "id": "lteYz0mSgPVe",
        "outputId": "14b74402-8930-4241-e035-18e84482c987"
      },
      "execution_count": null,
      "outputs": [
        {
          "output_type": "execute_result",
          "data": {
            "text/plain": [
              "director           country       \n",
              "Yasuhiro Irie      Japan             3226\n",
              "Danny Cannon       United States     2797\n",
              "Shin Won-ho        South Korea       2415\n",
              "Noam Murro         United Kingdom    1976\n",
              "Kenny Ortega       United States     1561\n",
              "                                     ... \n",
              " Demetri Martin    United States        1\n",
              " Deepti Kakkar     United States        1\n",
              "Todd Standing      United States        1\n",
              " Zackary Canepari  United States        1\n",
              " Claus Wehlisch     Sweden              1\n",
              "Length: 6842, dtype: int64"
            ]
          },
          "metadata": {},
          "execution_count": 207
        }
      ]
    },
    {
      "cell_type": "code",
      "source": [
        "# let us check  genre and their releases in different country \n",
        "data_refined[['listed_in','country']].value_counts()"
      ],
      "metadata": {
        "colab": {
          "base_uri": "https://localhost:8080/"
        },
        "id": "sufllyiQgr4o",
        "outputId": "46eff533-8574-4aba-896d-70c3226e8bd7"
      },
      "execution_count": null,
      "outputs": [
        {
          "output_type": "execute_result",
          "data": {
            "text/plain": [
              "listed_in                      country      \n",
              " International Movies          India            6706\n",
              "Dramas                         United States    5147\n",
              "Comedies                       United States    5048\n",
              "Children & Family Movies       United States    4709\n",
              "Action & Adventure             United States    4508\n",
              "                                                ... \n",
              "Documentaries                   Armenia            1\n",
              " Stand-Up Comedy & Talk Shows  Brazil              1\n",
              "                                Mexico             1\n",
              " Sports Movies                 Uruguay             1\n",
              "                                Panama             1\n",
              "Length: 2421, dtype: int64"
            ]
          },
          "metadata": {},
          "execution_count": 208
        }
      ]
    },
    {
      "cell_type": "code",
      "source": [
        "# Cast vs Genre\n",
        "data_refined[['cast','listed_in']].value_counts()"
      ],
      "metadata": {
        "colab": {
          "base_uri": "https://localhost:8080/"
        },
        "id": "zqDgmTLZg-c8",
        "outputId": "dedbff1a-9111-4c37-be28-d8542dd15283"
      },
      "execution_count": null,
      "outputs": [
        {
          "output_type": "execute_result",
          "data": {
            "text/plain": [
              "cast                listed_in               \n",
              "Samuel West         Documentaries               317\n",
              "David Attenborough   Docuseries                 108\n",
              " Lena Waithe        Docuseries                   97\n",
              "David Attenborough  British TV Shows             68\n",
              " Alfred Molina      Children & Family Movies     62\n",
              "                                               ... \n",
              " Juliet Donenfeld    TV Comedies                  1\n",
              " Juliet Ashworth    International TV Shows        1\n",
              "                     Reality TV                   1\n",
              " Julien Souve       Dramas                        1\n",
              "Ṣọpẹ́ Dìrísù        Horror Movies                 1\n",
              "Length: 121140, dtype: int64"
            ]
          },
          "metadata": {},
          "execution_count": 210
        }
      ]
    },
    {
      "cell_type": "code",
      "source": [
        "# Let us target top 5 countries and see top 5 actor director combination"
      ],
      "metadata": {
        "id": "YXofWC0LhMgJ"
      },
      "execution_count": null,
      "outputs": []
    },
    {
      "cell_type": "code",
      "source": [
        "data_refined['country'].value_counts().head() # so the top countries are US, India, UK, Japan and South Korea"
      ],
      "metadata": {
        "colab": {
          "base_uri": "https://localhost:8080/"
        },
        "id": "cMXVw5rHhcJc",
        "outputId": "21a22781-1dc2-4a18-9ac2-ea5a92721344"
      },
      "execution_count": null,
      "outputs": [
        {
          "output_type": "execute_result",
          "data": {
            "text/plain": [
              "United States     59936\n",
              "India             22600\n",
              "United Kingdom     9751\n",
              "Japan              7595\n",
              "South Korea        4732\n",
              "Name: country, dtype: int64"
            ]
          },
          "metadata": {},
          "execution_count": 211
        }
      ]
    },
    {
      "cell_type": "code",
      "source": [
        "# United States"
      ],
      "metadata": {
        "id": "5QjfHdA1EfuU"
      },
      "execution_count": null,
      "outputs": []
    },
    {
      "cell_type": "code",
      "source": [
        "data_refined.loc[(data_refined['country']=='United States'), ['country','director','cast','listed_in']].value_counts().head().unstack()"
      ],
      "metadata": {
        "colab": {
          "base_uri": "https://localhost:8080/",
          "height": 238
        },
        "id": "qYt3xpt0hoSB",
        "outputId": "dc7f0dd6-fa47-4903-d336-64887d12c454"
      },
      "execution_count": null,
      "outputs": [
        {
          "output_type": "execute_result",
          "data": {
            "text/plain": [
              "listed_in                                                Docuseries  \\\n",
              "country       director               cast                             \n",
              "United States Ken Burns               Lena Waithe              79.0   \n",
              "               Barbara Schroeder     David Attenborough         NaN   \n",
              "              Michael Simon           Adriano Zumbo             NaN   \n",
              "              Danny Cannon            Deborah Ann Woll          NaN   \n",
              "              Adrián García Bogliano Bear Grylls                NaN   \n",
              "\n",
              "listed_in                                                 Docuseries  \\\n",
              "country       director               cast                              \n",
              "United States Ken Burns               Lena Waithe                NaN   \n",
              "               Barbara Schroeder     David Attenborough         42.0   \n",
              "              Michael Simon           Adriano Zumbo              NaN   \n",
              "              Danny Cannon            Deborah Ann Woll           NaN   \n",
              "              Adrián García Bogliano Bear Grylls                 NaN   \n",
              "\n",
              "listed_in                                                Reality TV  \\\n",
              "country       director               cast                             \n",
              "United States Ken Burns               Lena Waithe               NaN   \n",
              "               Barbara Schroeder     David Attenborough         NaN   \n",
              "              Michael Simon           Adriano Zumbo            40.0   \n",
              "              Danny Cannon            Deborah Ann Woll          NaN   \n",
              "              Adrián García Bogliano Bear Grylls                NaN   \n",
              "\n",
              "listed_in                                                Crime TV Shows  \\\n",
              "country       director               cast                                 \n",
              "United States Ken Burns               Lena Waithe                   NaN   \n",
              "               Barbara Schroeder     David Attenborough             NaN   \n",
              "              Michael Simon           Adriano Zumbo                 NaN   \n",
              "              Danny Cannon            Deborah Ann Woll             38.0   \n",
              "              Adrián García Bogliano Bear Grylls                    NaN   \n",
              "\n",
              "listed_in                                                 Reality TV  \n",
              "country       director               cast                             \n",
              "United States Ken Burns               Lena Waithe                NaN  \n",
              "               Barbara Schroeder     David Attenborough          NaN  \n",
              "              Michael Simon           Adriano Zumbo              NaN  \n",
              "              Danny Cannon            Deborah Ann Woll           NaN  \n",
              "              Adrián García Bogliano Bear Grylls                34.0  "
            ],
            "text/html": [
              "\n",
              "  <div id=\"df-dbdf5660-1783-423b-8e3c-c827219dd01f\">\n",
              "    <div class=\"colab-df-container\">\n",
              "      <div>\n",
              "<style scoped>\n",
              "    .dataframe tbody tr th:only-of-type {\n",
              "        vertical-align: middle;\n",
              "    }\n",
              "\n",
              "    .dataframe tbody tr th {\n",
              "        vertical-align: top;\n",
              "    }\n",
              "\n",
              "    .dataframe thead th {\n",
              "        text-align: right;\n",
              "    }\n",
              "</style>\n",
              "<table border=\"1\" class=\"dataframe\">\n",
              "  <thead>\n",
              "    <tr style=\"text-align: right;\">\n",
              "      <th></th>\n",
              "      <th></th>\n",
              "      <th>listed_in</th>\n",
              "      <th>Docuseries</th>\n",
              "      <th>Docuseries</th>\n",
              "      <th>Reality TV</th>\n",
              "      <th>Crime TV Shows</th>\n",
              "      <th>Reality TV</th>\n",
              "    </tr>\n",
              "    <tr>\n",
              "      <th>country</th>\n",
              "      <th>director</th>\n",
              "      <th>cast</th>\n",
              "      <th></th>\n",
              "      <th></th>\n",
              "      <th></th>\n",
              "      <th></th>\n",
              "      <th></th>\n",
              "    </tr>\n",
              "  </thead>\n",
              "  <tbody>\n",
              "    <tr>\n",
              "      <th rowspan=\"5\" valign=\"top\">United States</th>\n",
              "      <th>Ken Burns</th>\n",
              "      <th>Lena Waithe</th>\n",
              "      <td>79.0</td>\n",
              "      <td>NaN</td>\n",
              "      <td>NaN</td>\n",
              "      <td>NaN</td>\n",
              "      <td>NaN</td>\n",
              "    </tr>\n",
              "    <tr>\n",
              "      <th>Barbara Schroeder</th>\n",
              "      <th>David Attenborough</th>\n",
              "      <td>NaN</td>\n",
              "      <td>42.0</td>\n",
              "      <td>NaN</td>\n",
              "      <td>NaN</td>\n",
              "      <td>NaN</td>\n",
              "    </tr>\n",
              "    <tr>\n",
              "      <th>Michael Simon</th>\n",
              "      <th>Adriano Zumbo</th>\n",
              "      <td>NaN</td>\n",
              "      <td>NaN</td>\n",
              "      <td>40.0</td>\n",
              "      <td>NaN</td>\n",
              "      <td>NaN</td>\n",
              "    </tr>\n",
              "    <tr>\n",
              "      <th>Danny Cannon</th>\n",
              "      <th>Deborah Ann Woll</th>\n",
              "      <td>NaN</td>\n",
              "      <td>NaN</td>\n",
              "      <td>NaN</td>\n",
              "      <td>38.0</td>\n",
              "      <td>NaN</td>\n",
              "    </tr>\n",
              "    <tr>\n",
              "      <th>Adrián García Bogliano</th>\n",
              "      <th>Bear Grylls</th>\n",
              "      <td>NaN</td>\n",
              "      <td>NaN</td>\n",
              "      <td>NaN</td>\n",
              "      <td>NaN</td>\n",
              "      <td>34.0</td>\n",
              "    </tr>\n",
              "  </tbody>\n",
              "</table>\n",
              "</div>\n",
              "      <button class=\"colab-df-convert\" onclick=\"convertToInteractive('df-dbdf5660-1783-423b-8e3c-c827219dd01f')\"\n",
              "              title=\"Convert this dataframe to an interactive table.\"\n",
              "              style=\"display:none;\">\n",
              "        \n",
              "  <svg xmlns=\"http://www.w3.org/2000/svg\" height=\"24px\"viewBox=\"0 0 24 24\"\n",
              "       width=\"24px\">\n",
              "    <path d=\"M0 0h24v24H0V0z\" fill=\"none\"/>\n",
              "    <path d=\"M18.56 5.44l.94 2.06.94-2.06 2.06-.94-2.06-.94-.94-2.06-.94 2.06-2.06.94zm-11 1L8.5 8.5l.94-2.06 2.06-.94-2.06-.94L8.5 2.5l-.94 2.06-2.06.94zm10 10l.94 2.06.94-2.06 2.06-.94-2.06-.94-.94-2.06-.94 2.06-2.06.94z\"/><path d=\"M17.41 7.96l-1.37-1.37c-.4-.4-.92-.59-1.43-.59-.52 0-1.04.2-1.43.59L10.3 9.45l-7.72 7.72c-.78.78-.78 2.05 0 2.83L4 21.41c.39.39.9.59 1.41.59.51 0 1.02-.2 1.41-.59l7.78-7.78 2.81-2.81c.8-.78.8-2.07 0-2.86zM5.41 20L4 18.59l7.72-7.72 1.47 1.35L5.41 20z\"/>\n",
              "  </svg>\n",
              "      </button>\n",
              "      \n",
              "  <style>\n",
              "    .colab-df-container {\n",
              "      display:flex;\n",
              "      flex-wrap:wrap;\n",
              "      gap: 12px;\n",
              "    }\n",
              "\n",
              "    .colab-df-convert {\n",
              "      background-color: #E8F0FE;\n",
              "      border: none;\n",
              "      border-radius: 50%;\n",
              "      cursor: pointer;\n",
              "      display: none;\n",
              "      fill: #1967D2;\n",
              "      height: 32px;\n",
              "      padding: 0 0 0 0;\n",
              "      width: 32px;\n",
              "    }\n",
              "\n",
              "    .colab-df-convert:hover {\n",
              "      background-color: #E2EBFA;\n",
              "      box-shadow: 0px 1px 2px rgba(60, 64, 67, 0.3), 0px 1px 3px 1px rgba(60, 64, 67, 0.15);\n",
              "      fill: #174EA6;\n",
              "    }\n",
              "\n",
              "    [theme=dark] .colab-df-convert {\n",
              "      background-color: #3B4455;\n",
              "      fill: #D2E3FC;\n",
              "    }\n",
              "\n",
              "    [theme=dark] .colab-df-convert:hover {\n",
              "      background-color: #434B5C;\n",
              "      box-shadow: 0px 1px 3px 1px rgba(0, 0, 0, 0.15);\n",
              "      filter: drop-shadow(0px 1px 2px rgba(0, 0, 0, 0.3));\n",
              "      fill: #FFFFFF;\n",
              "    }\n",
              "  </style>\n",
              "\n",
              "      <script>\n",
              "        const buttonEl =\n",
              "          document.querySelector('#df-dbdf5660-1783-423b-8e3c-c827219dd01f button.colab-df-convert');\n",
              "        buttonEl.style.display =\n",
              "          google.colab.kernel.accessAllowed ? 'block' : 'none';\n",
              "\n",
              "        async function convertToInteractive(key) {\n",
              "          const element = document.querySelector('#df-dbdf5660-1783-423b-8e3c-c827219dd01f');\n",
              "          const dataTable =\n",
              "            await google.colab.kernel.invokeFunction('convertToInteractive',\n",
              "                                                     [key], {});\n",
              "          if (!dataTable) return;\n",
              "\n",
              "          const docLinkHtml = 'Like what you see? Visit the ' +\n",
              "            '<a target=\"_blank\" href=https://colab.research.google.com/notebooks/data_table.ipynb>data table notebook</a>'\n",
              "            + ' to learn more about interactive tables.';\n",
              "          element.innerHTML = '';\n",
              "          dataTable['output_type'] = 'display_data';\n",
              "          await google.colab.output.renderOutput(dataTable, element);\n",
              "          const docLink = document.createElement('div');\n",
              "          docLink.innerHTML = docLinkHtml;\n",
              "          element.appendChild(docLink);\n",
              "        }\n",
              "      </script>\n",
              "    </div>\n",
              "  </div>\n",
              "  "
            ]
          },
          "metadata": {},
          "execution_count": 225
        }
      ]
    },
    {
      "cell_type": "code",
      "source": [
        "# India"
      ],
      "metadata": {
        "id": "TMqZ1t3FEh7f"
      },
      "execution_count": null,
      "outputs": []
    },
    {
      "cell_type": "code",
      "source": [
        "data_refined.loc[(data_refined['country']=='India'), ['country','director','cast','listed_in']].value_counts().head(20)"
      ],
      "metadata": {
        "colab": {
          "base_uri": "https://localhost:8080/"
        },
        "id": "BaGz8i65iTeW",
        "outputId": "e95a8059-d849-4a8a-fff6-05b8418985ca"
      },
      "execution_count": null,
      "outputs": [
        {
          "output_type": "execute_result",
          "data": {
            "text/plain": [
              "country  director              cast               listed_in               \n",
              "India    Rajiv Chilaka          Julie Tejwani     Children & Family Movies    22\n",
              "                                Rajesh Kava       Children & Family Movies    19\n",
              "                                Jigna Bhardwaj    Children & Family Movies    18\n",
              "                                Rupa Bhimani      Children & Family Movies    18\n",
              "                               Vatsal Dubey       Children & Family Movies    16\n",
              "                                Mousam            Children & Family Movies    13\n",
              "                                Swapnil           Children & Family Movies    13\n",
              "         David Dhawan           Anupam Kher        International Movies        7\n",
              "          B. V. Nandini Reddy   Amala Paul        International TV Shows       7\n",
              "         Soumendra Padhi        Jitendra Joshi     International TV Shows      7\n",
              "         S.S. Rajamouli         Ramya Krishnan    Action & Adventure           7\n",
              "                                Anushka Shetty     Dramas                      7\n",
              "                                                   International Movies        7\n",
              "                                                  Action & Adventure           7\n",
              "                                Tamannaah Bhatia  Action & Adventure           7\n",
              "                                Nassar             Dramas                      7\n",
              "                                                   International Movies        7\n",
              "                                                  Action & Adventure           7\n",
              "                                Ramya Krishnan     Dramas                      7\n",
              "                                                   International Movies        7\n",
              "dtype: int64"
            ]
          },
          "metadata": {},
          "execution_count": 228
        }
      ]
    },
    {
      "cell_type": "code",
      "source": [
        "#United Kingdom"
      ],
      "metadata": {
        "id": "zDyNUaJhEjcn"
      },
      "execution_count": null,
      "outputs": []
    },
    {
      "cell_type": "code",
      "source": [
        "data_refined.loc[(data_refined['country']=='United Kingdom'), ['country','director','cast','listed_in']].value_counts().head()"
      ],
      "metadata": {
        "colab": {
          "base_uri": "https://localhost:8080/"
        },
        "id": "UoxPc__SiaX-",
        "outputId": "e96cebfc-b71c-4b53-e74f-3a0116980888"
      },
      "execution_count": null,
      "outputs": [
        {
          "output_type": "execute_result",
          "data": {
            "text/plain": [
              "country         director         cast                  listed_in              \n",
              "United Kingdom  Noam Murro       David Attenborough    British TV Shows           35\n",
              "                Simon Frederick  David Attenborough     Docuseries                26\n",
              "                Noam Murro        Harriet Walter        International TV Shows    20\n",
              "                Andy Devonshire   Paul Hollywood        Reality TV                12\n",
              "                Michael Samuels   Charlie Creed-Miles   Crime TV Shows             8\n",
              "dtype: int64"
            ]
          },
          "metadata": {},
          "execution_count": 231
        }
      ]
    },
    {
      "cell_type": "code",
      "source": [
        "# Japan"
      ],
      "metadata": {
        "id": "slwEm7qKEnq6"
      },
      "execution_count": null,
      "outputs": []
    },
    {
      "cell_type": "code",
      "source": [
        "data_refined.loc[(data_refined['country']=='Japan'), ['country','director','cast','listed_in']].value_counts().head(9)"
      ],
      "metadata": {
        "colab": {
          "base_uri": "https://localhost:8080/"
        },
        "id": "QlQtW88iifYF",
        "outputId": "667e1473-0272-4d63-e379-10853e139cab"
      },
      "execution_count": null,
      "outputs": [
        {
          "output_type": "execute_result",
          "data": {
            "text/plain": [
              "country  director       cast               listed_in              \n",
              "Japan    Yasuhiro Irie   Takahiro Sakurai  Anime Series               25\n",
              "                                            International TV Shows    22\n",
              "                         Yuki Kaji          International TV Shows    16\n",
              "                                           Anime Series               16\n",
              "                         Junichi Suwabe     International TV Shows    16\n",
              "                                           Anime Series               16\n",
              "                         Ai Kayano         Anime Series               15\n",
              "                                            International TV Shows    14\n",
              "                         Yuichi Nakamura   Anime Series               13\n",
              "dtype: int64"
            ]
          },
          "metadata": {},
          "execution_count": 240
        }
      ]
    },
    {
      "cell_type": "markdown",
      "source": [
        "Bivariate Visual Analysis"
      ],
      "metadata": {
        "id": "JXyx3d7Vklj4"
      }
    },
    {
      "cell_type": "code",
      "source": [
        "data_refined.head()"
      ],
      "metadata": {
        "colab": {
          "base_uri": "https://localhost:8080/",
          "height": 337
        },
        "id": "n3xs174OkqRt",
        "outputId": "49628cc4-43e2-4ece-cc18-711babef2ca4"
      },
      "execution_count": null,
      "outputs": [
        {
          "output_type": "execute_result",
          "data": {
            "text/plain": [
              "  show_id     type                 title         director          cast  \\\n",
              "0      s1    Movie  Dick Johnson Is Dead  Kirsten Johnson   Samuel West   \n",
              "1      s2  TV Show         Blood & Water              NaN    Ama Qamata   \n",
              "2      s2  TV Show         Blood & Water              NaN    Ama Qamata   \n",
              "3      s2  TV Show         Blood & Water              NaN    Ama Qamata   \n",
              "4      s2  TV Show         Blood & Water              NaN   Khosi Ngema   \n",
              "\n",
              "         country date_added  release_year rating   duration  \\\n",
              "0  United States 2021-09-25          2020  PG-13     90 min   \n",
              "1   South Africa 2021-09-24          2021  TV-MA  2 Seasons   \n",
              "2   South Africa 2021-09-24          2021  TV-MA  2 Seasons   \n",
              "3   South Africa 2021-09-24          2021  TV-MA  2 Seasons   \n",
              "4   South Africa 2021-09-24          2021  TV-MA  2 Seasons   \n",
              "\n",
              "                listed_in                                        description  \\\n",
              "0           Documentaries  As her father nears the end of his life, filmm...   \n",
              "1  International TV Shows  After crossing paths at a party, a Cape Town t...   \n",
              "2               TV Dramas  After crossing paths at a party, a Cape Town t...   \n",
              "3            TV Mysteries  After crossing paths at a party, a Cape Town t...   \n",
              "4  International TV Shows  After crossing paths at a party, a Cape Town t...   \n",
              "\n",
              "   year_added  \n",
              "0      2021.0  \n",
              "1      2021.0  \n",
              "2      2021.0  \n",
              "3      2021.0  \n",
              "4      2021.0  "
            ],
            "text/html": [
              "\n",
              "  <div id=\"df-443e5a42-29b9-430e-9390-97d7617f4318\">\n",
              "    <div class=\"colab-df-container\">\n",
              "      <div>\n",
              "<style scoped>\n",
              "    .dataframe tbody tr th:only-of-type {\n",
              "        vertical-align: middle;\n",
              "    }\n",
              "\n",
              "    .dataframe tbody tr th {\n",
              "        vertical-align: top;\n",
              "    }\n",
              "\n",
              "    .dataframe thead th {\n",
              "        text-align: right;\n",
              "    }\n",
              "</style>\n",
              "<table border=\"1\" class=\"dataframe\">\n",
              "  <thead>\n",
              "    <tr style=\"text-align: right;\">\n",
              "      <th></th>\n",
              "      <th>show_id</th>\n",
              "      <th>type</th>\n",
              "      <th>title</th>\n",
              "      <th>director</th>\n",
              "      <th>cast</th>\n",
              "      <th>country</th>\n",
              "      <th>date_added</th>\n",
              "      <th>release_year</th>\n",
              "      <th>rating</th>\n",
              "      <th>duration</th>\n",
              "      <th>listed_in</th>\n",
              "      <th>description</th>\n",
              "      <th>year_added</th>\n",
              "    </tr>\n",
              "  </thead>\n",
              "  <tbody>\n",
              "    <tr>\n",
              "      <th>0</th>\n",
              "      <td>s1</td>\n",
              "      <td>Movie</td>\n",
              "      <td>Dick Johnson Is Dead</td>\n",
              "      <td>Kirsten Johnson</td>\n",
              "      <td>Samuel West</td>\n",
              "      <td>United States</td>\n",
              "      <td>2021-09-25</td>\n",
              "      <td>2020</td>\n",
              "      <td>PG-13</td>\n",
              "      <td>90 min</td>\n",
              "      <td>Documentaries</td>\n",
              "      <td>As her father nears the end of his life, filmm...</td>\n",
              "      <td>2021.0</td>\n",
              "    </tr>\n",
              "    <tr>\n",
              "      <th>1</th>\n",
              "      <td>s2</td>\n",
              "      <td>TV Show</td>\n",
              "      <td>Blood &amp; Water</td>\n",
              "      <td>NaN</td>\n",
              "      <td>Ama Qamata</td>\n",
              "      <td>South Africa</td>\n",
              "      <td>2021-09-24</td>\n",
              "      <td>2021</td>\n",
              "      <td>TV-MA</td>\n",
              "      <td>2 Seasons</td>\n",
              "      <td>International TV Shows</td>\n",
              "      <td>After crossing paths at a party, a Cape Town t...</td>\n",
              "      <td>2021.0</td>\n",
              "    </tr>\n",
              "    <tr>\n",
              "      <th>2</th>\n",
              "      <td>s2</td>\n",
              "      <td>TV Show</td>\n",
              "      <td>Blood &amp; Water</td>\n",
              "      <td>NaN</td>\n",
              "      <td>Ama Qamata</td>\n",
              "      <td>South Africa</td>\n",
              "      <td>2021-09-24</td>\n",
              "      <td>2021</td>\n",
              "      <td>TV-MA</td>\n",
              "      <td>2 Seasons</td>\n",
              "      <td>TV Dramas</td>\n",
              "      <td>After crossing paths at a party, a Cape Town t...</td>\n",
              "      <td>2021.0</td>\n",
              "    </tr>\n",
              "    <tr>\n",
              "      <th>3</th>\n",
              "      <td>s2</td>\n",
              "      <td>TV Show</td>\n",
              "      <td>Blood &amp; Water</td>\n",
              "      <td>NaN</td>\n",
              "      <td>Ama Qamata</td>\n",
              "      <td>South Africa</td>\n",
              "      <td>2021-09-24</td>\n",
              "      <td>2021</td>\n",
              "      <td>TV-MA</td>\n",
              "      <td>2 Seasons</td>\n",
              "      <td>TV Mysteries</td>\n",
              "      <td>After crossing paths at a party, a Cape Town t...</td>\n",
              "      <td>2021.0</td>\n",
              "    </tr>\n",
              "    <tr>\n",
              "      <th>4</th>\n",
              "      <td>s2</td>\n",
              "      <td>TV Show</td>\n",
              "      <td>Blood &amp; Water</td>\n",
              "      <td>NaN</td>\n",
              "      <td>Khosi Ngema</td>\n",
              "      <td>South Africa</td>\n",
              "      <td>2021-09-24</td>\n",
              "      <td>2021</td>\n",
              "      <td>TV-MA</td>\n",
              "      <td>2 Seasons</td>\n",
              "      <td>International TV Shows</td>\n",
              "      <td>After crossing paths at a party, a Cape Town t...</td>\n",
              "      <td>2021.0</td>\n",
              "    </tr>\n",
              "  </tbody>\n",
              "</table>\n",
              "</div>\n",
              "      <button class=\"colab-df-convert\" onclick=\"convertToInteractive('df-443e5a42-29b9-430e-9390-97d7617f4318')\"\n",
              "              title=\"Convert this dataframe to an interactive table.\"\n",
              "              style=\"display:none;\">\n",
              "        \n",
              "  <svg xmlns=\"http://www.w3.org/2000/svg\" height=\"24px\"viewBox=\"0 0 24 24\"\n",
              "       width=\"24px\">\n",
              "    <path d=\"M0 0h24v24H0V0z\" fill=\"none\"/>\n",
              "    <path d=\"M18.56 5.44l.94 2.06.94-2.06 2.06-.94-2.06-.94-.94-2.06-.94 2.06-2.06.94zm-11 1L8.5 8.5l.94-2.06 2.06-.94-2.06-.94L8.5 2.5l-.94 2.06-2.06.94zm10 10l.94 2.06.94-2.06 2.06-.94-2.06-.94-.94-2.06-.94 2.06-2.06.94z\"/><path d=\"M17.41 7.96l-1.37-1.37c-.4-.4-.92-.59-1.43-.59-.52 0-1.04.2-1.43.59L10.3 9.45l-7.72 7.72c-.78.78-.78 2.05 0 2.83L4 21.41c.39.39.9.59 1.41.59.51 0 1.02-.2 1.41-.59l7.78-7.78 2.81-2.81c.8-.78.8-2.07 0-2.86zM5.41 20L4 18.59l7.72-7.72 1.47 1.35L5.41 20z\"/>\n",
              "  </svg>\n",
              "      </button>\n",
              "      \n",
              "  <style>\n",
              "    .colab-df-container {\n",
              "      display:flex;\n",
              "      flex-wrap:wrap;\n",
              "      gap: 12px;\n",
              "    }\n",
              "\n",
              "    .colab-df-convert {\n",
              "      background-color: #E8F0FE;\n",
              "      border: none;\n",
              "      border-radius: 50%;\n",
              "      cursor: pointer;\n",
              "      display: none;\n",
              "      fill: #1967D2;\n",
              "      height: 32px;\n",
              "      padding: 0 0 0 0;\n",
              "      width: 32px;\n",
              "    }\n",
              "\n",
              "    .colab-df-convert:hover {\n",
              "      background-color: #E2EBFA;\n",
              "      box-shadow: 0px 1px 2px rgba(60, 64, 67, 0.3), 0px 1px 3px 1px rgba(60, 64, 67, 0.15);\n",
              "      fill: #174EA6;\n",
              "    }\n",
              "\n",
              "    [theme=dark] .colab-df-convert {\n",
              "      background-color: #3B4455;\n",
              "      fill: #D2E3FC;\n",
              "    }\n",
              "\n",
              "    [theme=dark] .colab-df-convert:hover {\n",
              "      background-color: #434B5C;\n",
              "      box-shadow: 0px 1px 3px 1px rgba(0, 0, 0, 0.15);\n",
              "      filter: drop-shadow(0px 1px 2px rgba(0, 0, 0, 0.3));\n",
              "      fill: #FFFFFF;\n",
              "    }\n",
              "  </style>\n",
              "\n",
              "      <script>\n",
              "        const buttonEl =\n",
              "          document.querySelector('#df-443e5a42-29b9-430e-9390-97d7617f4318 button.colab-df-convert');\n",
              "        buttonEl.style.display =\n",
              "          google.colab.kernel.accessAllowed ? 'block' : 'none';\n",
              "\n",
              "        async function convertToInteractive(key) {\n",
              "          const element = document.querySelector('#df-443e5a42-29b9-430e-9390-97d7617f4318');\n",
              "          const dataTable =\n",
              "            await google.colab.kernel.invokeFunction('convertToInteractive',\n",
              "                                                     [key], {});\n",
              "          if (!dataTable) return;\n",
              "\n",
              "          const docLinkHtml = 'Like what you see? Visit the ' +\n",
              "            '<a target=\"_blank\" href=https://colab.research.google.com/notebooks/data_table.ipynb>data table notebook</a>'\n",
              "            + ' to learn more about interactive tables.';\n",
              "          element.innerHTML = '';\n",
              "          dataTable['output_type'] = 'display_data';\n",
              "          await google.colab.output.renderOutput(dataTable, element);\n",
              "          const docLink = document.createElement('div');\n",
              "          docLink.innerHTML = docLinkHtml;\n",
              "          element.appendChild(docLink);\n",
              "        }\n",
              "      </script>\n",
              "    </div>\n",
              "  </div>\n",
              "  "
            ]
          },
          "metadata": {},
          "execution_count": 241
        }
      ]
    },
    {
      "cell_type": "code",
      "source": [
        "dir_cast = pd.DataFrame(data_refined[['director','cast']].value_counts().head())\n",
        "dir_cast.reset_index(inplace=True)\n",
        "top_dir_cast = data_refined.loc[(data_refined['director'].isin(dir_cast['director'])) & (data_refined['cast'].isin(dir_cast['cast']))]"
      ],
      "metadata": {
        "id": "wIWcfNcDlDDZ"
      },
      "execution_count": null,
      "outputs": []
    },
    {
      "cell_type": "code",
      "source": [
        "dir_coun = pd.DataFrame(data_refined[['director','country']].value_counts().head())\n",
        "dir_coun.reset_index(inplace=True)\n",
        "top_dir_coun = data_refined.loc[(data_refined['director'].isin(dir_coun['director'])) & (data_refined['country'].isin(dir_coun['country']))]"
      ],
      "metadata": {
        "id": "-YZMcGx3p6vy"
      },
      "execution_count": null,
      "outputs": []
    },
    {
      "cell_type": "code",
      "source": [
        "cast_gen = pd.DataFrame(data_refined[['cast','listed_in']].value_counts().head(6))\n",
        "cast_gen.reset_index(inplace=True)\n",
        "top_cast_gen = data_refined.loc[(data_refined['listed_in'].isin(cast_gen['listed_in'])) & (data_refined['cast'].isin(cast_gen['cast']))]"
      ],
      "metadata": {
        "id": "DkLA5bCqq6o2"
      },
      "execution_count": null,
      "outputs": []
    },
    {
      "cell_type": "code",
      "source": [
        "latest_release = data_refined.loc[(data_refined['release_year']>2011)]"
      ],
      "metadata": {
        "id": "CaGBugkfs6Od"
      },
      "execution_count": null,
      "outputs": []
    },
    {
      "cell_type": "code",
      "source": [
        "ten_years = pd.DataFrame(latest_release[['director','release_year']].value_counts().head(7))\n",
        "ten_years.reset_index(inplace=True)\n",
        "top_dir_ten_years = data_refined.loc[(data_refined['director'].isin(ten_years['director'])) & (data_refined['release_year'].isin(ten_years['release_year']))]"
      ],
      "metadata": {
        "id": "E-Yms2l8uC0U"
      },
      "execution_count": null,
      "outputs": []
    },
    {
      "cell_type": "code",
      "source": [
        "latest_release1 = data_refined.loc[(data_refined['release_year']>2011)]\n",
        "ten_years1 = pd.DataFrame(latest_release[['cast','release_year']].value_counts().head())\n",
        "ten_years1.reset_index(inplace=True)\n",
        "top_cast_ten_years = data_refined.loc[(data_refined['cast'].isin(ten_years1['cast'])) & (data_refined['release_year'].isin(ten_years1['release_year']))]"
      ],
      "metadata": {
        "id": "nblztLH3wzba"
      },
      "execution_count": null,
      "outputs": []
    },
    {
      "cell_type": "code",
      "source": [
        "fig = plt.figure(figsize = (18,10))\n",
        "\n",
        "plt.subplot(2,3,1)\n",
        "sns.countplot(x = 'director', data = top_dir_cast, hue = 'cast', dodge = False)\n",
        "plt.title('Top Directors and whom they mostly casts(in legend)')\n",
        "plt.xticks(rotation = 45)\n",
        "plt.legend(loc = 'upper right')\n",
        "\n",
        "\n",
        "plt.subplot(2,3,5)\n",
        "sns.countplot(x = 'director',  data = top_dir_coun, hue = 'country', dodge = False)\n",
        "plt.title('Top 5 directors and country they release their shows')\n",
        "plt.xticks(rotation = 45)\n",
        "plt.xlabel(\"\")\n",
        "plt.legend(loc = 'upper center')\n",
        "\n",
        "plt.subplot(2,3,3)\n",
        "sns.countplot(data = top_cast_gen, x ='cast', hue = 'listed_in', dodge=False)\n",
        "plt.title(\"Top Cast's with preferred Genre\")\n",
        "plt.xticks(rotation = 45)\n",
        "plt.xlabel(\"\")\n",
        "\n",
        "\n",
        "plt.subplot(2,3,4)\n",
        "sns.kdeplot( x ='release_year', data = top_dir_ten_years, hue = 'director' )\n",
        "plt.title('Directors highly active in last 10 years')\n",
        "plt.xticks(rotation = 45)\n",
        "plt.xlabel(\"\")\n",
        "\n",
        "plt.subplot(2,3,6)\n",
        "sns.scatterplot( x ='year_added', y = 'release_year', data = data_refined)\n",
        "plt.title('Difference in Movies being released to added')\n",
        "plt.xticks(rotation = 45)\n",
        "plt.xlabel(\"Date Added\")\n",
        "\n",
        "plt.subplot(2,3,2)\n",
        "sns.boxplot( x = 'type', y ='year_added', data = data_refined)\n",
        "plt.title('Movies/shows added')\n",
        "plt.xticks(rotation = 45)\n",
        "plt.xlabel(\"\")\n",
        "\n",
        "\n",
        "\n",
        "fig.suptitle(\"Bivariate Visual Analysis\",  ha = 'right', va = 'bottom', fontsize = 15)\n",
        "plt.tight_layout()\n",
        "plt.show()"
      ],
      "metadata": {
        "colab": {
          "base_uri": "https://localhost:8080/",
          "height": 761
        },
        "id": "sma8diS9kou8",
        "outputId": "01600d8c-2d91-4c92-91dc-33d023591fd1"
      },
      "execution_count": null,
      "outputs": [
        {
          "output_type": "display_data",
          "data": {
            "text/plain": [
              "<Figure size 1296x720 with 6 Axes>"
            ],
            "image/png": "[encoded data removed]"
          },
          "metadata": {
            "needs_background": "light"
          }
        }
      ]
    },
    {
      "cell_type": "markdown",
      "source": [
        "Using the above visual analysis on Bivariate Data, we can observe that:\n",
        "\n",
        "1) Ken Burns works along with Lena Waithe (cast) and they both have release highest number of movies/shows.\n",
        "\n",
        "2)Most of the movies and shows were added between 2018-2020.\n",
        "\n",
        "3) Samuel West who have been seen in most movies/shows are listed in Documentaries.\n",
        "\n",
        "4)Noam Murro and Danny Cannon have been actively releasing lots of movies in last 10 years.\n",
        "\n",
        "5)Most of the movies are released in United States.\n",
        "\n",
        "6) Samuel West one of the top casts(based on frequency) has been casted in lot of documentary movies/shows"
      ],
      "metadata": {
        "id": "fHwMDu7v_ZaX"
      }
    },
    {
      "cell_type": "markdown",
      "source": [
        "# Business Insights "
      ],
      "metadata": {
        "id": "1nDLzlSB_1tM"
      }
    },
    {
      "cell_type": "markdown",
      "source": [
        "1) Yasuhire Irie has directed most of TV Shows (His experitise lies in Anime series followed by International TV Shows)"
      ],
      "metadata": {
        "id": "2z_I6Q2FALWB"
      }
    },
    {
      "cell_type": "code",
      "source": [
        "data_refined.loc[(data_refined['director']=='Yasuhiro Irie'), ['listed_in']].value_counts().plot(kind='pie', title = 'Genre', label = \" \")\n",
        "plt.show()"
      ],
      "metadata": {
        "colab": {
          "base_uri": "https://localhost:8080/",
          "height": 264
        },
        "id": "5VXqfn6TJfoS",
        "outputId": "6240bc91-536d-48b2-f586-2017e5039dd5"
      },
      "execution_count": null,
      "outputs": [
        {
          "output_type": "display_data",
          "data": {
            "text/plain": [
              "<Figure size 432x288 with 1 Axes>"
            ],
            "image/png": "[encoded data removed]"
          },
          "metadata": {}
        }
      ]
    },
    {
      "cell_type": "markdown",
      "source": [
        "2) Robert Rodriguez has directed most of the movies and genre he has directed mostly is Children & Family Movies."
      ],
      "metadata": {
        "id": "dZ6LnRGkLF7o"
      }
    },
    {
      "cell_type": "code",
      "source": [
        "data_refined.loc[(data_refined['type']=='Movie'),['director','listed_in']].value_counts().head().plot(kind='bar')\n",
        "plt.show()"
      ],
      "metadata": {
        "colab": {
          "base_uri": "https://localhost:8080/",
          "height": 496
        },
        "id": "0X2JODVYLGdc",
        "outputId": "04f9dbff-0f43-4d03-e4bf-da9e129651f8"
      },
      "execution_count": null,
      "outputs": [
        {
          "output_type": "display_data",
          "data": {
            "text/plain": [
              "<Figure size 432x288 with 1 Axes>"
            ],
            "image/png": "[encoded data removed]"
          },
          "metadata": {
            "needs_background": "light"
          }
        }
      ]
    },
    {
      "cell_type": "markdown",
      "source": [
        "3) Most of the movies/shows are added for United States which suggest immense viewership and subscription. The preffered type is Movie specially (Dramas, Comedies, Children & Family Movies, Action % Adventure). The list is then followed by India and common genre is 'International Movies\""
      ],
      "metadata": {
        "id": "c1WpnbXMKnNM"
      }
    },
    {
      "cell_type": "code",
      "source": [
        "data_refined[['country']].value_counts().head().plot(kind = 'barh')\n",
        "plt.show()"
      ],
      "metadata": {
        "colab": {
          "base_uri": "https://localhost:8080/",
          "height": 265
        },
        "id": "nSzN8IocM2mm",
        "outputId": "1103955b-8a7c-4b30-822b-dc00931b7387"
      },
      "execution_count": null,
      "outputs": [
        {
          "output_type": "display_data",
          "data": {
            "text/plain": [
              "<Figure size 432x288 with 1 Axes>"
            ],
            "image/png": "[encoded data removed]"
          },
          "metadata": {
            "needs_background": "light"
          }
        }
      ]
    },
    {
      "cell_type": "code",
      "source": [
        "data_refined[['country','listed_in']].value_counts().head().plot(kind = 'barh')\n",
        "plt.show()"
      ],
      "metadata": {
        "colab": {
          "base_uri": "https://localhost:8080/",
          "height": 265
        },
        "id": "x5tO4PzeOtD3",
        "outputId": "cf0aac5a-9af4-4330-ab13-abcd298236e9"
      },
      "execution_count": null,
      "outputs": [
        {
          "output_type": "display_data",
          "data": {
            "text/plain": [
              "<Figure size 432x288 with 1 Axes>"
            ],
            "image/png": "[encoded data removed]"
          },
          "metadata": {
            "needs_background": "light"
          }
        }
      ]
    },
    {
      "cell_type": "markdown",
      "source": [
        "4) Netflix invests lots in International Movies, followed by Dramas & Comedies.\n"
      ],
      "metadata": {
        "id": "cBxG3dUFMy78"
      }
    },
    {
      "cell_type": "code",
      "source": [
        "data_refined[['listed_in']].value_counts().head(3).plot(kind = 'pie', label=\" \")\n",
        "plt.show()"
      ],
      "metadata": {
        "colab": {
          "base_uri": "https://localhost:8080/",
          "height": 248
        },
        "id": "KCvRRPpHO9s-",
        "outputId": "1ceca77c-84a2-49c2-d114-bc1f747a2d5a"
      },
      "execution_count": null,
      "outputs": [
        {
          "output_type": "display_data",
          "data": {
            "text/plain": [
              "<Figure size 432x288 with 1 Axes>"
            ],
            "image/png": "[encoded data removed]"
          },
          "metadata": {}
        }
      ]
    },
    {
      "cell_type": "markdown",
      "source": [
        "5) Japan has more viewers an fan following for Anime Series"
      ],
      "metadata": {
        "id": "uswwAy_aPPnX"
      }
    },
    {
      "cell_type": "code",
      "source": [
        "data_refined.loc[(data_refined['country']=='Japan'),['listed_in']].value_counts().head().plot(kind='bar')\n",
        "plt.show()"
      ],
      "metadata": {
        "colab": {
          "base_uri": "https://localhost:8080/",
          "height": 399
        },
        "id": "DRuj3eVsPVj8",
        "outputId": "8e7ea7cb-8e5f-44c0-bfa5-6e29046d2cd8"
      },
      "execution_count": null,
      "outputs": [
        {
          "output_type": "display_data",
          "data": {
            "text/plain": [
              "<Figure size 432x288 with 1 Axes>"
            ],
            "image/png": "[encoded data removed]"
          },
          "metadata": {
            "needs_background": "light"
          }
        }
      ]
    },
    {
      "cell_type": "markdown",
      "source": [
        "6) Most of the movies and shows were added between 2018-2020, which suggest addition of subscription world wide."
      ],
      "metadata": {
        "id": "KpjbtVcPPhIr"
      }
    },
    {
      "cell_type": "code",
      "source": [
        "data_refined[['year_added']].plot(kind = 'kde')\n",
        "plt.grid()\n",
        "plt.show()"
      ],
      "metadata": {
        "colab": {
          "base_uri": "https://localhost:8080/",
          "height": 265
        },
        "id": "vO_b_FwkPlGE",
        "outputId": "2e06e9a1-ba46-4a43-864c-decaf926dac0"
      },
      "execution_count": null,
      "outputs": [
        {
          "output_type": "display_data",
          "data": {
            "text/plain": [
              "<Figure size 432x288 with 1 Axes>"
            ],
            "image/png": "[encoded data removed]"
          },
          "metadata": {
            "needs_background": "light"
          }
        }
      ]
    },
    {
      "cell_type": "markdown",
      "source": [
        "# Recommendations"
      ],
      "metadata": {
        "id": "Z41vnSheQbK4"
      }
    },
    {
      "cell_type": "markdown",
      "source": [
        "1) India seems to be next in line in terms of adding new movies, which directly proves increase in membership/subscription and most Indians moving to OTT platform. Netflix can offer flexible subscription to first time users and offer more variety of shows rather than international movies to target larger audience\n",
        "\n",
        "2) International TV movies tops the list of Genre being added in Netflix, netflix should look into adding more quality content with similar Genre and focusing their recomendation based on Geography. \n",
        "\n",
        "3) Japan(one of the smallest country) in top 5 countries where movies are added seems to have huge Anime series fan following, however the content are limited to few directors. Netflix should open to add more content with different directors and keep thei customer happy.\n",
        "\n",
        "4) Netflix should try introduce local movies in different countries as they have a very less number of viewership which suggest that they don't prefer international movies(one of the highest genre of movie added)\n"
      ],
      "metadata": {
        "id": "Vi7smCPuQuNw"
      }
    }
  ]
}